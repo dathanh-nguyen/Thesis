{
 "cells": [
  {
   "cell_type": "markdown",
   "id": "86eeff10-857c-4a80-a002-2c114d17bae2",
   "metadata": {},
   "source": [
    "## Environment set-up and getting the company sample from the sustainability reports"
   ]
  },
  {
   "cell_type": "code",
   "execution_count": 1,
   "id": "cf478d7c-9148-4226-a33b-100bc8d9deba",
   "metadata": {},
   "outputs": [
    {
     "name": "stderr",
     "output_type": "stream",
     "text": [
      "04/24/2023 09:24:50 AM - NumExpr defaulting to 8 threads.\n"
     ]
    }
   ],
   "source": [
    "from gnews import GNews\n",
    "from newspaper import Article\n",
    "import nltk\n",
    "import pandas as pd\n",
    "from nltk.tokenize import sent_tokenize\n",
    "from nltk.stem import PorterStemmer, WordNetLemmatizer\n",
    "import re\n",
    "import requests\n",
    "import os"
   ]
  },
  {
   "cell_type": "code",
   "execution_count": 2,
   "id": "ca9b4cf5-dd0f-4430-85ba-18912ec5f523",
   "metadata": {},
   "outputs": [
    {
     "data": {
      "text/plain": [
       "'C:\\\\Users\\\\tnguyen10\\\\OneDrive - Deloitte (O365D)\\\\Documents\\\\GitHub\\\\Thesis\\\\data_pre-processing'"
      ]
     },
     "execution_count": 2,
     "metadata": {},
     "output_type": "execute_result"
    }
   ],
   "source": [
    "os.getcwd()"
   ]
  },
  {
   "cell_type": "code",
   "execution_count": 231,
   "id": "65eeb2e4-a4e4-438a-9d3a-0f352110e7f9",
   "metadata": {},
   "outputs": [],
   "source": [
    "path_reports = 'C:\\\\Users\\\\tnguyen10\\\\OneDrive - Deloitte (O365D)\\\\Documents\\\\GitHub\\\\Thesis\\\\data\\\\reports'"
   ]
  },
  {
   "cell_type": "code",
   "execution_count": 232,
   "id": "507ff15d-d68d-41b2-8123-89247b160278",
   "metadata": {},
   "outputs": [],
   "source": [
    "sample = os.listdir(path_reports)"
   ]
  },
  {
   "cell_type": "code",
   "execution_count": 233,
   "id": "c809e1f5-efb7-4221-b024-d1ddb2364da7",
   "metadata": {},
   "outputs": [],
   "source": [
    "# converting to panda series because I find it easier to manipulate\n",
    "company_list = [word.split('.')[0] for word in sample]\n",
    "company_list = pd.Series(company_list)"
   ]
  },
  {
   "cell_type": "markdown",
   "id": "9633f630-918c-4649-9180-97138ffb1514",
   "metadata": {},
   "source": [
    "We're planning to use these company names in the Google News search engine. First, to do that though, we need to replace the ampersand character with '%26' so that the search engine can read it as an ampersand character - this only applies to P&G and H&M. "
   ]
  },
  {
   "cell_type": "code",
   "execution_count": 234,
   "id": "8a751e3a-5cce-4f55-9fda-6bc7a830c957",
   "metadata": {},
   "outputs": [],
   "source": [
    "search_list = pd.Series(company_list)\n",
    "search_list = search_list.str.replace('&','%26')"
   ]
  },
  {
   "cell_type": "code",
   "execution_count": 235,
   "id": "9a341bec-deff-4e84-a9fa-2075976ec25d",
   "metadata": {},
   "outputs": [
    {
     "data": {
      "text/plain": [
       "['abb',\n",
       " 'adidas',\n",
       " 'airbus',\n",
       " 'apple',\n",
       " 'bayer',\n",
       " 'beiersdorf',\n",
       " 'blackrock',\n",
       " 'bmw',\n",
       " 'boeing',\n",
       " 'cemex',\n",
       " 'chevron',\n",
       " 'chipotle',\n",
       " 'citi',\n",
       " 'coca-cola',\n",
       " 'colgate',\n",
       " 'danone',\n",
       " 'dell',\n",
       " 'dhl',\n",
       " 'diageo',\n",
       " 'dupont',\n",
       " 'edp',\n",
       " 'enel',\n",
       " 'eversource',\n",
       " 'exxon',\n",
       " 'ford-motor',\n",
       " 'general-mills',\n",
       " 'google',\n",
       " 'h%26m',\n",
       " 'henkel',\n",
       " 'hershey',\n",
       " 'honda',\n",
       " 'hp',\n",
       " 'hyundai',\n",
       " 'ibm',\n",
       " 'inditex',\n",
       " 'intel',\n",
       " 'komatsu',\n",
       " 'linde',\n",
       " 'mcdonald',\n",
       " 'mercedes',\n",
       " 'microsoft',\n",
       " 'mitsubishi',\n",
       " 'mondelez',\n",
       " 'nestle',\n",
       " 'nextera',\n",
       " 'nike',\n",
       " 'p%26g',\n",
       " 'pepsico',\n",
       " 'ralph-lauren',\n",
       " 'renault',\n",
       " 'rio-tinto',\n",
       " 'schneider-electric',\n",
       " 'shell',\n",
       " 'sonoco',\n",
       " 'starbucks',\n",
       " 'tesco',\n",
       " 'tesla',\n",
       " 'totalenergies',\n",
       " 'toyota',\n",
       " 'veolia',\n",
       " 'volkswagen',\n",
       " 'volvo',\n",
       " 'walmart']"
      ]
     },
     "execution_count": 235,
     "metadata": {},
     "output_type": "execute_result"
    }
   ],
   "source": [
    "list(search_list)"
   ]
  },
  {
   "cell_type": "markdown",
   "id": "ba1892b3-d968-4140-ab2e-3c5ca595d2ff",
   "metadata": {},
   "source": [
    "I also go ahead here and change the names of the companies here so that I can use it when excluding publisher names - see below. This is subject to change based on what kind of websites companies use to share news."
   ]
  },
  {
   "cell_type": "code",
   "execution_count": 236,
   "id": "320ec1ab-cf2b-4742-b7c7-880806446bad",
   "metadata": {},
   "outputs": [
    {
     "data": {
      "text/plain": [
       "0            abb\n",
       "1         adidas\n",
       "2         airbus\n",
       "3          apple\n",
       "4          bayer\n",
       "         ...    \n",
       "58        toyota\n",
       "59        veolia\n",
       "60    volkswagen\n",
       "61         volvo\n",
       "62       walmart\n",
       "Length: 63, dtype: object"
      ]
     },
     "execution_count": 236,
     "metadata": {},
     "output_type": "execute_result"
    }
   ],
   "source": [
    "publisher_list = company_list.str.replace('-',' ') #so make it two words\n",
    "publisher_list = publisher_list.str.replace('ford motor', 'ford')\n",
    "publisher_list = publisher_list.str.replace('p&g', 'procter')\n",
    "publisher_list"
   ]
  },
  {
   "cell_type": "code",
   "execution_count": 237,
   "id": "ea6fe784-9a58-4a24-bfe2-304d5b31344b",
   "metadata": {},
   "outputs": [
    {
     "data": {
      "text/plain": [
       "['abb',\n",
       " 'adidas',\n",
       " 'airbus',\n",
       " 'apple',\n",
       " 'bayer',\n",
       " 'beiersdorf',\n",
       " 'blackrock',\n",
       " 'bmw',\n",
       " 'boeing',\n",
       " 'cemex',\n",
       " 'chevron',\n",
       " 'chipotle',\n",
       " 'citi',\n",
       " 'coca cola',\n",
       " 'colgate',\n",
       " 'danone',\n",
       " 'dell',\n",
       " 'dhl',\n",
       " 'diageo',\n",
       " 'dupont',\n",
       " 'edp',\n",
       " 'enel',\n",
       " 'eversource',\n",
       " 'exxon',\n",
       " 'ford',\n",
       " 'general mills',\n",
       " 'google',\n",
       " 'h&m',\n",
       " 'henkel',\n",
       " 'hershey',\n",
       " 'honda',\n",
       " 'hp',\n",
       " 'hyundai',\n",
       " 'ibm',\n",
       " 'inditex',\n",
       " 'intel',\n",
       " 'komatsu',\n",
       " 'linde',\n",
       " 'mcdonald',\n",
       " 'mercedes',\n",
       " 'microsoft',\n",
       " 'mitsubishi',\n",
       " 'mondelez',\n",
       " 'nestle',\n",
       " 'nextera',\n",
       " 'nike',\n",
       " 'procter',\n",
       " 'pepsico',\n",
       " 'ralph lauren',\n",
       " 'renault',\n",
       " 'rio tinto',\n",
       " 'schneider electric',\n",
       " 'shell',\n",
       " 'sonoco',\n",
       " 'starbucks',\n",
       " 'tesco',\n",
       " 'tesla',\n",
       " 'totalenergies',\n",
       " 'toyota',\n",
       " 'veolia',\n",
       " 'volkswagen',\n",
       " 'volvo',\n",
       " 'walmart']"
      ]
     },
     "execution_count": 237,
     "metadata": {},
     "output_type": "execute_result"
    }
   ],
   "source": [
    "list(publisher_list)"
   ]
  },
  {
   "cell_type": "markdown",
   "id": "2570799e-f9bc-473b-b241-24c0a1aa388c",
   "metadata": {},
   "source": [
    "**To-do list for pre-processing/collection:**\n",
    "1. Get a list of the companies and company names through the sustainability reports - make the name of the files the same as the search term used\n",
    "2. Create a list of keywords for detecting sustainability/climate relatedness - stem them first possibly - think I should already have this or we can create them based on clustering/top keywords from the sustainability report \n",
    "3. Run the code for all the companies in the list in gnews (allintitle) - check if the number of articles is larger than 20 - if not:\n",
    "     a. run it for intitle and concatenate the dataframes\n",
    "4. Get rid of articles from the company itself \n",
    "5. Get the full article title and text\n",
    "6. Get rid of articles with unrelevant titles/where webscraping is not possible - using 2 "
   ]
  },
  {
   "cell_type": "markdown",
   "id": "c71c2630-84ee-4e3a-b078-aafcb3fc3053",
   "metadata": {},
   "source": [
    "## Creating a search loop on Google News - let's pray my IP doesn't get blocked"
   ]
  },
  {
   "cell_type": "markdown",
   "id": "61aa644e-093f-4a76-974b-7232bd573228",
   "metadata": {},
   "source": [
    "First, I define the GNews object - we search through English news, which are published after the 1st January 2021. This does have an effect of limiting results and for further research it might be useful to expand this to different languages and implement translation."
   ]
  },
  {
   "cell_type": "code",
   "execution_count": 2,
   "id": "8a3bda04-f32e-429a-864d-640f19b42449",
   "metadata": {},
   "outputs": [],
   "source": [
    "gn = GNews(language = 'en')\n",
    "#gn.start_date = (2021,1,1)\n",
    "#gn.exclude_websites = ['www.coca-colacompany.com'] #doesn't work as I would want it to - it generates the list of entries first and then removes them afterwards"
   ]
  },
  {
   "cell_type": "markdown",
   "id": "090ac8e0-ced4-485b-9b60-35b126798bf5",
   "metadata": {},
   "source": [
    "Now I code the raw function to loop over the different companies and get the results. For starters let's just limit this to the first 10 companies in the list. \n",
    "\n",
    "**Idea**: I can do multiple searches with different keywords every time and then join it."
   ]
  },
  {
   "cell_type": "code",
   "execution_count": 11,
   "id": "31aa5585-71d5-4ec1-8648-d3a51ba33fae",
   "metadata": {},
   "outputs": [],
   "source": [
    "# full_df = pd.DataFrame()\n",
    "# for idx,company in enumerate(search_list[:10]):\n",
    "#     # generate search results - form of a dictionary\n",
    "#     search = gn.get_news(f'allintitle:{company} sustainability OR climate OR environment OR pollution OR emission OR solar OR recycle OR wind OR plastic OR deforestation OR greenhouse OR waste OR biodiversity OR renewable after:2021-01-01') # for some reason this doesn't work that well if we include renewable/pollution - includes articles from before 2021\n",
    "#     # create a temporary data frame from search results\n",
    "#     temp_df = pd.DataFrame.from_dict(search)\n",
    "#     # get publisher link and name from the publisher column\n",
    "#     temp_df['publisher_link'] = temp_df['publisher'].apply(lambda x: x['href'])\n",
    "#     temp_df['publisher_name'] = temp_df['publisher'].apply(lambda x: x['title'])\n",
    "#     temp_df.drop(['description','publisher'], axis = 1, inplace = True)\n",
    "#     # removing the publisher if the publisher is the company itself by creating a filter that checks for whether the company name is in the publisher name\n",
    "#     company_filter = []\n",
    "#     for i in range(len(temp_df)):\n",
    "#         if (publisher_list[idx] in temp_df['publisher_name'][i].lower())|(publisher_list[idx] in temp_df['publisher_link'][i].lower()):\n",
    "#             company_filter.append(False)\n",
    "#         else:\n",
    "#             company_filter.append(True)\n",
    "#     temp_df = temp_df[company_filter]\n",
    "#     # check length and run another search with intitle if too small (< 20) and repeat all the above steps\n",
    "#     if len(temp_df) < 20:\n",
    "#         search_second = gn.get_news(f'intitle:{company} sustainability OR climate OR environment OR pollution OR emission OR solar OR recycle OR wind OR plastic OR deforestation OR greenhouse OR waste OR biodiversity OR renewable after:2021-01-01')\n",
    "#         temp_df_second = pd.DataFrame.from_dict(search_second)\n",
    "#         temp_df_second['publisher_link'] = temp_df_second['publisher'].apply(lambda x: x['href'])\n",
    "#         temp_df_second['publisher_name'] = temp_df_second['publisher'].apply(lambda x: x['title'])\n",
    "#         temp_df_second.drop(['description','publisher'], axis = 1, inplace = True)\n",
    "#         company_filter = []\n",
    "#         for i in range(len(temp_df_second)):\n",
    "#             if (publisher_list[idx] in temp_df_second['publisher_name'][i].lower())|(publisher_list[idx] in temp_df_second['publisher_link'][i].lower()):\n",
    "#                 company_filter.append(False)\n",
    "#             else:\n",
    "#                 company_filter.append(True)\n",
    "#         temp_df_second = temp_df_second[company_filter]\n",
    "#         # concatenate the two dataframes into one dataframe\n",
    "#         temp_df = pd.concat([temp_df,temp_df_second])\n",
    "#     # remove any duplicates in temp_df\n",
    "#     temp_df.drop_duplicates(subset = ['title'], inplace = True)\n",
    "#     # add the company name as a column\n",
    "#     temp_df['company'] = company_list[idx]\n",
    "#     # add the temporary df to our full df\n",
    "#     full_df = pd.concat([full_df, temp_df])"
   ]
  },
  {
   "cell_type": "code",
   "execution_count": 11,
   "id": "d297f75d-43d0-4002-927b-c6a7993eb26c",
   "metadata": {},
   "outputs": [],
   "source": [
    "# creating a function to filter publishers so as to not include the companies themselves\n",
    "# def filter_publisher(publisher,df):\n",
    "#     company_filter = []\n",
    "#     for i in range(len(df)):\n",
    "#         if (publisher in df['publisher_name'][i].lower())|(publisher in df['publisher_link'][i].lower()):\n",
    "#             company_filter.append(False)\n",
    "#         else:\n",
    "#             company_filter.append(True)\n",
    "#     return df[company_filter]"
   ]
  },
  {
   "cell_type": "code",
   "execution_count": 261,
   "id": "61d7802c-74d9-4ab5-ae49-b8ac95a09de7",
   "metadata": {},
   "outputs": [],
   "source": [
    "# # creating a function to filter columns based on keywords\n",
    "def filter_on_column(keywords,df,column):\n",
    "    # creating a regex pattern\n",
    "    pattern = '|'.join(list(set(keywords)))\n",
    "    # creating the masking filter \n",
    "    masking = []\n",
    "    for string in column:\n",
    "        if re.search(pattern,string.lower()):\n",
    "            masking.append(True)\n",
    "        else: \n",
    "            masking.append(False)\n",
    "    return df[masking]"
   ]
  },
  {
   "cell_type": "code",
   "execution_count": 74,
   "id": "d364be8a-5420-460f-9db0-99f58699bdd0",
   "metadata": {},
   "outputs": [],
   "source": [
    "full_df = pd.DataFrame()\n",
    "for idx,company in enumerate(search_list[:30]):\n",
    "    # generate search results - form of a dictionary\n",
    "    # run three different searches due to Google News having a limit of 100 articles and too many keywords cause the search function to act strangely\n",
    "    # search_1 = gn.get_news(f'intitle:{company} sustainability OR climate OR environment OR pollution OR emission OR solar OR recycle after:2021-01-01')\n",
    "    # search_2 = gn.get_news(f'intitle:{company} wind OR plastic OR deforestation OR greenhouse OR waste OR biodiversity OR renewable after:2021-01-01')\n",
    "    # search_3 = gn.get_news(f'intitle:{company} reusable OR biodegradable OR circular OR CO2 OR ecology OR ecosystem OR greenwash after:2021-01-01')\n",
    "    search_1 = gn.get_news(f'allintitle:{company} sustainability OR sustainable OR climate OR environment OR environmental OR pollution OR pollute OR emission OR solar OR recycle OR recycling after:2021-01-01')\n",
    "    search_2 = gn.get_news(f'allintitle:{company} emissions OR recycles OR recycled OR pollutes OR polluted OR polluting OR wind OR plastic OR deforestation OR greenhouse OR waste OR biodiversity OR renewable after:2021-01-01')\n",
    "    search_3 = gn.get_news(f'allintitle:{company} reusing OR reuse OR reused OR reuses OR reusable OR biodegradable OR circular OR CO2 OR ecology OR ecological OR ecosystem OR greenwash OR greenwashing after:2021-01-01')\n",
    "    search = search_1 + search_2 + search_3\n",
    "    # create a temporary data frame from search results\n",
    "    temp_df = pd.DataFrame.from_dict(search)\n",
    "    # get publisher link and name from the publisher column\n",
    "    temp_df['publisher_link'] = temp_df['publisher'].apply(lambda x: x['href'])\n",
    "    temp_df['publisher_name'] = temp_df['publisher'].apply(lambda x: x['title'])\n",
    "    temp_df.drop(['description','publisher'], axis = 1, inplace = True)\n",
    "    # removing the publisher if the publisher is the company itself by creating a filter that checks for whether the company name is in the publisher name\n",
    "    temp_df = filter_publisher(publisher_list[idx],temp_df)\n",
    "    # remove any duplicates in temp_df\n",
    "    temp_df.drop_duplicates(subset = ['title'], inplace = True)\n",
    "    # add the company name as a column\n",
    "    temp_df['company'] = company_list[idx]\n",
    "    # add the temporary df to our full df\n",
    "    full_df = pd.concat([full_df, temp_df])"
   ]
  },
  {
   "cell_type": "code",
   "execution_count": null,
   "id": "bdc7ac99-e164-4c3e-b139-f0369654c046",
   "metadata": {},
   "outputs": [],
   "source": [
    "#'-'.join(filtered_temp['title'].str.split('-')[21][:-1])"
   ]
  },
  {
   "cell_type": "markdown",
   "id": "dd7a0473-d7c6-4b27-a11f-4c791b2a1a7b",
   "metadata": {
    "tags": []
   },
   "source": [
    "### Extra - generating keywords to possibly use for filtering (tests)"
   ]
  },
  {
   "cell_type": "code",
   "execution_count": null,
   "id": "255207e3-c46b-486d-a6b7-663fe130b3dd",
   "metadata": {},
   "outputs": [],
   "source": [
    "# keywords = ('ap', 'banana', 'orange')\n",
    "# teststring = (\n",
    "#     'this is a test string it contains apple. ',\n",
    "#     'Moreover, this i a very long string contact length more than 500k'\n",
    "# )\n",
    "# testring2 = (\n",
    "#     'this is a test string it contains apple, orange & banana. ',\n",
    "#     'this is a test string it contains apple, orange & banana.'\n",
    "# )\n",
    " \n",
    "# # This is any\n",
    "# pattern = '|'.join(keywords)"
   ]
  },
  {
   "cell_type": "code",
   "execution_count": null,
   "id": "3bce4b3e-e81f-4729-b71c-24f670a78874",
   "metadata": {},
   "outputs": [],
   "source": [
    "# masking = []\n",
    "# for idx, string in enumerate(teststring):\n",
    "#     if re.search(pattern,string):\n",
    "#         masking.append(True)\n",
    "#     else:\n",
    "#         masking.append(False)\n",
    "    \n",
    "# masking"
   ]
  },
  {
   "cell_type": "code",
   "execution_count": null,
   "id": "1c8f8e37-07ef-4e8d-882d-e2dc0e4a0d04",
   "metadata": {},
   "outputs": [],
   "source": [
    "# # trying lemmatization\n",
    "# lemmatizer = WordNetLemmatizer()\n",
    "# lemmatized_sust = [lemmatizer.lemmatize(word) for word in sust_keywords]\n",
    "# lemmatized_sust"
   ]
  },
  {
   "cell_type": "code",
   "execution_count": null,
   "id": "50d493f6-2de2-4d2c-97ed-704fb69d3f98",
   "metadata": {},
   "outputs": [],
   "source": [
    "# non_company_filter = [not elem for elem in company_filter]"
   ]
  },
  {
   "cell_type": "code",
   "execution_count": null,
   "id": "3d694e9d-30d8-4893-bb9d-5ccdf0259ce5",
   "metadata": {},
   "outputs": [],
   "source": [
    "# df_testing = pd.DataFrame()\n",
    "# df_testing['x'] = [1,2]\n",
    "# df_testing['y'] = [3,4]"
   ]
  },
  {
   "cell_type": "code",
   "execution_count": null,
   "id": "eaa9d9ff-cd18-4b0c-a36b-1467f3a198d0",
   "metadata": {},
   "outputs": [],
   "source": [
    "# df_coca['published date'] = pd.to_datetime(df_coca['published date'])\n",
    "# df_coca['published_year'] = df_coca['published date'].dt.year"
   ]
  },
  {
   "cell_type": "markdown",
   "id": "12b68679-752a-4340-bd64-05f3e5e68b5c",
   "metadata": {},
   "source": [
    "## Getting the full article texts and full article titles"
   ]
  },
  {
   "cell_type": "markdown",
   "id": "902d6f9c-b9d7-413a-b7d8-795ef36c6a8f",
   "metadata": {},
   "source": [
    "I also want to filter these results so that it only includes articles that are climate/environment related. We can do this with the help of keywords possibly. One way is to get the list of keywords straight from the sustainability reports. Another is to create our own keyword list. \n",
    " \n",
    "A combination of both is also possible. For example, there is most likley not going to be the word greenwashing in the sustainability reports but the articles might mention it. We first need to get the full titles and texts."
   ]
  },
  {
   "cell_type": "code",
   "execution_count": 102,
   "id": "35b7e52e-9def-4072-ab43-fc55cfdfe797",
   "metadata": {},
   "outputs": [],
   "source": [
    "# %%capture\n",
    "# text_lst = []\n",
    "# title_lst = []\n",
    "# for link in full_df['url'][2000:]:\n",
    "#     try:\n",
    "#         article = gn.get_full_article(link)\n",
    "#         text_lst.append(article.text)\n",
    "#         title_lst.append(article.title)\n",
    "#     except:\n",
    "#         text_lst.append('webscraping not possible')\n",
    "#         title_lst.append('webscraping not possible')\n",
    "# full_df['text'] = text_lst\n",
    "# full_df['title_full'] = title_lst"
   ]
  },
  {
   "cell_type": "code",
   "execution_count": 109,
   "id": "5cf19416-c3e5-454f-88b1-e63033df8e8a",
   "metadata": {},
   "outputs": [],
   "source": [
    "full_df.reset_index(inplace=True, drop=True)"
   ]
  },
  {
   "cell_type": "code",
   "execution_count": 121,
   "id": "5776ae16-3837-41ee-b9e5-382bc92544dd",
   "metadata": {},
   "outputs": [
    {
     "data": {
      "text/plain": [
       "shell                 200\n",
       "tesco                 198\n",
       "microsoft             195\n",
       "walmart               195\n",
       "tesla                 189\n",
       "toyota                182\n",
       "mcdonald              174\n",
       "totalenergies         170\n",
       "mercedes              168\n",
       "pepsico               165\n",
       "hyundai               146\n",
       "volvo                 140\n",
       "starbucks             139\n",
       "veolia                133\n",
       "nike                  124\n",
       "schneider-electric    124\n",
       "volkswagen            121\n",
       "ibm                   109\n",
       "hp                     97\n",
       "mitsubishi             93\n",
       "nextera                85\n",
       "rio-tinto              81\n",
       "nestle                 79\n",
       "intel                  79\n",
       "honda                  77\n",
       "p&g                    75\n",
       "renault                48\n",
       "mondelez               42\n",
       "sonoco                 32\n",
       "komatsu                26\n",
       "ralph-lauren           18\n",
       "linde                  16\n",
       "inditex                14\n",
       "Name: company, dtype: int64"
      ]
     },
     "execution_count": 121,
     "metadata": {},
     "output_type": "execute_result"
    }
   ],
   "source": [
    "full_df2['company'].value_counts()"
   ]
  },
  {
   "cell_type": "code",
   "execution_count": 26,
   "id": "c463e72d-5d5b-4d7e-b11e-9af9f3121f02",
   "metadata": {},
   "outputs": [],
   "source": [
    "full_df = pd.read_csv('GNews_output_0-30_unfiltered.csv')\n",
    "full_df2 = pd.read_csv('GNews_output_30up_unfiltered.csv')"
   ]
  },
  {
   "cell_type": "code",
   "execution_count": 27,
   "id": "3acc19ca-7c89-4231-b48b-76194cc25343",
   "metadata": {},
   "outputs": [
    {
     "data": {
      "text/html": [
       "<div>\n",
       "<style scoped>\n",
       "    .dataframe tbody tr th:only-of-type {\n",
       "        vertical-align: middle;\n",
       "    }\n",
       "\n",
       "    .dataframe tbody tr th {\n",
       "        vertical-align: top;\n",
       "    }\n",
       "\n",
       "    .dataframe thead th {\n",
       "        text-align: right;\n",
       "    }\n",
       "</style>\n",
       "<table border=\"1\" class=\"dataframe\">\n",
       "  <thead>\n",
       "    <tr style=\"text-align: right;\">\n",
       "      <th></th>\n",
       "      <th>title</th>\n",
       "      <th>published date</th>\n",
       "      <th>url</th>\n",
       "      <th>publisher_link</th>\n",
       "      <th>publisher_name</th>\n",
       "      <th>company</th>\n",
       "      <th>text</th>\n",
       "      <th>title_full</th>\n",
       "    </tr>\n",
       "  </thead>\n",
       "  <tbody>\n",
       "    <tr>\n",
       "      <th>0</th>\n",
       "      <td>ABB Drives Emission Free River Commute In Lisb...</td>\n",
       "      <td>Tue, 04 Apr 2023 07:00:00 GMT</td>\n",
       "      <td>https://consent.google.com/m?continue=https://...</td>\n",
       "      <td>https://gcaptain.com</td>\n",
       "      <td>gCaptain</td>\n",
       "      <td>abb</td>\n",
       "      <td>Lisbon’s debut all-electric ferry, equipped wi...</td>\n",
       "      <td>ABB Drives Emission Free River Commute In Lisb...</td>\n",
       "    </tr>\n",
       "    <tr>\n",
       "      <th>1</th>\n",
       "      <td>ABB and Parason to promote sustainable packagi...</td>\n",
       "      <td>Fri, 24 Mar 2023 07:00:00 GMT</td>\n",
       "      <td>https://consent.google.com/m?continue=https://...</td>\n",
       "      <td>https://www.packaging-gateway.com</td>\n",
       "      <td>Packaging Gateway</td>\n",
       "      <td>abb</td>\n",
       "      <td>ABB has provided ten robots for deployment at ...</td>\n",
       "      <td>ABB and Parason to promote sustainable packagi...</td>\n",
       "    </tr>\n",
       "    <tr>\n",
       "      <th>2</th>\n",
       "      <td>Solar Storage Battery System Market is Booming...</td>\n",
       "      <td>Fri, 14 Apr 2023 22:22:00 GMT</td>\n",
       "      <td>https://consent.google.com/m?continue=https://...</td>\n",
       "      <td>https://www.openpr.com</td>\n",
       "      <td>openPR</td>\n",
       "      <td>abb</td>\n",
       "      <td>Solar Storage Battery System Market is Booming...</td>\n",
       "      <td>Solar Storage Battery System Market is Booming...</td>\n",
       "    </tr>\n",
       "    <tr>\n",
       "      <th>3</th>\n",
       "      <td>Sustainability - ABB FIA Formula E World Champ...</td>\n",
       "      <td>Mon, 28 Nov 2022 07:13:54 GMT</td>\n",
       "      <td>https://consent.google.com/m?continue=https://...</td>\n",
       "      <td>https://www.fiaformulae.com</td>\n",
       "      <td>Formula E</td>\n",
       "      <td>abb</td>\n",
       "      <td>VISION AND OBJECTIVES\\n\\nAt Formula E, we aspi...</td>\n",
       "      <td>ABB FIA Formula E World Championship</td>\n",
       "    </tr>\n",
       "    <tr>\n",
       "      <th>4</th>\n",
       "      <td>ABB taking action to fight climate change - De...</td>\n",
       "      <td>Thu, 25 Aug 2022 07:00:00 GMT</td>\n",
       "      <td>https://consent.google.com/m?continue=https://...</td>\n",
       "      <td>https://www.designworldonline.com</td>\n",
       "      <td>Design World Network</td>\n",
       "      <td>abb</td>\n",
       "      <td>As concern continues to grow with the advancin...</td>\n",
       "      <td>ABB taking action to fight climate change</td>\n",
       "    </tr>\n",
       "    <tr>\n",
       "      <th>...</th>\n",
       "      <td>...</td>\n",
       "      <td>...</td>\n",
       "      <td>...</td>\n",
       "      <td>...</td>\n",
       "      <td>...</td>\n",
       "      <td>...</td>\n",
       "      <td>...</td>\n",
       "      <td>...</td>\n",
       "    </tr>\n",
       "    <tr>\n",
       "      <th>2784</th>\n",
       "      <td>How The Hershey Company Reduced Emissions 48% ...</td>\n",
       "      <td>Wed, 01 Jun 2022 07:00:00 GMT</td>\n",
       "      <td>https://consent.google.com/m?continue=https://...</td>\n",
       "      <td>https://www.environmentalleader.com</td>\n",
       "      <td>Environment + Energy Leader</td>\n",
       "      <td>hershey</td>\n",
       "      <td>The Hershey Company today shared its 2021 ESG ...</td>\n",
       "      <td>How The Hershey Company Reduced Emissions 48%</td>\n",
       "    </tr>\n",
       "    <tr>\n",
       "      <th>2785</th>\n",
       "      <td>Hershey Announces New Renewable Energy Agreeme...</td>\n",
       "      <td>Tue, 20 Apr 2021 07:00:00 GMT</td>\n",
       "      <td>https://consent.google.com/m?continue=https://...</td>\n",
       "      <td>https://www.prnewswire.com</td>\n",
       "      <td>PR Newswire</td>\n",
       "      <td>hershey</td>\n",
       "      <td>HERSHEY, Pa., April 20, 2021 /PRNewswire/ -- T...</td>\n",
       "      <td>Hershey Announces New Renewable Energy Agreeme...</td>\n",
       "    </tr>\n",
       "    <tr>\n",
       "      <th>2786</th>\n",
       "      <td>Hershey's deforestation policy cracks down on ...</td>\n",
       "      <td>Tue, 02 Mar 2021 08:00:00 GMT</td>\n",
       "      <td>https://consent.google.com/m?continue=https://...</td>\n",
       "      <td>https://www.foodingredientsfirst.com</td>\n",
       "      <td>Food Ingredients First</td>\n",
       "      <td>hershey</td>\n",
       "      <td>Be back soon!\\n\\n\\n\\nTwo hour update in progre...</td>\n",
       "      <td>Home</td>\n",
       "    </tr>\n",
       "    <tr>\n",
       "      <th>2787</th>\n",
       "      <td>Carlos Santana and Earth, Wind &amp; Fire perform ...</td>\n",
       "      <td>Sat, 06 Aug 2022 07:00:00 GMT</td>\n",
       "      <td>https://consent.google.com/m?continue=https://...</td>\n",
       "      <td>https://www.pennlive.com</td>\n",
       "      <td>PennLive</td>\n",
       "      <td>hershey</td>\n",
       "      <td>The Miraculous Supernatural 2022 tour is comin...</td>\n",
       "      <td>Carlos Santana and Earth, Wind &amp; Fire perform ...</td>\n",
       "    </tr>\n",
       "    <tr>\n",
       "      <th>2788</th>\n",
       "      <td>Hershey Sets Goal to Reduce Carbon Emissions 2...</td>\n",
       "      <td>Tue, 09 Mar 2021 08:00:00 GMT</td>\n",
       "      <td>https://consent.google.com/m?continue=https://...</td>\n",
       "      <td>https://cheddar.com</td>\n",
       "      <td>Cheddar</td>\n",
       "      <td>hershey</td>\n",
       "      <td>BUSINESS\\n\\nHershey Sets Goal to Reduce Carbon...</td>\n",
       "      <td>Hershey Sets Goal to Reduce Carbon Emissions 2...</td>\n",
       "    </tr>\n",
       "  </tbody>\n",
       "</table>\n",
       "<p>2789 rows × 8 columns</p>\n",
       "</div>"
      ],
      "text/plain": [
       "                                                  title  \\\n",
       "0     ABB Drives Emission Free River Commute In Lisb...   \n",
       "1     ABB and Parason to promote sustainable packagi...   \n",
       "2     Solar Storage Battery System Market is Booming...   \n",
       "3     Sustainability - ABB FIA Formula E World Champ...   \n",
       "4     ABB taking action to fight climate change - De...   \n",
       "...                                                 ...   \n",
       "2784  How The Hershey Company Reduced Emissions 48% ...   \n",
       "2785  Hershey Announces New Renewable Energy Agreeme...   \n",
       "2786  Hershey's deforestation policy cracks down on ...   \n",
       "2787  Carlos Santana and Earth, Wind & Fire perform ...   \n",
       "2788  Hershey Sets Goal to Reduce Carbon Emissions 2...   \n",
       "\n",
       "                     published date  \\\n",
       "0     Tue, 04 Apr 2023 07:00:00 GMT   \n",
       "1     Fri, 24 Mar 2023 07:00:00 GMT   \n",
       "2     Fri, 14 Apr 2023 22:22:00 GMT   \n",
       "3     Mon, 28 Nov 2022 07:13:54 GMT   \n",
       "4     Thu, 25 Aug 2022 07:00:00 GMT   \n",
       "...                             ...   \n",
       "2784  Wed, 01 Jun 2022 07:00:00 GMT   \n",
       "2785  Tue, 20 Apr 2021 07:00:00 GMT   \n",
       "2786  Tue, 02 Mar 2021 08:00:00 GMT   \n",
       "2787  Sat, 06 Aug 2022 07:00:00 GMT   \n",
       "2788  Tue, 09 Mar 2021 08:00:00 GMT   \n",
       "\n",
       "                                                    url  \\\n",
       "0     https://consent.google.com/m?continue=https://...   \n",
       "1     https://consent.google.com/m?continue=https://...   \n",
       "2     https://consent.google.com/m?continue=https://...   \n",
       "3     https://consent.google.com/m?continue=https://...   \n",
       "4     https://consent.google.com/m?continue=https://...   \n",
       "...                                                 ...   \n",
       "2784  https://consent.google.com/m?continue=https://...   \n",
       "2785  https://consent.google.com/m?continue=https://...   \n",
       "2786  https://consent.google.com/m?continue=https://...   \n",
       "2787  https://consent.google.com/m?continue=https://...   \n",
       "2788  https://consent.google.com/m?continue=https://...   \n",
       "\n",
       "                            publisher_link               publisher_name  \\\n",
       "0                     https://gcaptain.com                     gCaptain   \n",
       "1        https://www.packaging-gateway.com            Packaging Gateway   \n",
       "2                   https://www.openpr.com                       openPR   \n",
       "3              https://www.fiaformulae.com                    Formula E   \n",
       "4        https://www.designworldonline.com         Design World Network   \n",
       "...                                    ...                          ...   \n",
       "2784   https://www.environmentalleader.com  Environment + Energy Leader   \n",
       "2785            https://www.prnewswire.com                  PR Newswire   \n",
       "2786  https://www.foodingredientsfirst.com       Food Ingredients First   \n",
       "2787              https://www.pennlive.com                     PennLive   \n",
       "2788                   https://cheddar.com                      Cheddar   \n",
       "\n",
       "      company                                               text  \\\n",
       "0         abb  Lisbon’s debut all-electric ferry, equipped wi...   \n",
       "1         abb  ABB has provided ten robots for deployment at ...   \n",
       "2         abb  Solar Storage Battery System Market is Booming...   \n",
       "3         abb  VISION AND OBJECTIVES\\n\\nAt Formula E, we aspi...   \n",
       "4         abb  As concern continues to grow with the advancin...   \n",
       "...       ...                                                ...   \n",
       "2784  hershey  The Hershey Company today shared its 2021 ESG ...   \n",
       "2785  hershey  HERSHEY, Pa., April 20, 2021 /PRNewswire/ -- T...   \n",
       "2786  hershey  Be back soon!\\n\\n\\n\\nTwo hour update in progre...   \n",
       "2787  hershey  The Miraculous Supernatural 2022 tour is comin...   \n",
       "2788  hershey  BUSINESS\\n\\nHershey Sets Goal to Reduce Carbon...   \n",
       "\n",
       "                                             title_full  \n",
       "0     ABB Drives Emission Free River Commute In Lisb...  \n",
       "1     ABB and Parason to promote sustainable packagi...  \n",
       "2     Solar Storage Battery System Market is Booming...  \n",
       "3                  ABB FIA Formula E World Championship  \n",
       "4             ABB taking action to fight climate change  \n",
       "...                                                 ...  \n",
       "2784      How The Hershey Company Reduced Emissions 48%  \n",
       "2785  Hershey Announces New Renewable Energy Agreeme...  \n",
       "2786                                               Home  \n",
       "2787  Carlos Santana and Earth, Wind & Fire perform ...  \n",
       "2788  Hershey Sets Goal to Reduce Carbon Emissions 2...  \n",
       "\n",
       "[2789 rows x 8 columns]"
      ]
     },
     "execution_count": 27,
     "metadata": {},
     "output_type": "execute_result"
    }
   ],
   "source": [
    "full_df = full_df.iloc[:,1:]\n",
    "full_df"
   ]
  },
  {
   "cell_type": "code",
   "execution_count": 35,
   "id": "5c2a8136-9bb1-4e31-ace0-e389f49c5ae7",
   "metadata": {},
   "outputs": [],
   "source": [
    "# df_complete = pd.concat([full_df,full_df2])\n",
    "df_complete = pd.read_csv('df_full.csv')"
   ]
  },
  {
   "cell_type": "code",
   "execution_count": 53,
   "id": "16ce15fb-dbb6-4fb2-a3f7-cbd855987c16",
   "metadata": {},
   "outputs": [
    {
     "data": {
      "text/plain": [
       "komatsu          26\n",
       "diageo           25\n",
       "ralph-lauren     18\n",
       "general-mills    16\n",
       "hershey          16\n",
       "linde            16\n",
       "inditex          14\n",
       "beiersdorf       12\n",
       "ford-motor        6\n",
       "Name: company, dtype: int64"
      ]
     },
     "execution_count": 53,
     "metadata": {},
     "output_type": "execute_result"
    }
   ],
   "source": [
    "df_complete['company'].value_counts()[df_complete['company'].value_counts()<30]"
   ]
  },
  {
   "cell_type": "code",
   "execution_count": 54,
   "id": "6f363c23-059f-4acd-9bc3-0f1ad9c52f4e",
   "metadata": {},
   "outputs": [],
   "source": [
    "# removing the rows where the webscraping was not possible\n",
    "df_filtered = df_complete[df_complete['title_full']!='webscraping not possible']"
   ]
  },
  {
   "cell_type": "code",
   "execution_count": null,
   "id": "58ae45df-d944-4f5d-b2bc-9f188def59d7",
   "metadata": {},
   "outputs": [],
   "source": [
    "# creating a function to filter for sustainability topics based on keywords\n",
    "def filter_sustainability(keywords,df):\n",
    "    # creating a regex pattern\n",
    "    pattern = '|'.join(list(set(keywords)))\n",
    "    # creating the masking filter \n",
    "    masking = []\n",
    "    for title in df['title_full']:\n",
    "        if re.search(pattern,title.lower()):\n",
    "            masking.append(True)\n",
    "        else: \n",
    "            masking.append(False)\n",
    "    return df[masking]"
   ]
  },
  {
   "cell_type": "code",
   "execution_count": null,
   "id": "c1a3c44b-78bb-4b2e-9ba2-e141941809c9",
   "metadata": {},
   "outputs": [
    {
     "data": {
      "text/plain": [
       "['biodivers',\n",
       " 'climat',\n",
       " 'ecolog',\n",
       " 'environ',\n",
       " 'emiss',\n",
       " 'pollut',\n",
       " 'sustain',\n",
       " 'co2',\n",
       " 'deforest',\n",
       " 'greenhous',\n",
       " 'greenwash',\n",
       " 'cop2',\n",
       " 'pollut',\n",
       " 'ecosystem',\n",
       " 'wast',\n",
       " 'sustain',\n",
       " 'sustain',\n",
       " 'solar',\n",
       " 'recycl',\n",
       " 'wind',\n",
       " 'renew',\n",
       " 'water',\n",
       " 'plastic',\n",
       " 'circular',\n",
       " 'biodegrad']"
      ]
     },
     "execution_count": 40,
     "metadata": {},
     "output_type": "execute_result"
    }
   ],
   "source": [
    "# defining the sustainability keywords for topic detection in titles\n",
    "sust_keywords = ['biodiversity', 'climate', 'ecology', 'environment', 'emission', 'pollution', 'sustainable', 'CO2', 'deforestation', 'greenhouse', 'greenwash', 'COP2', 'pollutant', 'ecosystem', 'waste', 'sustain', 'sustainability', 'solar', 'recycle', 'wind', 'renewable', 'water', 'plastic', 'circular', 'biodegradable']\n",
    "stemmer = PorterStemmer()\n",
    "stemmed_sust = [stemmer.stem(word) for word in sust_keywords]\n",
    "stemmed_sust"
   ]
  },
  {
   "cell_type": "code",
   "execution_count": null,
   "id": "bddbc508-5511-4736-8aba-50bef68493df",
   "metadata": {},
   "outputs": [],
   "source": [
    "df_filtered =  filter_sustainability(stemmed_sust, df_filtered)"
   ]
  },
  {
   "cell_type": "code",
   "execution_count": 55,
   "id": "359a9b5e-67d5-462d-9a6c-2199cafa8420",
   "metadata": {},
   "outputs": [],
   "source": [
    "# removing empty text\n",
    "df_filtered = df_filtered[df_filtered['text'].astype(bool)]"
   ]
  },
  {
   "cell_type": "code",
   "execution_count": 56,
   "id": "c4b0ff61-97e4-48c5-ba48-f52618813be4",
   "metadata": {},
   "outputs": [
    {
     "data": {
      "text/plain": [
       "(5782, 7)"
      ]
     },
     "execution_count": 56,
     "metadata": {},
     "output_type": "execute_result"
    }
   ],
   "source": [
    "df_filtered.drop('title', axis = 1, inplace = True)\n",
    "df_filtered.shape"
   ]
  },
  {
   "cell_type": "code",
   "execution_count": 57,
   "id": "c69ed6b4-ad73-4cf5-abf1-4f4b22180836",
   "metadata": {},
   "outputs": [],
   "source": [
    "df_filtered.reset_index(inplace=True, drop=True)"
   ]
  },
  {
   "cell_type": "code",
   "execution_count": 58,
   "id": "d995b699-c024-4b93-a9b7-74c34ec2e767",
   "metadata": {},
   "outputs": [
    {
     "data": {
      "text/plain": [
       "(5782, 7)"
      ]
     },
     "execution_count": 58,
     "metadata": {},
     "output_type": "execute_result"
    }
   ],
   "source": [
    "df_filtered.shape"
   ]
  },
  {
   "cell_type": "code",
   "execution_count": 50,
   "id": "75359de9-7eb6-4a59-bfd0-fe0c90390147",
   "metadata": {},
   "outputs": [],
   "source": [
    "# df_filtered = pd.read_csv('df_filtered.csv')"
   ]
  },
  {
   "cell_type": "code",
   "execution_count": 59,
   "id": "525336b2-0e39-4d62-bb56-0d95c1e50ee1",
   "metadata": {},
   "outputs": [
    {
     "data": {
      "text/plain": [
       "henkel           29\n",
       "diageo           23\n",
       "sonoco           21\n",
       "ralph-lauren     18\n",
       "komatsu          17\n",
       "linde            16\n",
       "hershey          16\n",
       "general-mills    13\n",
       "inditex          13\n",
       "beiersdorf       12\n",
       "ford-motor        5\n",
       "Name: company, dtype: int64"
      ]
     },
     "execution_count": 59,
     "metadata": {},
     "output_type": "execute_result"
    }
   ],
   "source": [
    "df_filtered['company'].value_counts()[df_filtered['company'].value_counts()<30]"
   ]
  },
  {
   "cell_type": "markdown",
   "id": "804b5067-5864-4fbe-9c2b-8db5f1273511",
   "metadata": {},
   "source": [
    "Beiersdorf has very few articles, which is not ideal, but we can work with this for now. To expand the number, I can either include more keywords in the initial search or expand the time range."
   ]
  },
  {
   "cell_type": "markdown",
   "id": "a2be918d-011d-4dfb-9228-cc7430529afd",
   "metadata": {},
   "source": [
    "## Data Cleaning and Imputation"
   ]
  },
  {
   "cell_type": "code",
   "execution_count": null,
   "id": "197ce9d1-b8b7-4a8e-b7b2-ad2a7d4243bc",
   "metadata": {},
   "outputs": [],
   "source": [
    "# to_tokenize = '\\n'.join(list(df_filtered['text']))"
   ]
  },
  {
   "cell_type": "code",
   "execution_count": null,
   "id": "b297bf96-bae8-40d6-9523-8a1ed2a48c6b",
   "metadata": {},
   "outputs": [],
   "source": [
    "# sent_lst = []\n",
    "# for sentence in sent_tokenize(to_tokenize):\n",
    "#     r_sent = ' '.join(sentence.split())\n",
    "#     sent_lst.append(r_sent)"
   ]
  },
  {
   "cell_type": "code",
   "execution_count": null,
   "id": "7971250c-7d8b-40ce-a7df-06e45b76e162",
   "metadata": {},
   "outputs": [],
   "source": [
    "# df_article = pd.DataFrame(\n",
    "#     {\n",
    "#        'doc_type': 'news',\n",
    "#         'company': 'coca-cola',\n",
    "#         'sentence': sent_lst\n",
    "#     }\n",
    "# )\n",
    "# df_article"
   ]
  },
  {
   "cell_type": "code",
   "execution_count": null,
   "id": "e3c9399e-4718-489d-a681-1ddcf7f36969",
   "metadata": {},
   "outputs": [],
   "source": [
    "# # defining the pattern for the sentence tokenizer - uses normal punctuation as well as /n and /n/n\n",
    "# # Define custom regular expression pattern\n",
    "# custom_pattern = r'\\n\\n|\\n|[.?!]'\n",
    "\n",
    "# # Load NLTK tokenizer\n",
    "# tokenizer = nltk.tokenize.RegexpTokenizer(custom_pattern)\n",
    "\n",
    "# # Example sentence\n",
    "# sentence = 'This is the first sentence.\\n\\nHere is another sentence.'\n",
    "\n",
    "# # Tokenize the sentence using the custom pattern\n",
    "# tokens = tokenizer.tokenize(sentence)\n",
    "\n",
    "# tokens\n",
    "\n",
    "# # # Filter out tokens that only contain whitespace characters\n",
    "# # sentences = [t.strip() for t in tokens if t.strip()]\n",
    "\n",
    "# # print(sentences)"
   ]
  },
  {
   "cell_type": "code",
   "execution_count": 61,
   "id": "83e93c94-f661-4476-9b3a-561944494fe6",
   "metadata": {},
   "outputs": [
    {
     "name": "stdout",
     "output_type": "stream",
     "text": [
      "error at row 62\n",
      "error at row 234\n",
      "error at row 286\n",
      "error at row 446\n",
      "error at row 696\n",
      "error at row 766\n",
      "error at row 859\n",
      "error at row 871\n",
      "error at row 890\n",
      "error at row 904\n",
      "error at row 918\n",
      "error at row 932\n",
      "error at row 1055\n",
      "error at row 1341\n",
      "error at row 1565\n",
      "error at row 1580\n",
      "error at row 1634\n",
      "error at row 1773\n",
      "error at row 2065\n",
      "error at row 2093\n",
      "error at row 2304\n",
      "error at row 2440\n",
      "error at row 2458\n",
      "error at row 2459\n",
      "error at row 2514\n",
      "error at row 2592\n",
      "error at row 2640\n",
      "error at row 2694\n",
      "error at row 2734\n",
      "error at row 2829\n",
      "error at row 2892\n",
      "error at row 3132\n",
      "error at row 3328\n",
      "error at row 3355\n",
      "error at row 3411\n",
      "error at row 3534\n",
      "error at row 3617\n",
      "error at row 3646\n",
      "error at row 3652\n",
      "error at row 3659\n",
      "error at row 3718\n",
      "error at row 3783\n",
      "error at row 3875\n",
      "error at row 4205\n",
      "error at row 4330\n",
      "error at row 4381\n",
      "error at row 4397\n",
      "error at row 4946\n",
      "error at row 4992\n",
      "error at row 5011\n",
      "error at row 5130\n",
      "error at row 5580\n",
      "error at row 5594\n",
      "error at row 5603\n",
      "error at row 5732\n",
      "error at row 5741\n",
      "error at row 5761\n",
      "error at row 5766\n"
     ]
    }
   ],
   "source": [
    "j = 0\n",
    "for i,row in df_filtered.iterrows():\n",
    "    text = row['text']\n",
    "    try:\n",
    "        sent_tokenize(text)\n",
    "    except:\n",
    "        print(f'error at row {i}')"
   ]
  },
  {
   "cell_type": "code",
   "execution_count": 250,
   "id": "5828cbe7-1421-4195-99be-1cb8d0d7e019",
   "metadata": {},
   "outputs": [],
   "source": [
    "new_links = ['https://global.chinadaily.com.cn/a/202205/30/WS6294181ba310fd2b29e5fad8.html','https://www.biobased-diesel.com/post/nasa-boeing-gather-data-to-aid-saf-adoption',\n",
    "            'https://www.bluebiz.com/en/sustainability/innovation-hub/news/boeing-teams-up-with-mit-scientists/#:~:text=Boeing%20is%20partnering%20with%20scientists,the%20carbon%20emissions%20from%20aviation.','https://www.flyingmag.com/boeing-purchases-2-million-gallons-of-sustainable-aviation-fuel/',\n",
    "            'https://www.upstreamonline.com/energy-transition/chevron-delta-and-google-collaborate-in-biojet-fuel-data-tracking-plan/2-1-1064719', 'https://techtalksummits.com/news/tech-news/cisco-hp-and-dell-chasing-the-huge-360-ecosystem-goal-with-complimentary-tactics',\n",
    "            'https://euneighbourseast.eu/news/latest-news/ray-of-hope-eu-announces-donation-of-5700-solar-panels-to-ukraine/',\n",
    "            'https://www.rttnews.com/3312069/nasa-google-team-up-to-help-local-governments-improve-tracking-air-pollution.aspx',\n",
    "            'https://weibold.com/pyrum-to-recycle-end-of-life-tires-from-mercedes-benz-vehicles-in-future',\n",
    "            'https://www.intelligentdatacentres.com/2022/11/11/airtrunk-and-clp-power-announce-innovative-renewable-energy-solution-in-hong-kong-for-microsoft/',\n",
    "            'https://www.eaglevoice.com/news/kirkwood-to-receive-over-300-solar-panels-in-donation/','https://finance.yahoo.com/news/shells-cracker-plant-pollution-prompts-154630697.html',\n",
    "            'https://lanxess.com/en/Media/Press-Releases/2023/01/LANXESS-and-TotalEnergies-to-cooperate-on-sustainable-styrene',\n",
    "            'https://www.freightcarbonzero.com/fcz-companies/volvo-trucks/volvo-lng-trucks-assists-arla-foods-in-reducing-carbon-emissions/543.supplierarticle',\n",
    "             'https://www.prnewswire.com/news-releases/volvo-trucks-showcases-new-zero-emissions-truck-301571323.html',\n",
    "             'https://thehill.com/policy/equilibrium-sustainability/3819867-walmart-stores-in-6-states-no-longer-provide-single-use-bags-at-checkout-which-states-are-next/'\n",
    "            ]\n",
    "#766,859,871,890,1055,1580,1773,2065,3132,3355,3652,4381,5011,5594,5603,5766\n",
    "#2093,2304,2459,2694,2892,3646,3659,4992,5130,5741 filled in manually\n",
    "to_drop = [62,234,286,446,696,904,918,932,1341,1565,1634,2440,2458,2514,2592,2640,2734,2829,3328,3411,3534,3617,3718,\n",
    "          3783,3875,4205,4330,4397,4946,5580,5732,5761]\n",
    "#234 is VP interview, a lot of overlap with symbolic actions\n",
    "#286 is airbus CEO talking about keeping commitments\n",
    "#606,62 require signup/buying subscription"
   ]
  },
  {
   "cell_type": "code",
   "execution_count": 158,
   "id": "f2c56dfc-f3ef-4347-b92c-2d903da564e0",
   "metadata": {},
   "outputs": [],
   "source": [
    "#df_filtered.loc[5741,'text'] = \"Last summer, Walmart announced its goal to be a zero waste company, and will be slowly removing plastic bags from all stores. Walmart Corporate has detailed an ambitious Environmental approach towards climate change, waste, natural capital and product supply chains. The company plans on finding alternatives to plastic not only in single use bags, but for single use products and PVC packaging. As plastic bags disappear from local stores, new options will be made available for customers. According to the Walmart Sustainability Hub, in order to realize that aspiration, we must embrace the concept of “circular economy,” which moves away from a “take-and-dispose” approach to one that values reuse and regeneration. Look for these changes at the Super Center as early as July 1.\""
   ]
  },
  {
   "cell_type": "code",
   "execution_count": 251,
   "id": "711c21fb-d095-4ba8-9127-8e9a8de1f321",
   "metadata": {},
   "outputs": [
    {
     "data": {
      "text/plain": [
       "published date                        Fri, 20 Jan 2023 08:00:00 GMT\n",
       "url               https://consent.google.com/m?continue=https://...\n",
       "publisher_link                                  https://cen.acs.org\n",
       "publisher_name                          Chemical & Engineering News\n",
       "company                                                      henkel\n",
       "text              Shell Chemical will replace 200,000 metric ton...\n",
       "title_full                                                      NaN\n",
       "Name: 2459, dtype: object"
      ]
     },
     "execution_count": 251,
     "metadata": {},
     "output_type": "execute_result"
    }
   ],
   "source": [
    "df_filtered.loc[2459]"
   ]
  },
  {
   "cell_type": "code",
   "execution_count": 248,
   "id": "233142b5-9d6c-4d99-84b2-9a9913bdf658",
   "metadata": {},
   "outputs": [
    {
     "data": {
      "text/plain": [
       "(5750, 7)"
      ]
     },
     "execution_count": 248,
     "metadata": {},
     "output_type": "execute_result"
    }
   ],
   "source": [
    "df_clean = df_filtered.drop(to_drop)\n",
    "df_clean.shape"
   ]
  },
  {
   "cell_type": "code",
   "execution_count": 252,
   "id": "ed55626a-3307-4274-bc2b-89f0e4a4b69a",
   "metadata": {},
   "outputs": [],
   "source": [
    "%%capture\n",
    "j = 0\n",
    "for i,row in df_clean.iterrows():\n",
    "    text = row['text']\n",
    "    try:\n",
    "        sent_tokenize(text)\n",
    "    except:\n",
    "        article = gn.get_full_article(new_links[j])\n",
    "        row['text'] = article.text\n",
    "        j=j+1"
   ]
  },
  {
   "cell_type": "markdown",
   "id": "64591c92-af7e-4217-bb1a-4e49d09ec2fa",
   "metadata": {},
   "source": [
    "I need to drop the duplicates in the entire dataframe and the publishers as well, instead of just running it on the temporary dataframe above."
   ]
  },
  {
   "cell_type": "code",
   "execution_count": 258,
   "id": "58996ef9-c285-428d-8102-6379a8258bb1",
   "metadata": {},
   "outputs": [
    {
     "data": {
      "text/plain": [
       "(5565, 7)"
      ]
     },
     "execution_count": 258,
     "metadata": {},
     "output_type": "execute_result"
    }
   ],
   "source": [
    "df_clean.drop_duplicates(subset = ['title_full'], inplace = True)\n",
    "df_clean.shape"
   ]
  },
  {
   "cell_type": "code",
   "execution_count": 263,
   "id": "87873980-92a2-4f98-8a60-4465121c3f4d",
   "metadata": {},
   "outputs": [
    {
     "data": {
      "text/plain": [
       "['Intelligent Living',\n",
       " 'FreshPlaza.com',\n",
       " 'FreshPlaza.com',\n",
       " 'Insider Intelligence',\n",
       " 'Kepler Trust Intelligence',\n",
       " 'Kepler Trust Intelligence',\n",
       " 'Benchmark Mineral Intelligence',\n",
       " 'Intelligent Living',\n",
       " 'fDi Intelligence',\n",
       " 'Energy Intelligence',\n",
       " 'Natural Gas Intelligence',\n",
       " 'Natural Gas Intelligence',\n",
       " 'Natural Gas Intelligence',\n",
       " 'Natural Gas Intelligence',\n",
       " 'Natural Gas Intelligence',\n",
       " 'Natural Gas Intelligence',\n",
       " 'Natural Gas Intelligence',\n",
       " 'Intelligent Living',\n",
       " 'Insider Intelligence',\n",
       " 'fDi Intelligence',\n",
       " 'Intelligent Living',\n",
       " 'Hartford Courant',\n",
       " 'MarkTechPost',\n",
       " 'Cointelegraph',\n",
       " 'Insider Intelligence',\n",
       " 'Retail TouchPoints',\n",
       " 'Rappler',\n",
       " 'HPCwire',\n",
       " 'HPCwire',\n",
       " 'HPCwire',\n",
       " 'HPCwire',\n",
       " 'insideHPC',\n",
       " 'Enel Green Power',\n",
       " 'Microsoft',\n",
       " 'TESLARATI',\n",
       " 'Intelligent Living',\n",
       " 'TESLARATI',\n",
       " 'Staffordshire Live',\n",
       " 'Rappler',\n",
       " 'MarkTechPost',\n",
       " 'Team-BHP',\n",
       " 'Global Citizen',\n",
       " 'Rappler',\n",
       " 'Retail TouchPoints',\n",
       " 'Intelligent Living',\n",
       " 'Intelligent Living',\n",
       " 'Walmart Corporate',\n",
       " 'Intelligent Living',\n",
       " 'Quantum Commodity Intelligence',\n",
       " 'Your Herefordshire',\n",
       " 'Oxford Mail',\n",
       " 'Intelligent Living',\n",
       " \"Bishop's Stortford Independent\",\n",
       " 'Natural Gas Intelligence',\n",
       " 'Public Citizen',\n",
       " 'Team-BHP',\n",
       " 'Public Citizen',\n",
       " 'TESLARATI',\n",
       " 'Intelligent Living',\n",
       " 'Romford Recorder',\n",
       " 'TESLARATI',\n",
       " 'TESLARATI',\n",
       " 'Team-BHP',\n",
       " 'EDP Renewables',\n",
       " 'Hartford Courant']"
      ]
     },
     "execution_count": 263,
     "metadata": {},
     "output_type": "execute_result"
    }
   ],
   "source": [
    "checking = filter_on_column(publisher_list, df_clean, df_clean['publisher_name'])\n",
    "list(checking['publisher_name'])\n",
    "#found Microsoft and Walmart corporate"
   ]
  },
  {
   "cell_type": "code",
   "execution_count": 265,
   "id": "f3556d8a-84f5-4699-92f1-4f7cafa52170",
   "metadata": {},
   "outputs": [],
   "source": [
    "df_clean = df_clean[df_clean['publisher_name'] != 'Microsoft']\n",
    "df_clean = df_clean[df_clean['publisher_name'] != 'Walmart Corporate']"
   ]
  },
  {
   "cell_type": "code",
   "execution_count": 268,
   "id": "c5dfeb2d-a219-4f21-85e5-2be296820a26",
   "metadata": {},
   "outputs": [],
   "source": [
    "df_clean.reset_index(inplace=True, drop=True)"
   ]
  },
  {
   "cell_type": "code",
   "execution_count": 279,
   "id": "118b44e2-2c47-4935-874f-9c20a56087ee",
   "metadata": {},
   "outputs": [],
   "source": [
    "df_clean.to_csv('df_clean.csv',index = False)"
   ]
  },
  {
   "cell_type": "code",
   "execution_count": 269,
   "id": "c45fecb5-dd12-454e-a59f-02cdc5c36f05",
   "metadata": {},
   "outputs": [
    {
     "data": {
      "text/plain": [
       "(5563, 7)"
      ]
     },
     "execution_count": 269,
     "metadata": {},
     "output_type": "execute_result"
    }
   ],
   "source": [
    "df_clean.shape"
   ]
  },
  {
   "cell_type": "code",
   "execution_count": null,
   "id": "d774d843-9769-400e-9bc1-3f123ac1f2af",
   "metadata": {},
   "outputs": [],
   "source": []
  },
  {
   "cell_type": "markdown",
   "id": "c3a267f1-92d1-45bf-8404-050d6671d847",
   "metadata": {},
   "source": [
    "## Removing duplicate articles based on title similarity"
   ]
  },
  {
   "cell_type": "code",
   "execution_count": 283,
   "id": "3940dbb8-e2d5-478f-bb9c-ef9e7d662cf2",
   "metadata": {},
   "outputs": [],
   "source": [
    "import torch\n",
    "from sentence_transformers import SentenceTransformer, util, models\n",
    "from sklearn.metrics.pairwise import cosine_similarity"
   ]
  },
  {
   "cell_type": "code",
   "execution_count": 281,
   "id": "20e086f7-7eab-413c-99cc-f131bc723dd8",
   "metadata": {},
   "outputs": [
    {
     "data": {
      "text/html": [
       "<pre style=\"white-space:pre;overflow-x:auto;line-height:normal;font-family:Menlo,'DejaVu Sans Mono',consolas,'Courier New',monospace\">Load pretrained SentenceTransformer: sentence-transformers/paraphrase-MiniLM-L6-v2\n",
       "</pre>\n"
      ],
      "text/plain": [
       "Load pretrained SentenceTransformer: sentence-transformers/paraphrase-MiniLM-L6-v2\n"
      ]
     },
     "metadata": {},
     "output_type": "display_data"
    },
    {
     "data": {
      "text/html": [
       "<pre style=\"white-space:pre;overflow-x:auto;line-height:normal;font-family:Menlo,'DejaVu Sans Mono',consolas,'Courier New',monospace\">Use pytorch device: cpu\n",
       "</pre>\n"
      ],
      "text/plain": [
       "Use pytorch device: cpu\n"
      ]
     },
     "metadata": {},
     "output_type": "display_data"
    }
   ],
   "source": [
    "model = SentenceTransformer('sentence-transformers/paraphrase-MiniLM-L6-v2')"
   ]
  },
  {
   "cell_type": "code",
   "execution_count": 294,
   "id": "9fd0b1fd-6494-4a68-9254-00b9b1971b03",
   "metadata": {},
   "outputs": [
    {
     "data": {
      "application/vnd.jupyter.widget-view+json": {
       "model_id": "61e783233beb4d1cbb4ea6dd3f8bf930",
       "version_major": 2,
       "version_minor": 0
      },
      "text/plain": [
       "Batches:   0%|          | 0/1 [00:00<?, ?it/s]"
      ]
     },
     "metadata": {},
     "output_type": "display_data"
    },
    {
     "data": {
      "application/vnd.jupyter.widget-view+json": {
       "model_id": "f144b3d7f085493483e631cc11c2e60a",
       "version_major": 2,
       "version_minor": 0
      },
      "text/plain": [
       "Batches:   0%|          | 0/1 [00:00<?, ?it/s]"
      ]
     },
     "metadata": {},
     "output_type": "display_data"
    },
    {
     "data": {
      "text/plain": [
       "0.889954"
      ]
     },
     "execution_count": 294,
     "metadata": {},
     "output_type": "execute_result"
    }
   ],
   "source": [
    "embedding_1 = model.encode(\"Diageo partners with ecoSPIRITS for circular packaging solutions\")\n",
    "embedding_2 = model.encode('Diageo Partners With ecoSPIRITS To Develop Sustainable Packaging')\n",
    "util.cos_sim(embedding_1, embedding_2).numpy()[0][0]"
   ]
  },
  {
   "cell_type": "code",
   "execution_count": 296,
   "id": "a173693b-e600-42b1-a764-505c30b39a87",
   "metadata": {},
   "outputs": [],
   "source": [
    "# define a function to remove duplicate articles based on title similarity\n",
    "def remove_duplicates(df, threshold):\n",
    "    titles = df['title_full'].tolist()\n",
    "    embeddings = model.encode(titles)\n",
    "    indices = []\n",
    "    for i, emb1 in enumerate(embeddings):\n",
    "        if i in indices:\n",
    "            continue\n",
    "        for j, emb2 in enumerate(embeddings[i+1:]):\n",
    "            if get_similarity(emb1, emb2) > threshold:\n",
    "                indices.append(j+i+1)\n",
    "    return df.drop(indices)"
   ]
  },
  {
   "cell_type": "code",
   "execution_count": 297,
   "id": "03c32360-90d3-40bc-b28b-c2f0cb0682a1",
   "metadata": {},
   "outputs": [
    {
     "data": {
      "application/vnd.jupyter.widget-view+json": {
       "model_id": "98391108d8e045df9520188e49673d14",
       "version_major": 2,
       "version_minor": 0
      },
      "text/plain": [
       "Batches:   0%|          | 0/174 [00:00<?, ?it/s]"
      ]
     },
     "metadata": {},
     "output_type": "display_data"
    },
    {
     "data": {
      "text/plain": [
       "(5034, 7)"
      ]
     },
     "execution_count": 297,
     "metadata": {},
     "output_type": "execute_result"
    }
   ],
   "source": [
    "df_nodup = remove_duplicates(df_clean, 0.8)\n",
    "df_nodup.shape"
   ]
  },
  {
   "cell_type": "code",
   "execution_count": 306,
   "id": "f39c104f-0e32-482a-a116-9fed2e79e5e5",
   "metadata": {},
   "outputs": [
    {
     "data": {
      "text/plain": [
       "henkel           23\n",
       "diageo           21\n",
       "komatsu          17\n",
       "ralph-lauren     16\n",
       "sonoco           14\n",
       "linde            14\n",
       "hershey          13\n",
       "general-mills    12\n",
       "inditex          11\n",
       "beiersdorf       11\n",
       "ford-motor        5\n",
       "Name: company, dtype: int64"
      ]
     },
     "execution_count": 306,
     "metadata": {},
     "output_type": "execute_result"
    }
   ],
   "source": [
    "df_nodup['company'].value_counts()[df_nodup['company'].value_counts()<25]"
   ]
  },
  {
   "cell_type": "code",
   "execution_count": 300,
   "id": "dfe72fc5-5cae-471b-b82d-be81ab16c2a2",
   "metadata": {},
   "outputs": [
    {
     "data": {
      "text/plain": [
       "array(['Henkel claims to offer low-emission, low-temperature washing for aluminium cans with new cleaner technology',\n",
       "       'Henkel : First low temperature cleaners deliver more efficient and sustainable aluminum can production',\n",
       "       'Henkel : Creating the safer sustainable batteries of tomorrow – Meet Henkel at the Battery Show Europe 2023',\n",
       "       'Henkel Drives Progress in Sustainability',\n",
       "       'Henkel invests in solar power with ten-year renewable energy agreement',\n",
       "       'Reshape the Future at Henkel Sustainability Days 2022 on November 30 to December 1',\n",
       "       'Henkel’s Climate-Positive Journey: From Shop to C-Suite',\n",
       "       'Henkel and IGNIS Sign Agreement to Produce Solar Energy in Spain',\n",
       "       'Henkel Sustainability Days 2022 have brought together stakeholders across the value chain and encouraged knowledge sharing',\n",
       "       \"Henkel says its sustainability goal aligns with China's green strategy\",\n",
       "       'Henkel publishes 30th Sustainability Report',\n",
       "       'Packaging Strategies',\n",
       "       'Pregis, Henkel Join Forces to Develop Sustainable Protective Packaging Solutions',\n",
       "       'Henkel’s toilet cleaner pack portfolio gets a sustainability-focused redesign',\n",
       "       \"What's new at CIIE: Henkel leverages innovation for sustainable life\",\n",
       "       'Chanel and Henkel Among Brands Innovating with Recycled Material Packaging',\n",
       "       'Henkel sees 2022 sustainability successes, sets 2023 goals',\n",
       "       'Plastic Bank & Henkel Egypt celebrate collecting 300 Mn plastic bottles in less than 2 years',\n",
       "       'Waste Not: Henkel Partners With TerraCycle® to Close the Loop on a Circular Economy',\n",
       "       'Henkel to introduce renewable feedstock based on BASF’s biomass balance approach',\n",
       "       'Henkel brand relaunch offers more inclusive design and bottles with recycled plastic',\n",
       "       'Henkel launched almost 700 million bottles made of 100% recycled plastics to the market in Europe',\n",
       "       'Greiner Packaging creates cardboard-plastic hybrid pack for Henkel’s dishwasher capsules'],\n",
       "      dtype=object)"
      ]
     },
     "execution_count": 300,
     "metadata": {},
     "output_type": "execute_result"
    }
   ],
   "source": [
    "df_nodup[df_nodup['company']=='henkel']['title_full'].values"
   ]
  },
  {
   "cell_type": "code",
   "execution_count": 304,
   "id": "62731d96-9226-4ee7-a446-6964321eefae",
   "metadata": {},
   "outputs": [],
   "source": [
    "df_nodup.to_csv('df_nodup.csv',index = False)"
   ]
  },
  {
   "cell_type": "markdown",
   "id": "bda0e850-8bea-4bd4-bf6f-531d3f9e9ca4",
   "metadata": {},
   "source": [
    "**Next steps:**\n",
    "- find extra articles on nexisuni to fill the 25 article quota\n",
    "- ideally separate the articles that report on company communication/are sponsored by the firm\n",
    "- implement semantic search and NLI\n",
    "- implement text similarity score calculation"
   ]
  },
  {
   "cell_type": "markdown",
   "id": "d904e502-ed37-4b9c-b2cf-d72b2cd8bd65",
   "metadata": {},
   "source": [
    "## Creating and cleaning the article sentence dataframe"
   ]
  },
  {
   "cell_type": "code",
   "execution_count": 270,
   "id": "68bfee3f-095e-4185-a684-4303658453ea",
   "metadata": {},
   "outputs": [],
   "source": [
    "# create a new dataframe to store the sentences\n",
    "df_article = pd.DataFrame(columns=['doc_type','company','sentence'])\n",
    "\n",
    "# loop over each row in the original dataframe and split the text into sentences\n",
    "for i, row in df_clean.iterrows():\n",
    "    company = row['company']\n",
    "    text = row['text']\n",
    "    \n",
    "    # use the sentence tokenizer to split the text into sentences\n",
    "    sent_lst = []\n",
    "    for sentence in sent_tokenize(text):\n",
    "        r_sent = ' '.join(sentence.split())\n",
    "        sent_lst.append(r_sent)\n",
    "    \n",
    "    # append each sentence as a new row in the df_article dataframe\n",
    "    for sentence in sent_lst:\n",
    "        temp = pd.DataFrame(\n",
    "            {\n",
    "                'doc_type': ['news'],\n",
    "                'company': [company],\n",
    "                'sentence': [sentence]\n",
    "            }\n",
    "        )\n",
    "        df_article = pd.concat([df_article,temp],ignore_index = True)"
   ]
  },
  {
   "cell_type": "code",
   "execution_count": 272,
   "id": "65e565e9-b3ae-4add-8cd0-c085f29d2070",
   "metadata": {},
   "outputs": [
    {
     "data": {
      "text/plain": [
       "(112192, 3)"
      ]
     },
     "execution_count": 272,
     "metadata": {},
     "output_type": "execute_result"
    }
   ],
   "source": [
    "df_article.shape"
   ]
  },
  {
   "cell_type": "code",
   "execution_count": 274,
   "id": "0a92b40f-696a-4d2e-978b-096b85a4413b",
   "metadata": {},
   "outputs": [],
   "source": [
    "# there are 112192 sentences across 5563 articles - this means on average an article has 20 sentences. 25 articles per company necessary on average"
   ]
  },
  {
   "cell_type": "code",
   "execution_count": 275,
   "id": "bf6f7b7c-86ca-4885-b586-33318a2a98f5",
   "metadata": {},
   "outputs": [
    {
     "data": {
      "text/plain": [
       "diageo           23\n",
       "henkel           23\n",
       "sonoco           21\n",
       "ralph-lauren     18\n",
       "komatsu          17\n",
       "hershey          16\n",
       "linde            14\n",
       "inditex          12\n",
       "general-mills    12\n",
       "beiersdorf       12\n",
       "ford-motor        5\n",
       "Name: company, dtype: int64"
      ]
     },
     "execution_count": 275,
     "metadata": {},
     "output_type": "execute_result"
    }
   ],
   "source": [
    "df_clean['company'].value_counts()[df_clean['company'].value_counts()<=25]\n",
    "# so these companies would need additional articles"
   ]
  },
  {
   "cell_type": "code",
   "execution_count": 278,
   "id": "d9cfccc2-91fe-4696-b2f9-e1550a7398e3",
   "metadata": {},
   "outputs": [
    {
     "data": {
      "text/plain": [
       "array(['Joint venture unveils £390m investment in sustainable homes at Glasgow’s former Diageo distillery',\n",
       "       'Diageo partners Oxford-based business school to teach ESG',\n",
       "       'Diageo India releases maiden Environment, Social, Governance (ESG) Reporting Index, highlighting efforts to shape a more sustainable and inclusive business and society',\n",
       "       'Constellation Brands, Diageo Pledge $1.2M to Climate Funds',\n",
       "       'Diageo gets green light for 4.1MW solar farm in Fife',\n",
       "       'Diageo pleads guilty to noise pollution at Guinness brewery',\n",
       "       \"Diageo fined £1.2 million after 'admin error' led to climate regulation breach\",\n",
       "       'Diageo will use wind and solar to make Bulleit bourbon at first carbon-neutral facility in North America',\n",
       "       'Diageo announces solar energy plans for Leven site',\n",
       "       'Drinks giant Diageo fined £1.2m for climate breaches',\n",
       "       'Where AB-InBev, Molson Coors, Diageo rank in the Corporate Plastic Pollution Scorecard',\n",
       "       'Diageo eyes sustainability targets',\n",
       "       'Diageo Partners With ecoSPIRITS To Develop Sustainable Packaging',\n",
       "       'Towards a better, more sustainable future: Diageo’s Sam Fischer on seizing the travel retail opportunity : The Moodie Davitt Report',\n",
       "       'Diageo plans sustainable glass bottle production',\n",
       "       'Drinks giant Diageo reveals plans to build solar energy farm at Fife bottling plant',\n",
       "       'Diageo rolls out Guinness zero emission trucks',\n",
       "       'Diageo India leads industry-first water stewardship initiative in partnership with renewable water technology innovator, SOURCE Global, PBC',\n",
       "       'Diageo to wind down Russia operations by year-end',\n",
       "       'Diageo 2030 emissions targets validated by SBTi',\n",
       "       'Diageo redesigns Gordon’s gin bottle using just 85% recycled glass',\n",
       "       'Diageo lets sunshine in on plan for net zero emissions',\n",
       "       'Diageo partners with ecoSPIRITS for circular packaging solutions'],\n",
       "      dtype=object)"
      ]
     },
     "execution_count": 278,
     "metadata": {},
     "output_type": "execute_result"
    }
   ],
   "source": [
    "df_clean[df_clean['company']=='diageo']['title_full'].values"
   ]
  },
  {
   "cell_type": "markdown",
   "id": "fa41b9bd-c27c-4b36-a729-7e10f0ff69e4",
   "metadata": {},
   "source": [
    "### Remove non-ASCII values and other things"
   ]
  },
  {
   "cell_type": "code",
   "execution_count": 219,
   "id": "13a82f03-93f0-4730-9508-bdbecb0e885a",
   "metadata": {},
   "outputs": [],
   "source": [
    "df_article[\"sentence\"] = df_article[\"sentence\"].str.replace('\"','', regex = True)\n",
    "df_article[\"sentence\"] = df_article[\"sentence\"].replace(r'http\\S+|\\[.\\]:|www\\S+|\\w+/\\S+|\\w+-\\w+-\\S+|\\[|\\]','',regex = True).replace(r'^\\s+|\\s+$','',regex=True).replace(r'\\s{2,}',' ',regex=True)\n",
    "# original: http\\S+|\\[.\\]:?|www\\S+|\\w+/\\S+|\\w+-\\w+-\\S+\n",
    "#remove double spaces with one space and remove most hyperlinks + remove whitespaces at the end and beginning of a sentence\n",
    "df_article['sentence'] = df_article['sentence'].str.replace('Nestl ', 'Nestle ')\n",
    "df_article[\"word count\"] = [len(i) for i in df_article[\"sentence\"].str.split()]\n",
    "# df_article = df_article[df_article[\"word count\"] > 5]\n",
    "# df_article = df_article[df_article[\"word count\"] < 100]"
   ]
  },
  {
   "cell_type": "code",
   "execution_count": 220,
   "id": "1212ee74-8a60-49a8-86e1-3d3228a0a9a4",
   "metadata": {},
   "outputs": [
    {
     "data": {
      "text/plain": [
       "array([[<Axes: title={'center': 'word count'}>]], dtype=object)"
      ]
     },
     "execution_count": 220,
     "metadata": {},
     "output_type": "execute_result"
    },
    {
     "data": {
      "image/png": "[encoded data removed]",
      "text/plain": [
       "<Figure size 640x480 with 1 Axes>"
      ]
     },
     "metadata": {},
     "output_type": "display_data"
    }
   ],
   "source": [
    "import matplotlib.pyplot as plt\n",
    "from matplotlib.ticker import StrMethodFormatter\n",
    "df_article.hist(column = 'word count')"
   ]
  },
  {
   "cell_type": "code",
   "execution_count": 221,
   "id": "e9f2ab18-e295-45be-96c3-8058980d156b",
   "metadata": {},
   "outputs": [
    {
     "data": {
      "text/plain": [
       "apple            5673\n",
       "google           4956\n",
       "tesla            4267\n",
       "coca-cola        4159\n",
       "bmw              3663\n",
       "                 ... \n",
       "general-mills     265\n",
       "linde             195\n",
       "beiersdorf        172\n",
       "inditex           110\n",
       "ford-motor         99\n",
       "Name: company, Length: 63, dtype: int64"
      ]
     },
     "execution_count": 221,
     "metadata": {},
     "output_type": "execute_result"
    }
   ],
   "source": [
    "df_article['company'].value_counts()"
   ]
  },
  {
   "cell_type": "code",
   "execution_count": 222,
   "id": "c8e63b04-256f-468a-83e0-5c137c94b5f0",
   "metadata": {},
   "outputs": [],
   "source": [
    "df_article.to_csv('C:\\\\Users\\\\tnguyen10\\\\OneDrive - Deloitte (O365D)\\\\Documents\\\\GitHub\\\\Thesis\\\\data_structured\\\\article_sentences.csv')"
   ]
  }
 ],
 "metadata": {
  "kernelspec": {
   "display_name": "Python 3 (ipykernel)",
   "language": "python",
   "name": "python3"
  },
  "language_info": {
   "codemirror_mode": {
    "name": "ipython",
    "version": 3
   },
   "file_extension": ".py",
   "mimetype": "text/x-python",
   "name": "python",
   "nbconvert_exporter": "python",
   "pygments_lexer": "ipython3",
   "version": "3.9.16"
  }
 },
 "nbformat": 4,
 "nbformat_minor": 5
}
