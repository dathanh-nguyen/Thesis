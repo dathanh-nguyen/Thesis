{
 "cells": [
  {
   "cell_type": "code",
   "execution_count": null,
   "id": "6f4717ee-2627-483c-beaf-c569ab3ac35d",
   "metadata": {},
   "outputs": [
    {
     "name": "stdout",
     "output_type": "stream",
     "text": [
      "Collecting pygooglenews\n",
      "  Using cached pygooglenews-0.1.2-py3-none-any.whl (10 kB)\n",
      "Requirement already satisfied: beautifulsoup4<5.0.0,>=4.9.1 in c:\\users\\tnguyen10\\anaconda3\\envs\\thesis\\lib\\site-packages (from pygooglenews) (4.11.1)\n",
      "Requirement already satisfied: requests<3.0.0,>=2.24.0 in c:\\users\\tnguyen10\\anaconda3\\envs\\thesis\\lib\\site-packages (from pygooglenews) (2.28.1)\n",
      "Collecting feedparser<6.0.0,>=5.2.1\n",
      "  Using cached feedparser-5.2.1.zip (1.2 MB)\n",
      "  Preparing metadata (setup.py): started\n",
      "  Preparing metadata (setup.py): finished with status 'done'\n",
      "Collecting dateparser<0.8.0,>=0.7.6\n",
      "  Downloading dateparser-0.7.6-py2.py3-none-any.whl (362 kB)\n",
      "     ---------------------------------------- 0.0/362.0 kB ? eta -:--:--\n",
      "     -------------------------------------  358.4/362.0 kB 7.4 MB/s eta 0:00:01\n",
      "     -------------------------------------- 362.0/362.0 kB 5.7 MB/s eta 0:00:00\n",
      "Requirement already satisfied: soupsieve>1.2 in c:\\users\\tnguyen10\\anaconda3\\envs\\thesis\\lib\\site-packages (from beautifulsoup4<5.0.0,>=4.9.1->pygooglenews) (2.3.2.post1)\n",
      "Requirement already satisfied: python-dateutil in c:\\users\\tnguyen10\\anaconda3\\envs\\thesis\\lib\\site-packages (from dateparser<0.8.0,>=0.7.6->pygooglenews) (2.8.2)\n",
      "Collecting tzlocal\n",
      "  Downloading tzlocal-4.3-py3-none-any.whl (20 kB)\n",
      "Requirement already satisfied: pytz in c:\\users\\tnguyen10\\anaconda3\\envs\\thesis\\lib\\site-packages (from dateparser<0.8.0,>=0.7.6->pygooglenews) (2022.7)\n",
      "Requirement already satisfied: regex!=2019.02.19 in c:\\users\\tnguyen10\\anaconda3\\envs\\thesis\\lib\\site-packages (from dateparser<0.8.0,>=0.7.6->pygooglenews) (2022.7.9)\n",
      "Requirement already satisfied: idna<4,>=2.5 in c:\\users\\tnguyen10\\anaconda3\\envs\\thesis\\lib\\site-packages (from requests<3.0.0,>=2.24.0->pygooglenews) (3.4)\n",
      "Requirement already satisfied: urllib3<1.27,>=1.21.1 in c:\\users\\tnguyen10\\anaconda3\\envs\\thesis\\lib\\site-packages (from requests<3.0.0,>=2.24.0->pygooglenews) (1.26.14)\n",
      "Requirement already satisfied: certifi>=2017.4.17 in c:\\users\\tnguyen10\\anaconda3\\envs\\thesis\\lib\\site-packages (from requests<3.0.0,>=2.24.0->pygooglenews) (2022.12.7)\n",
      "Requirement already satisfied: charset-normalizer<3,>=2 in c:\\users\\tnguyen10\\anaconda3\\envs\\thesis\\lib\\site-packages (from requests<3.0.0,>=2.24.0->pygooglenews) (2.0.4)\n",
      "Requirement already satisfied: six>=1.5 in c:\\users\\tnguyen10\\anaconda3\\envs\\thesis\\lib\\site-packages (from python-dateutil->dateparser<0.8.0,>=0.7.6->pygooglenews) (1.16.0)\n",
      "Collecting tzdata\n",
      "  Downloading tzdata-2023.3-py2.py3-none-any.whl (341 kB)\n",
      "     ---------------------------------------- 0.0/341.8 kB ? eta -:--:--\n",
      "     ------------------------------------- 341.8/341.8 kB 10.7 MB/s eta 0:00:00\n",
      "Collecting pytz-deprecation-shim\n",
      "  Downloading pytz_deprecation_shim-0.1.0.post0-py2.py3-none-any.whl (15 kB)\n",
      "Building wheels for collected packages: feedparser\n",
      "  Building wheel for feedparser (setup.py): started\n",
      "  Building wheel for feedparser (setup.py): finished with status 'done'\n",
      "  Created wheel for feedparser: filename=feedparser-5.2.1-py3-none-any.whl size=45024 sha256=e0653ce2d0738d8c6d25ce18df772f726ea81c43d3d437611a93db3c05afaa62\n",
      "  Stored in directory: c:\\users\\tnguyen10\\appdata\\local\\pip\\cache\\wheels\\ad\\17\\3c\\e592d2d4134d70d90519af0101c4fa67037bb6ce3b0f22af69\n",
      "Successfully built feedparser\n",
      "Installing collected packages: feedparser, tzdata, pytz-deprecation-shim, tzlocal, dateparser, pygooglenews\n",
      "Successfully installed dateparser-0.7.6 feedparser-5.2.1 pygooglenews-0.1.2 pytz-deprecation-shim-0.1.0.post0 tzdata-2023.3 tzlocal-4.3\n",
      "Note: you may need to restart the kernel to use updated packages.\n"
     ]
    }
   ],
   "source": [
    "pip install pygooglenews --upgrade"
   ]
  },
  {
   "cell_type": "code",
   "execution_count": 2,
   "id": "aa88353c-c4bc-4c5a-b235-b09759d1f324",
   "metadata": {},
   "outputs": [
    {
     "name": "stdout",
     "output_type": "stream",
     "text": [
      "Collecting setuptools==58\n",
      "  Downloading setuptools-58.0.0-py3-none-any.whl (816 kB)\n",
      "     ---------------------------------------- 0.0/816.3 kB ? eta -:--:--\n",
      "     --------------- ---------------------- 337.9/816.3 kB 7.0 MB/s eta 0:00:01\n",
      "     ------------------------------------  809.0/816.3 kB 10.2 MB/s eta 0:00:01\n",
      "     -------------------------------------- 816.3/816.3 kB 8.6 MB/s eta 0:00:00\n",
      "Installing collected packages: setuptools\n",
      "  Attempting uninstall: setuptools\n",
      "    Found existing installation: setuptools 65.6.3\n",
      "    Uninstalling setuptools-65.6.3:\n",
      "      Successfully uninstalled setuptools-65.6.3\n",
      "Successfully installed setuptools-58.0.0\n",
      "Note: you may need to restart the kernel to use updated packages.\n"
     ]
    }
   ],
   "source": [
    "pip install setuptools==58 #probably upgrade this later 65.6.3"
   ]
  },
  {
   "cell_type": "code",
   "execution_count": 20,
   "id": "8de7cb0d-3f62-4b37-a62f-b56078d65846",
   "metadata": {},
   "outputs": [
    {
     "name": "stdout",
     "output_type": "stream",
     "text": [
      "Requirement already satisfied: regex==2022.3.2 in c:\\users\\tnguyen10\\anaconda3\\envs\\thesis\\lib\\site-packages (2022.3.2)\n",
      "Note: you may need to restart the kernel to use updated packages.\n"
     ]
    }
   ],
   "source": [
    "pip install regex==2022.3.2 #think I had 2022.9.11"
   ]
  },
  {
   "cell_type": "code",
   "execution_count": 26,
   "id": "e472d3d0-febf-4b3a-ac28-5aa50bf49d12",
   "metadata": {},
   "outputs": [
    {
     "name": "stdout",
     "output_type": "stream",
     "text": [
      "Collecting package metadata (current_repodata.json): ...working... done\n",
      "Solving environment: ...working... done\n",
      "\n",
      "## Package Plan ##\n",
      "\n",
      "  environment location: C:\\Users\\tnguyen10\\Anaconda3\\envs\\thesis\n",
      "\n",
      "  added / updated specs:\n",
      "    - newspaper3k\n",
      "\n",
      "\n",
      "The following packages will be downloaded:\n",
      "\n",
      "    package                    |            build\n",
      "    ---------------------------|-----------------\n",
      "    cssselect-1.2.0            |     pyhd8ed1ab_0          21 KB  conda-forge\n",
      "    feedfinder2-0.0.4          |             py_0           7 KB  conda-forge\n",
      "    jieba3k-0.35.1             |py39hcbf5309_1007         6.3 MB  conda-forge\n",
      "    newspaper3k-0.2.8          |     pyhd8ed1ab_3         150 KB  conda-forge\n",
      "    requests-file-1.5.1        |     pyh9f0ad1d_0           7 KB  conda-forge\n",
      "    setuptools-67.6.1          |     pyhd8ed1ab_0         567 KB  conda-forge\n",
      "    tinysegmenter-0.3          |     pyhd8ed1ab_0          16 KB  conda-forge\n",
      "    tldextract-3.4.0           |     pyhd8ed1ab_0          93 KB  conda-forge\n",
      "    ------------------------------------------------------------\n",
      "                                           Total:         7.2 MB\n",
      "\n",
      "The following NEW packages will be INSTALLED:\n",
      "\n",
      "  cssselect          conda-forge/noarch::cssselect-1.2.0-pyhd8ed1ab_0 \n",
      "  feedfinder2        conda-forge/noarch::feedfinder2-0.0.4-py_0 \n",
      "  jieba3k            conda-forge/win-64::jieba3k-0.35.1-py39hcbf5309_1007 \n",
      "  newspaper3k        conda-forge/noarch::newspaper3k-0.2.8-pyhd8ed1ab_3 \n",
      "  regex              pkgs/main/win-64::regex-2022.7.9-py39h2bbff1b_0 \n",
      "  requests-file      conda-forge/noarch::requests-file-1.5.1-pyh9f0ad1d_0 \n",
      "  setuptools         conda-forge/noarch::setuptools-67.6.1-pyhd8ed1ab_0 \n",
      "  tinysegmenter      conda-forge/noarch::tinysegmenter-0.3-pyhd8ed1ab_0 \n",
      "  tldextract         conda-forge/noarch::tldextract-3.4.0-pyhd8ed1ab_0 \n",
      "\n",
      "\n",
      "\n",
      "Downloading and Extracting Packages\n",
      "\n",
      "requests-file-1.5.1  | 7 KB      |            |   0% \n",
      "\n",
      "tinysegmenter-0.3    | 16 KB     |            |   0% \u001b[A\n",
      "\n",
      "\n",
      "tldextract-3.4.0     | 93 KB     |            |   0% \u001b[A\u001b[A\n",
      "\n",
      "\n",
      "\n",
      "feedfinder2-0.0.4    | 7 KB      |            |   0% \u001b[A\u001b[A\u001b[A\n",
      "\n",
      "\n",
      "\n",
      "\n",
      "cssselect-1.2.0      | 21 KB     |            |   0% \u001b[A\u001b[A\u001b[A\u001b[A\n",
      "\n",
      "\n",
      "\n",
      "\n",
      "\n",
      "setuptools-67.6.1    | 567 KB    |            |   0% \u001b[A\u001b[A\u001b[A\u001b[A\u001b[A\n",
      "\n",
      "\n",
      "\n",
      "\n",
      "\n",
      "\n",
      "jieba3k-0.35.1       | 6.3 MB    |            |   0% \u001b[A\u001b[A\u001b[A\u001b[A\u001b[A\u001b[A\n",
      "\n",
      "\n",
      "\n",
      "\n",
      "\n",
      "\n",
      "\n",
      "newspaper3k-0.2.8    | 150 KB    |            |   0% \u001b[A\u001b[A\u001b[A\u001b[A\u001b[A\u001b[A\u001b[A\n",
      "requests-file-1.5.1  | 7 KB      | ########## | 100% \n",
      "\n",
      "\n",
      "\n",
      "\n",
      "cssselect-1.2.0      | 21 KB     | #######7   |  78% \u001b[A\u001b[A\u001b[A\u001b[A\n",
      "\n",
      "\n",
      "\n",
      "\n",
      "\n",
      "setuptools-67.6.1    | 567 KB    | 2          |   3% \u001b[A\u001b[A\u001b[A\u001b[A\u001b[A\n",
      "\n",
      "tinysegmenter-0.3    | 16 KB     | ########## | 100% \u001b[A\n",
      "\n",
      "\n",
      "\n",
      "feedfinder2-0.0.4    | 7 KB      | ########## | 100% \u001b[A\u001b[A\u001b[A\n",
      "requests-file-1.5.1  | 7 KB      | ########## | 100% \n",
      "\n",
      "\n",
      "\n",
      "\n",
      "\n",
      "\n",
      "jieba3k-0.35.1       | 6.3 MB    |            |   0% \u001b[A\u001b[A\u001b[A\u001b[A\u001b[A\u001b[A\n",
      "\n",
      "\n",
      "tldextract-3.4.0     | 93 KB     | #7         |  17% \u001b[A\u001b[A\n",
      "\n",
      "\n",
      "\n",
      "\n",
      "cssselect-1.2.0      | 21 KB     | ########## | 100% \u001b[A\u001b[A\u001b[A\u001b[A\n",
      "\n",
      "\n",
      "\n",
      "\n",
      "\n",
      "\n",
      "jieba3k-0.35.1       | 6.3 MB    | 3          |   3% \u001b[A\u001b[A\u001b[A\u001b[A\u001b[A\u001b[A\n",
      "\n",
      "tinysegmenter-0.3    | 16 KB     | ########## | 100% \u001b[A\n",
      "\n",
      "\n",
      "\n",
      "\n",
      "\n",
      "\n",
      "\n",
      "newspaper3k-0.2.8    | 150 KB    | #          |  11% \u001b[A\u001b[A\u001b[A\u001b[A\u001b[A\u001b[A\u001b[A\n",
      "\n",
      "\n",
      "\n",
      "feedfinder2-0.0.4    | 7 KB      | ########## | 100% \u001b[A\u001b[A\u001b[A\n",
      "\n",
      "\n",
      "\n",
      "\n",
      "\n",
      "\n",
      "jieba3k-0.35.1       | 6.3 MB    | 9          |  10% \u001b[A\u001b[A\u001b[A\u001b[A\u001b[A\u001b[A\n",
      "\n",
      "\n",
      "tldextract-3.4.0     | 93 KB     | ########## | 100% \u001b[A\u001b[A\n",
      "\n",
      "\n",
      "tldextract-3.4.0     | 93 KB     | ########## | 100% \u001b[A\u001b[A\n",
      "\n",
      "\n",
      "\n",
      "\n",
      "\n",
      "\n",
      "jieba3k-0.35.1       | 6.3 MB    | ##         |  20% \u001b[A\u001b[A\u001b[A\u001b[A\u001b[A\u001b[A\n",
      "\n",
      "\n",
      "\n",
      "\n",
      "\n",
      "\n",
      "jieba3k-0.35.1       | 6.3 MB    | ###6       |  36% \u001b[A\u001b[A\u001b[A\u001b[A\u001b[A\u001b[A\n",
      "\n",
      "\n",
      "\n",
      "\n",
      "\n",
      "\n",
      "jieba3k-0.35.1       | 6.3 MB    | #####      |  51% \u001b[A\u001b[A\u001b[A\u001b[A\u001b[A\u001b[A\n",
      "\n",
      "\n",
      "\n",
      "\n",
      "\n",
      "\n",
      "jieba3k-0.35.1       | 6.3 MB    | #######4   |  74% \u001b[A\u001b[A\u001b[A\u001b[A\u001b[A\u001b[A\n",
      "\n",
      "\n",
      "\n",
      "\n",
      "\n",
      "\n",
      "\n",
      "newspaper3k-0.2.8    | 150 KB    | ########## | 100% \u001b[A\u001b[A\u001b[A\u001b[A\u001b[A\u001b[A\u001b[A\n",
      "\n",
      "\n",
      "\n",
      "\n",
      "\n",
      "\n",
      "\n",
      "newspaper3k-0.2.8    | 150 KB    | ########## | 100% \u001b[A\u001b[A\u001b[A\u001b[A\u001b[A\u001b[A\u001b[A\n",
      "\n",
      "\n",
      "\n",
      "\n",
      "\n",
      "\n",
      "jieba3k-0.35.1       | 6.3 MB    | #########4 |  95% \u001b[A\u001b[A\u001b[A\u001b[A\u001b[A\u001b[A\n",
      "\n",
      "\n",
      "\n",
      "\n",
      "\n",
      "setuptools-67.6.1    | 567 KB    | ########## | 100% \u001b[A\u001b[A\u001b[A\u001b[A\u001b[A\n",
      "\n",
      "\n",
      "\n",
      "\n",
      "\n",
      "setuptools-67.6.1    | 567 KB    | ########## | 100% \u001b[A\u001b[A\u001b[A\u001b[A\u001b[A\n",
      "\n",
      "\n",
      "\n",
      "\n",
      "\n",
      "\n",
      "jieba3k-0.35.1       | 6.3 MB    | ########## | 100% \u001b[A\u001b[A\u001b[A\u001b[A\u001b[A\u001b[A\n",
      "                                                     \n",
      "\n",
      "\n",
      "                                                     \u001b[A\n",
      "\n",
      "\n",
      "                                                     \u001b[A\u001b[A\n",
      "\n",
      "\n",
      "\n",
      "                                                     \u001b[A\u001b[A\u001b[A\n",
      "\n",
      "\n",
      "\n",
      "\n",
      "                                                     \u001b[A\u001b[A\u001b[A\u001b[A\n",
      "\n",
      "\n",
      "\n",
      "\n",
      "\n",
      "                                                     \u001b[A\u001b[A\u001b[A\u001b[A\u001b[A\n",
      "\n",
      "\n",
      "\n",
      "\n",
      "\n",
      "\n",
      "                                                     \u001b[A\u001b[A\u001b[A\u001b[A\u001b[A\u001b[A\n",
      "\n",
      "\n",
      "\n",
      "\n",
      "\n",
      "\n",
      "\n",
      "                                                     \u001b[A\u001b[A\u001b[A\u001b[A\u001b[A\u001b[A\u001b[A\n",
      "\n",
      "Preparing transaction: ...working... done\n",
      "Verifying transaction: ...working... done\n",
      "Executing transaction: ...working... done\n",
      "\n",
      "Note: you may need to restart the kernel to use updated packages.\n"
     ]
    },
    {
     "name": "stderr",
     "output_type": "stream",
     "text": [
      "\n",
      "The environment is inconsistent, please check the package plan carefully\n",
      "The following packages are causing the inconsistency:\n",
      "\n",
      "  - defaults/win-64::anyio==3.5.0=py39haa95532_0\n",
      "  - defaults/noarch::argon2-cffi==21.3.0=pyhd3eb1b0_0\n",
      "  - defaults/win-64::argon2-cffi-bindings==21.2.0=py39h2bbff1b_0\n",
      "  - defaults/noarch::asttokens==2.0.5=pyhd3eb1b0_0\n",
      "  - defaults/win-64::attrs==22.1.0=py39haa95532_0\n",
      "  - defaults/win-64::babel==2.11.0=py39haa95532_0\n",
      "  - defaults/noarch::backcall==0.2.0=pyhd3eb1b0_0\n",
      "  - defaults/win-64::beautifulsoup4==4.11.1=py39haa95532_0\n",
      "  - defaults/noarch::bleach==4.1.0=pyhd3eb1b0_0\n",
      "  - defaults/win-64::bottleneck==1.3.5=py39h080aedc_0\n",
      "  - defaults/win-64::brotlipy==0.7.0=py39h2bbff1b_1003\n",
      "  - conda-forge/noarch::certifi==2022.12.7=pyhd8ed1ab_0\n",
      "  - defaults/win-64::cffi==1.15.1=py39h2bbff1b_3\n",
      "  - defaults/noarch::charset-normalizer==2.0.4=pyhd3eb1b0_0\n",
      "  - defaults/win-64::click==8.0.4=py39haa95532_0\n",
      "  - defaults/win-64::colorama==0.4.6=py39haa95532_0\n",
      "  - defaults/win-64::comm==0.1.2=py39haa95532_0\n",
      "  - defaults/win-64::contourpy==1.0.5=py39h59b6b97_0\n",
      "  - defaults/win-64::cryptography==39.0.1=py39h21b164f_0\n",
      "  - conda-forge/noarch::cycler==0.11.0=pyhd8ed1ab_0\n",
      "  - defaults/noarch::dataclasses==0.8=pyh6d0b6a4_7\n",
      "  - defaults/win-64::debugpy==1.5.1=py39hd77b12b_0\n",
      "  - defaults/noarch::decorator==5.1.1=pyhd3eb1b0_0\n",
      "  - defaults/noarch::defusedxml==0.7.1=pyhd3eb1b0_0\n",
      "  - defaults/win-64::entrypoints==0.4=py39haa95532_0\n",
      "  - defaults/noarch::executing==0.8.3=pyhd3eb1b0_0\n",
      "  - conda-forge/noarch::feedparser==6.0.10=pyhd8ed1ab_0\n",
      "  - defaults/win-64::filelock==3.9.0=py39haa95532_0\n",
      "  - defaults/noarch::flit-core==3.6.0=pyhd3eb1b0_0\n",
      "  - defaults/noarch::fonttools==4.25.0=pyhd3eb1b0_0\n",
      "  - huggingface/noarch::huggingface_hub==0.13.1=py_0\n",
      "  - defaults/win-64::idna==3.4=py39haa95532_0\n",
      "  - defaults/win-64::importlib-metadata==4.11.3=py39haa95532_0\n",
      "  - defaults/noarch::importlib_metadata==4.11.3=hd3eb1b0_0\n",
      "  - conda-forge/noarch::importlib_resources==5.12.0=pyhd8ed1ab_0\n",
      "  - defaults/win-64::ipykernel==6.19.2=py39hd4e2768_0\n",
      "  - defaults/win-64::ipython==8.10.0=py39haa95532_0\n",
      "  - defaults/noarch::ipython_genutils==0.2.0=pyhd3eb1b0_1\n",
      "  - conda-forge/noarch::ipywidgets==8.0.4=pyhd8ed1ab_0\n",
      "  - defaults/win-64::jedi==0.18.1=py39haa95532_1\n",
      "  - defaults/win-64::jinja2==3.1.2=py39haa95532_0\n",
      "  - defaults/win-64::joblib==1.1.1=py39haa95532_0\n",
      "  - defaults/noarch::json5==0.9.6=pyhd3eb1b0_0\n",
      "  - defaults/win-64::jsonschema==4.17.3=py39haa95532_0\n",
      "  - defaults/win-64::jupyterlab==3.5.3=py39haa95532_0\n",
      "  - defaults/noarch::jupyterlab_pygments==0.1.2=py_0\n",
      "  - defaults/win-64::jupyterlab_server==2.19.0=py39haa95532_0\n",
      "  - conda-forge/noarch::jupyterlab_widgets==3.0.5=pyhd8ed1ab_0\n",
      "  - defaults/win-64::jupyter_client==7.4.9=py39haa95532_0\n",
      "  - defaults/win-64::jupyter_core==5.2.0=py39haa95532_0\n",
      "  - defaults/win-64::jupyter_server==1.23.4=py39haa95532_0\n",
      "  - conda-forge/win-64::kiwisolver==1.4.4=py39h2e07f2f_0\n",
      "  - defaults/win-64::lxml==4.9.1=py39h1985fb9_0\n",
      "  - defaults/win-64::markupsafe==2.1.1=py39h2bbff1b_0\n",
      "  - conda-forge/win-64::matplotlib==3.7.1=py39hcbf5309_0\n",
      "  - defaults/win-64::matplotlib-base==3.7.1=py39hf11a4ad_0\n",
      "  - defaults/win-64::matplotlib-inline==0.1.6=py39haa95532_0\n",
      "  - defaults/win-64::mistune==0.8.4=py39h2bbff1b_1000\n",
      "  - defaults/win-64::mkl-service==2.4.0=py39h2bbff1b_0\n",
      "  - defaults/win-64::mkl_fft==1.3.1=py39h277e83a_0\n",
      "  - defaults/win-64::mkl_random==1.2.2=py39hf11a4ad_0\n",
      "  - conda-forge/noarch::munkres==1.1.4=pyh9f0ad1d_0\n",
      "  - defaults/win-64::nbclassic==0.5.2=py39haa95532_0\n",
      "  - defaults/win-64::nbclient==0.5.13=py39haa95532_0\n",
      "  - defaults/win-64::nbconvert==6.5.4=py39haa95532_0\n",
      "  - defaults/win-64::nbformat==5.7.0=py39haa95532_0\n",
      "  - defaults/win-64::nest-asyncio==1.5.6=py39haa95532_0\n",
      "  - defaults/noarch::nltk==3.7=pyhd3eb1b0_0\n",
      "  - defaults/win-64::notebook==6.5.2=py39haa95532_0\n",
      "  - defaults/win-64::notebook-shim==0.2.2=py39haa95532_0\n",
      "  - defaults/win-64::numexpr==2.8.4=py39h5b0cc5e_0\n",
      "  - defaults/win-64::numpy==1.23.5=py39h3b20f71_0\n",
      "  - defaults/win-64::numpy-base==1.23.5=py39h4da318b_0\n",
      "  - defaults/win-64::packaging==22.0=py39haa95532_0\n",
      "  - defaults/win-64::pandas==1.5.3=py39hf11a4ad_0\n",
      "  - defaults/noarch::pandocfilters==1.5.0=pyhd3eb1b0_0\n",
      "  - defaults/noarch::parso==0.8.3=pyhd3eb1b0_0\n",
      "  - defaults/noarch::pickleshare==0.7.5=pyhd3eb1b0_1003\n",
      "  - defaults/win-64::pillow==9.4.0=py39hd77b12b_0\n",
      "  - defaults/win-64::pip==23.0.1=py39haa95532_0\n",
      "  - defaults/win-64::platformdirs==2.5.2=py39haa95532_0\n",
      "  - conda-forge/noarch::pooch==1.7.0=pyhd8ed1ab_0\n",
      "  - defaults/win-64::prometheus_client==0.14.1=py39haa95532_0\n",
      "  - defaults/win-64::prompt-toolkit==3.0.36=py39haa95532_0\n",
      "  - defaults/win-64::protobuf==3.20.3=py39hd77b12b_0\n",
      "  - defaults/win-64::psutil==5.9.0=py39h2bbff1b_0\n",
      "  - defaults/noarch::pure_eval==0.2.2=pyhd3eb1b0_0\n",
      "  - defaults/noarch::pycparser==2.21=pyhd3eb1b0_0\n",
      "  - defaults/noarch::pygments==2.11.2=pyhd3eb1b0_0\n",
      "  - defaults/win-64::pyopenssl==23.0.0=py39haa95532_0\n",
      "  - conda-forge/noarch::pyparsing==3.0.9=pyhd8ed1ab_0\n",
      "  - conda-forge/win-64::pyqt==5.12.3=py39hb0d2dfa_4\n",
      "  - defaults/win-64::pyrsistent==0.18.0=py39h196d8e1_0\n",
      "  - defaults/win-64::pysocks==1.7.1=py39haa95532_0\n",
      "  - defaults/win-64::python==3.9.16=h6244533_2\n",
      "  - defaults/noarch::python-dateutil==2.8.2=pyhd3eb1b0_0\n",
      "  - defaults/win-64::python-fastjsonschema==2.16.2=py39haa95532_0\n",
      "  - conda-forge/win-64::python_abi==3.9=2_cp39\n",
      "  - pytorch/win-64::pytorch==1.13.1=py3.9_cpu_0\n",
      "  - defaults/win-64::pytz==2022.7=py39haa95532_0\n",
      "  - defaults/win-64::pywin32==305=py39h2bbff1b_0\n",
      "  - defaults/win-64::pywinpty==2.0.10=py39h5da7b33_0\n",
      "  - defaults/win-64::pyyaml==6.0=py39h2bbff1b_1\n",
      "  - defaults/win-64::pyzmq==23.2.0=py39hd77b12b_0\n",
      "  - defaults/win-64::requests==2.28.1=py39haa95532_0\n",
      "  - huggingface/noarch::sacremoses==master=py_0\n",
      "  - defaults/win-64::scikit-learn==1.2.1=py39hd77b12b_0\n",
      "  - defaults/win-64::scipy==1.10.0=py39h321e85e_1\n",
      "  - defaults/noarch::send2trash==1.8.0=pyhd3eb1b0_1\n",
      "  - conda-forge/noarch::sentence-transformers==2.2.2=pyhd8ed1ab_0\n",
      "  - defaults/win-64::sentencepiece==0.1.95=py39h59b6b97_0\n",
      "  - conda-forge/noarch::sgmllib3k==1.0.0=pyh9f0ad1d_0\n",
      "  - defaults/noarch::six==1.16.0=pyhd3eb1b0_1\n",
      "  - defaults/win-64::sniffio==1.2.0=py39haa95532_1\n",
      "  - defaults/win-64::soupsieve==2.3.2.post1=py39haa95532_0\n",
      "  - defaults/noarch::stack_data==0.2.0=pyhd3eb1b0_0\n",
      "  - defaults/win-64::terminado==0.17.1=py39haa95532_0\n",
      "  - conda-forge/noarch::threadpoolctl==3.1.0=pyh8a188c0_0\n",
      "  - defaults/win-64::tinycss2==1.2.1=py39haa95532_0\n",
      "  - huggingface/win-64::tokenizers==0.13.0.dev0=py39_0\n",
      "  - defaults/win-64::tomli==2.0.1=py39haa95532_0\n",
      "  - pytorch/win-64::torchaudio==0.13.1=py39_cpu\n",
      "  - pytorch/win-64::torchvision==0.14.1=py39_cpu\n",
      "  - defaults/win-64::tornado==6.2=py39h2bbff1b_0\n",
      "  - defaults/win-64::tqdm==4.64.1=py39haa95532_0\n",
      "  - defaults/win-64::traitlets==5.7.1=py39haa95532_0\n",
      "  - huggingface/noarch::transformers==4.26.1=py_0\n",
      "  - defaults/win-64::typing-extensions==4.4.0=py39haa95532_0\n",
      "  - defaults/win-64::typing_extensions==4.4.0=py39haa95532_0\n",
      "  - defaults/win-64::urllib3==1.26.14=py39haa95532_0\n",
      "  - defaults/noarch::wcwidth==0.2.5=pyhd3eb1b0_0\n",
      "  - defaults/win-64::webencodings==0.5.1=py39haa95532_1\n",
      "  - defaults/win-64::websocket-client==0.58.0=py39haa95532_4\n",
      "  - defaults/win-64::wheel==0.38.4=py39haa95532_0\n",
      "  - conda-forge/noarch::widgetsnbextension==4.0.5=pyhd8ed1ab_0\n",
      "  - defaults/win-64::wincertstore==0.2=py39haa95532_2\n",
      "  - defaults/win-64::win_inet_pton==1.1.0=py39haa95532_0\n",
      "  - conda-forge/win-64::wordcloud==1.8.2.2=py39hb82d6ee_0\n",
      "  - defaults/win-64::zipp==3.11.0=py39haa95532_0\n"
     ]
    }
   ],
   "source": [
    "conda install -c conda-forge newspaper3k"
   ]
  },
  {
   "cell_type": "code",
   "execution_count": 37,
   "id": "84bb204c-fbb9-49a8-a92b-54a5217e30c6",
   "metadata": {},
   "outputs": [],
   "source": [
    "from pygooglenews import GoogleNews\n",
    "from newspaper import Article\n",
    "import nltk\n",
    "\n",
    "gn = GoogleNews()"
   ]
  },
  {
   "cell_type": "code",
   "execution_count": 18,
   "id": "4090ccc2",
   "metadata": {},
   "outputs": [
    {
     "ename": "Exception",
     "evalue": "Could not parse your date",
     "output_type": "error",
     "traceback": [
      "\u001b[1;31m---------------------------------------------------------------------------\u001b[0m",
      "\u001b[1;31merror\u001b[0m                                     Traceback (most recent call last)",
      "File \u001b[1;32m~\\Anaconda3\\envs\\thesis\\lib\\site-packages\\pygooglenews\\__init__.py:90\u001b[0m, in \u001b[0;36mGoogleNews.__from_to_helper\u001b[1;34m(self, validate)\u001b[0m\n\u001b[0;32m     89\u001b[0m \u001b[38;5;28;01mtry\u001b[39;00m:\n\u001b[1;32m---> 90\u001b[0m     validate \u001b[38;5;241m=\u001b[39m \u001b[43mparse_date\u001b[49m\u001b[43m(\u001b[49m\u001b[43mvalidate\u001b[49m\u001b[43m)\u001b[49m\u001b[38;5;241m.\u001b[39mstrftime(\u001b[38;5;124m'\u001b[39m\u001b[38;5;124m%\u001b[39m\u001b[38;5;124mY-\u001b[39m\u001b[38;5;124m%\u001b[39m\u001b[38;5;124mm-\u001b[39m\u001b[38;5;132;01m%d\u001b[39;00m\u001b[38;5;124m'\u001b[39m)\n\u001b[0;32m     91\u001b[0m     \u001b[38;5;28;01mreturn\u001b[39;00m \u001b[38;5;28mstr\u001b[39m(validate)\n",
      "File \u001b[1;32m~\\Anaconda3\\envs\\thesis\\lib\\site-packages\\dateparser\\conf.py:85\u001b[0m, in \u001b[0;36mapply_settings.<locals>.wrapper\u001b[1;34m(*args, **kwargs)\u001b[0m\n\u001b[0;32m     82\u001b[0m     \u001b[38;5;28;01mraise\u001b[39;00m \u001b[38;5;167;01mTypeError\u001b[39;00m(\n\u001b[0;32m     83\u001b[0m         \u001b[38;5;124m\"\u001b[39m\u001b[38;5;124msettings can only be either dict or instance of Settings class\u001b[39m\u001b[38;5;124m\"\u001b[39m)\n\u001b[1;32m---> 85\u001b[0m \u001b[38;5;28;01mreturn\u001b[39;00m f(\u001b[38;5;241m*\u001b[39margs, \u001b[38;5;241m*\u001b[39m\u001b[38;5;241m*\u001b[39mkwargs)\n",
      "File \u001b[1;32m~\\Anaconda3\\envs\\thesis\\lib\\site-packages\\dateparser\\__init__.py:53\u001b[0m, in \u001b[0;36mparse\u001b[1;34m(date_string, date_formats, languages, locales, region, settings)\u001b[0m\n\u001b[0;32m     50\u001b[0m     parser \u001b[38;5;241m=\u001b[39m DateDataParser(languages\u001b[38;5;241m=\u001b[39mlanguages, locales\u001b[38;5;241m=\u001b[39mlocales,\n\u001b[0;32m     51\u001b[0m                             region\u001b[38;5;241m=\u001b[39mregion, settings\u001b[38;5;241m=\u001b[39msettings)\n\u001b[1;32m---> 53\u001b[0m data \u001b[38;5;241m=\u001b[39m \u001b[43mparser\u001b[49m\u001b[38;5;241;43m.\u001b[39;49m\u001b[43mget_date_data\u001b[49m\u001b[43m(\u001b[49m\u001b[43mdate_string\u001b[49m\u001b[43m,\u001b[49m\u001b[43m \u001b[49m\u001b[43mdate_formats\u001b[49m\u001b[43m)\u001b[49m\n\u001b[0;32m     55\u001b[0m \u001b[38;5;28;01mif\u001b[39;00m data:\n",
      "File \u001b[1;32m~\\Anaconda3\\envs\\thesis\\lib\\site-packages\\dateparser\\date.py:417\u001b[0m, in \u001b[0;36mDateDataParser.get_date_data\u001b[1;34m(self, date_string, date_formats)\u001b[0m\n\u001b[0;32m    416\u001b[0m \u001b[38;5;28;01mfor\u001b[39;00m locale \u001b[38;5;129;01min\u001b[39;00m \u001b[38;5;28mself\u001b[39m\u001b[38;5;241m.\u001b[39m_get_applicable_locales(date_string):\n\u001b[1;32m--> 417\u001b[0m     parsed_date \u001b[38;5;241m=\u001b[39m \u001b[43m_DateLocaleParser\u001b[49m\u001b[38;5;241;43m.\u001b[39;49m\u001b[43mparse\u001b[49m\u001b[43m(\u001b[49m\n\u001b[0;32m    418\u001b[0m \u001b[43m        \u001b[49m\u001b[43mlocale\u001b[49m\u001b[43m,\u001b[49m\u001b[43m \u001b[49m\u001b[43mdate_string\u001b[49m\u001b[43m,\u001b[49m\u001b[43m \u001b[49m\u001b[43mdate_formats\u001b[49m\u001b[43m,\u001b[49m\u001b[43m \u001b[49m\u001b[43msettings\u001b[49m\u001b[38;5;241;43m=\u001b[39;49m\u001b[38;5;28;43mself\u001b[39;49m\u001b[38;5;241;43m.\u001b[39;49m\u001b[43m_settings\u001b[49m\u001b[43m)\u001b[49m\n\u001b[0;32m    419\u001b[0m     \u001b[38;5;28;01mif\u001b[39;00m parsed_date:\n",
      "File \u001b[1;32m~\\Anaconda3\\envs\\thesis\\lib\\site-packages\\dateparser\\date.py:194\u001b[0m, in \u001b[0;36m_DateLocaleParser.parse\u001b[1;34m(cls, locale, date_string, date_formats, settings)\u001b[0m\n\u001b[0;32m    193\u001b[0m instance \u001b[38;5;241m=\u001b[39m \u001b[38;5;28mcls\u001b[39m(locale, date_string, date_formats, settings)\n\u001b[1;32m--> 194\u001b[0m \u001b[38;5;28;01mreturn\u001b[39;00m \u001b[43minstance\u001b[49m\u001b[38;5;241;43m.\u001b[39;49m\u001b[43m_parse\u001b[49m\u001b[43m(\u001b[49m\u001b[43m)\u001b[49m\n",
      "File \u001b[1;32m~\\Anaconda3\\envs\\thesis\\lib\\site-packages\\dateparser\\date.py:198\u001b[0m, in \u001b[0;36m_DateLocaleParser._parse\u001b[1;34m(self)\u001b[0m\n\u001b[0;32m    197\u001b[0m \u001b[38;5;28;01mfor\u001b[39;00m parser_name \u001b[38;5;129;01min\u001b[39;00m \u001b[38;5;28mself\u001b[39m\u001b[38;5;241m.\u001b[39m_settings\u001b[38;5;241m.\u001b[39mPARSERS:\n\u001b[1;32m--> 198\u001b[0m     date_obj \u001b[38;5;241m=\u001b[39m \u001b[38;5;28;43mself\u001b[39;49m\u001b[38;5;241;43m.\u001b[39;49m\u001b[43m_parsers\u001b[49m\u001b[43m[\u001b[49m\u001b[43mparser_name\u001b[49m\u001b[43m]\u001b[49m\u001b[43m(\u001b[49m\u001b[43m)\u001b[49m\n\u001b[0;32m    199\u001b[0m     \u001b[38;5;28;01mif\u001b[39;00m \u001b[38;5;28mself\u001b[39m\u001b[38;5;241m.\u001b[39m_is_valid_date_obj(date_obj):\n",
      "File \u001b[1;32m~\\Anaconda3\\envs\\thesis\\lib\\site-packages\\dateparser\\date.py:212\u001b[0m, in \u001b[0;36m_DateLocaleParser._try_freshness_parser\u001b[1;34m(self)\u001b[0m\n\u001b[0;32m    211\u001b[0m \u001b[38;5;28;01mtry\u001b[39;00m:\n\u001b[1;32m--> 212\u001b[0m     \u001b[38;5;28;01mreturn\u001b[39;00m freshness_date_parser\u001b[38;5;241m.\u001b[39mget_date_data(\u001b[38;5;28;43mself\u001b[39;49m\u001b[38;5;241;43m.\u001b[39;49m\u001b[43m_get_translated_date\u001b[49m\u001b[43m(\u001b[49m\u001b[43m)\u001b[49m, \u001b[38;5;28mself\u001b[39m\u001b[38;5;241m.\u001b[39m_settings)\n\u001b[0;32m    213\u001b[0m \u001b[38;5;28;01mexcept\u001b[39;00m (\u001b[38;5;167;01mOverflowError\u001b[39;00m, \u001b[38;5;167;01mValueError\u001b[39;00m):\n",
      "File \u001b[1;32m~\\Anaconda3\\envs\\thesis\\lib\\site-packages\\dateparser\\date.py:261\u001b[0m, in \u001b[0;36m_DateLocaleParser._get_translated_date\u001b[1;34m(self)\u001b[0m\n\u001b[0;32m    260\u001b[0m \u001b[38;5;28;01mif\u001b[39;00m \u001b[38;5;28mself\u001b[39m\u001b[38;5;241m.\u001b[39m_translated_date \u001b[38;5;129;01mis\u001b[39;00m \u001b[38;5;28;01mNone\u001b[39;00m:\n\u001b[1;32m--> 261\u001b[0m     \u001b[38;5;28mself\u001b[39m\u001b[38;5;241m.\u001b[39m_translated_date \u001b[38;5;241m=\u001b[39m \u001b[38;5;28;43mself\u001b[39;49m\u001b[38;5;241;43m.\u001b[39;49m\u001b[43mlocale\u001b[49m\u001b[38;5;241;43m.\u001b[39;49m\u001b[43mtranslate\u001b[49m\u001b[43m(\u001b[49m\n\u001b[0;32m    262\u001b[0m \u001b[43m        \u001b[49m\u001b[38;5;28;43mself\u001b[39;49m\u001b[38;5;241;43m.\u001b[39;49m\u001b[43mdate_string\u001b[49m\u001b[43m,\u001b[49m\u001b[43m \u001b[49m\u001b[43mkeep_formatting\u001b[49m\u001b[38;5;241;43m=\u001b[39;49m\u001b[38;5;28;43;01mFalse\u001b[39;49;00m\u001b[43m,\u001b[49m\u001b[43m \u001b[49m\u001b[43msettings\u001b[49m\u001b[38;5;241;43m=\u001b[39;49m\u001b[38;5;28;43mself\u001b[39;49m\u001b[38;5;241;43m.\u001b[39;49m\u001b[43m_settings\u001b[49m\u001b[43m)\u001b[49m\n\u001b[0;32m    263\u001b[0m \u001b[38;5;28;01mreturn\u001b[39;00m \u001b[38;5;28mself\u001b[39m\u001b[38;5;241m.\u001b[39m_translated_date\n",
      "File \u001b[1;32m~\\Anaconda3\\envs\\thesis\\lib\\site-packages\\dateparser\\languages\\locale.py:135\u001b[0m, in \u001b[0;36mLocale.translate\u001b[1;34m(self, date_string, keep_formatting, settings)\u001b[0m\n\u001b[0;32m    133\u001b[0m date_string_tokens \u001b[38;5;241m=\u001b[39m dictionary\u001b[38;5;241m.\u001b[39msplit(date_string, keep_formatting)\n\u001b[1;32m--> 135\u001b[0m relative_translations \u001b[38;5;241m=\u001b[39m \u001b[38;5;28;43mself\u001b[39;49m\u001b[38;5;241;43m.\u001b[39;49m\u001b[43m_get_relative_translations\u001b[49m\u001b[43m(\u001b[49m\u001b[43msettings\u001b[49m\u001b[38;5;241;43m=\u001b[39;49m\u001b[43msettings\u001b[49m\u001b[43m)\u001b[49m\n\u001b[0;32m    137\u001b[0m \u001b[38;5;28;01mfor\u001b[39;00m i, word \u001b[38;5;129;01min\u001b[39;00m \u001b[38;5;28menumerate\u001b[39m(date_string_tokens):\n",
      "File \u001b[1;32m~\\Anaconda3\\envs\\thesis\\lib\\site-packages\\dateparser\\languages\\locale.py:164\u001b[0m, in \u001b[0;36mLocale._get_relative_translations\u001b[1;34m(self, settings)\u001b[0m\n\u001b[0;32m    162\u001b[0m \u001b[38;5;28;01mif\u001b[39;00m \u001b[38;5;28mself\u001b[39m\u001b[38;5;241m.\u001b[39m_normalized_relative_translations \u001b[38;5;129;01mis\u001b[39;00m \u001b[38;5;28;01mNone\u001b[39;00m:\n\u001b[0;32m    163\u001b[0m     \u001b[38;5;28mself\u001b[39m\u001b[38;5;241m.\u001b[39m_normalized_relative_translations \u001b[38;5;241m=\u001b[39m (\n\u001b[1;32m--> 164\u001b[0m             \u001b[38;5;28;43mself\u001b[39;49m\u001b[38;5;241;43m.\u001b[39;49m\u001b[43m_generate_relative_translations\u001b[49m\u001b[43m(\u001b[49m\u001b[43mnormalize\u001b[49m\u001b[38;5;241;43m=\u001b[39;49m\u001b[38;5;28;43;01mTrue\u001b[39;49;00m\u001b[43m)\u001b[49m)\n\u001b[0;32m    165\u001b[0m \u001b[38;5;28;01mreturn\u001b[39;00m \u001b[38;5;28mself\u001b[39m\u001b[38;5;241m.\u001b[39m_normalized_relative_translations\n",
      "File \u001b[1;32m~\\Anaconda3\\envs\\thesis\\lib\\site-packages\\dateparser\\languages\\locale.py:178\u001b[0m, in \u001b[0;36mLocale._generate_relative_translations\u001b[1;34m(self, normalize)\u001b[0m\n\u001b[0;32m    177\u001b[0m pattern \u001b[38;5;241m=\u001b[39m \u001b[38;5;124m'\u001b[39m\u001b[38;5;124m|\u001b[39m\u001b[38;5;124m'\u001b[39m\u001b[38;5;241m.\u001b[39mjoin(\u001b[38;5;28msorted\u001b[39m(value, key\u001b[38;5;241m=\u001b[39m\u001b[38;5;28mlen\u001b[39m, reverse\u001b[38;5;241m=\u001b[39m\u001b[38;5;28;01mTrue\u001b[39;00m))\n\u001b[1;32m--> 178\u001b[0m pattern \u001b[38;5;241m=\u001b[39m \u001b[43mDIGIT_GROUP_PATTERN\u001b[49m\u001b[38;5;241;43m.\u001b[39;49m\u001b[43msub\u001b[49m\u001b[43m(\u001b[49m\u001b[38;5;124;43mr\u001b[39;49m\u001b[38;5;124;43m'\u001b[39;49m\u001b[38;5;124;43m?P<n>\u001b[39;49m\u001b[38;5;124;43m\\\u001b[39;49m\u001b[38;5;124;43md+\u001b[39;49m\u001b[38;5;124;43m'\u001b[39;49m\u001b[43m,\u001b[49m\u001b[43m \u001b[49m\u001b[43mpattern\u001b[49m\u001b[43m)\u001b[49m\n\u001b[0;32m    179\u001b[0m pattern \u001b[38;5;241m=\u001b[39m re\u001b[38;5;241m.\u001b[39mcompile(\u001b[38;5;124mr\u001b[39m\u001b[38;5;124m'\u001b[39m\u001b[38;5;124m^(?:\u001b[39m\u001b[38;5;132;01m{}\u001b[39;00m\u001b[38;5;124m)$\u001b[39m\u001b[38;5;124m'\u001b[39m\u001b[38;5;241m.\u001b[39mformat(pattern), re\u001b[38;5;241m.\u001b[39mUNICODE \u001b[38;5;241m|\u001b[39m re\u001b[38;5;241m.\u001b[39mIGNORECASE)\n",
      "File \u001b[1;32m~\\Anaconda3\\envs\\thesis\\lib\\site-packages\\regex\\regex.py:702\u001b[0m, in \u001b[0;36m_compile_replacement_helper\u001b[1;34m(pattern, template)\u001b[0m\n\u001b[0;32m    698\u001b[0m \u001b[38;5;28;01mif\u001b[39;00m ch \u001b[38;5;241m==\u001b[39m \u001b[38;5;124m\"\u001b[39m\u001b[38;5;130;01m\\\\\u001b[39;00m\u001b[38;5;124m\"\u001b[39m:\n\u001b[0;32m    699\u001b[0m     \u001b[38;5;66;03m# '_compile_replacement' will return either an int group reference\u001b[39;00m\n\u001b[0;32m    700\u001b[0m     \u001b[38;5;66;03m# or a string literal. It returns items (plural) in order to handle\u001b[39;00m\n\u001b[0;32m    701\u001b[0m     \u001b[38;5;66;03m# a 2-character literal (an invalid escape sequence).\u001b[39;00m\n\u001b[1;32m--> 702\u001b[0m     is_group, items \u001b[38;5;241m=\u001b[39m \u001b[43m_compile_replacement\u001b[49m\u001b[43m(\u001b[49m\u001b[43msource\u001b[49m\u001b[43m,\u001b[49m\u001b[43m \u001b[49m\u001b[43mpattern\u001b[49m\u001b[43m,\u001b[49m\u001b[43m \u001b[49m\u001b[43mis_unicode\u001b[49m\u001b[43m)\u001b[49m\n\u001b[0;32m    703\u001b[0m     \u001b[38;5;28;01mif\u001b[39;00m is_group:\n\u001b[0;32m    704\u001b[0m         \u001b[38;5;66;03m# It's a group, so first flush the literal.\u001b[39;00m\n",
      "File \u001b[1;32m~\\Anaconda3\\envs\\thesis\\lib\\site-packages\\regex\\_regex_core.py:1737\u001b[0m, in \u001b[0;36m_compile_replacement\u001b[1;34m(source, pattern, is_unicode)\u001b[0m\n\u001b[0;32m   1735\u001b[0m             \u001b[38;5;28;01mreturn\u001b[39;00m \u001b[38;5;28;01mFalse\u001b[39;00m, [value]\n\u001b[1;32m-> 1737\u001b[0m     \u001b[38;5;28;01mraise\u001b[39;00m error(\u001b[38;5;124m\"\u001b[39m\u001b[38;5;124mbad escape \u001b[39m\u001b[38;5;130;01m\\\\\u001b[39;00m\u001b[38;5;132;01m%s\u001b[39;00m\u001b[38;5;124m\"\u001b[39m \u001b[38;5;241m%\u001b[39m ch, source\u001b[38;5;241m.\u001b[39mstring, source\u001b[38;5;241m.\u001b[39mpos)\n\u001b[0;32m   1739\u001b[0m \u001b[38;5;28;01mif\u001b[39;00m \u001b[38;5;28misinstance\u001b[39m(source\u001b[38;5;241m.\u001b[39msep, \u001b[38;5;28mbytes\u001b[39m):\n",
      "\u001b[1;31merror\u001b[0m: bad escape \\d at position 7",
      "\nDuring handling of the above exception, another exception occurred:\n",
      "\u001b[1;31mException\u001b[0m                                 Traceback (most recent call last)",
      "Cell \u001b[1;32mIn[22], line 1\u001b[0m\n\u001b[1;32m----> 1\u001b[0m \u001b[43mgn\u001b[49m\u001b[38;5;241;43m.\u001b[39;49m\u001b[43msearch\u001b[49m\u001b[43m(\u001b[49m\u001b[38;5;124;43m'\u001b[39;49m\u001b[38;5;124;43mCoca Cola sustainability\u001b[39;49m\u001b[38;5;124;43m'\u001b[39;49m\u001b[43m,\u001b[49m\u001b[43m \u001b[49m\u001b[43mfrom_\u001b[49m\u001b[43m \u001b[49m\u001b[38;5;241;43m=\u001b[39;49m\u001b[43m \u001b[49m\u001b[38;5;124;43m'\u001b[39;49m\u001b[38;5;124;43m01/01/2021\u001b[39;49m\u001b[38;5;124;43m'\u001b[39;49m\u001b[43m,\u001b[49m\u001b[43m \u001b[49m\u001b[43mto_\u001b[49m\u001b[38;5;241;43m=\u001b[39;49m\u001b[43m \u001b[49m\u001b[38;5;124;43m'\u001b[39;49m\u001b[38;5;124;43m01/31/2021\u001b[39;49m\u001b[38;5;124;43m'\u001b[39;49m\u001b[43m)\u001b[49m\n",
      "File \u001b[1;32m~\\Anaconda3\\envs\\thesis\\lib\\site-packages\\pygooglenews\\__init__.py:141\u001b[0m, in \u001b[0;36mGoogleNews.search\u001b[1;34m(self, query, helper, when, from_, to_, proxies, scraping_bee)\u001b[0m\n\u001b[0;32m    138\u001b[0m     query \u001b[38;5;241m+\u001b[39m\u001b[38;5;241m=\u001b[39m \u001b[38;5;124m'\u001b[39m\u001b[38;5;124m when:\u001b[39m\u001b[38;5;124m'\u001b[39m \u001b[38;5;241m+\u001b[39m when\n\u001b[0;32m    140\u001b[0m \u001b[38;5;28;01mif\u001b[39;00m from_ \u001b[38;5;129;01mand\u001b[39;00m \u001b[38;5;129;01mnot\u001b[39;00m when:\n\u001b[1;32m--> 141\u001b[0m     from_ \u001b[38;5;241m=\u001b[39m \u001b[38;5;28;43mself\u001b[39;49m\u001b[38;5;241;43m.\u001b[39;49m\u001b[43m__from_to_helper\u001b[49m\u001b[43m(\u001b[49m\u001b[43mvalidate\u001b[49m\u001b[38;5;241;43m=\u001b[39;49m\u001b[43mfrom_\u001b[49m\u001b[43m)\u001b[49m\n\u001b[0;32m    142\u001b[0m     query \u001b[38;5;241m+\u001b[39m\u001b[38;5;241m=\u001b[39m \u001b[38;5;124m'\u001b[39m\u001b[38;5;124m after:\u001b[39m\u001b[38;5;124m'\u001b[39m \u001b[38;5;241m+\u001b[39m from_\n\u001b[0;32m    144\u001b[0m \u001b[38;5;28;01mif\u001b[39;00m to_ \u001b[38;5;129;01mand\u001b[39;00m \u001b[38;5;129;01mnot\u001b[39;00m when:\n",
      "File \u001b[1;32m~\\Anaconda3\\envs\\thesis\\lib\\site-packages\\pygooglenews\\__init__.py:93\u001b[0m, in \u001b[0;36mGoogleNews.__from_to_helper\u001b[1;34m(self, validate)\u001b[0m\n\u001b[0;32m     91\u001b[0m     \u001b[38;5;28;01mreturn\u001b[39;00m \u001b[38;5;28mstr\u001b[39m(validate)\n\u001b[0;32m     92\u001b[0m \u001b[38;5;28;01mexcept\u001b[39;00m:\n\u001b[1;32m---> 93\u001b[0m     \u001b[38;5;28;01mraise\u001b[39;00m \u001b[38;5;167;01mException\u001b[39;00m(\u001b[38;5;124m'\u001b[39m\u001b[38;5;124mCould not parse your date\u001b[39m\u001b[38;5;124m'\u001b[39m)\n",
      "\u001b[1;31mException\u001b[0m: Could not parse your date"
     ]
    }
   ],
   "source": [
    "test = gn.search('intitle:coca-cola intext:sustainability -stocks')"
   ]
  },
  {
   "cell_type": "code",
   "execution_count": 19,
   "id": "0d92d432-945c-4eb4-8810-78c701f3178e",
   "metadata": {},
   "outputs": [],
   "source": [
    "links = []\n",
    "titles = []\n",
    "\n",
    "for item in test['entries']:\n",
    "    links.append(item['link'])\n",
    "    titles.append(item['title'])"
   ]
  },
  {
   "cell_type": "code",
   "execution_count": 44,
   "id": "c6743390-82de-438a-b939-4736aaf58b38",
   "metadata": {},
   "outputs": [
    {
     "data": {
      "text/plain": [
       "'https://news.google.com/rss/articles/CBMidWh0dHBzOi8vd3d3LnRoZWRydW0uY29tL25ld3MvMjAyMy8wMy8yNy9zdXN0YWluYWJpbGl0eS1pbXBvcnRhbnQtZmlyc3QtcGFydHktZGF0YS1zYXlzLWNvY2EtY29sYS1hc2Vhbi1tYXJrZXRpbmctYm9zc9IBAA?oc=5'"
      ]
     },
     "execution_count": 44,
     "metadata": {},
     "output_type": "execute_result"
    }
   ],
   "source": [
    "links[0]"
   ]
  },
  {
   "cell_type": "code",
   "execution_count": 24,
   "id": "e8cd3417-b1de-42a1-9e96-9a1870cb7679",
   "metadata": {},
   "outputs": [
    {
     "data": {
      "text/plain": [
       "\"Enviro Group Wants Coca-Cola 'Greenwashing' Suit Revived - Law360\""
      ]
     },
     "execution_count": 24,
     "metadata": {},
     "output_type": "execute_result"
    }
   ],
   "source": [
    "titles[2]"
   ]
  },
  {
   "cell_type": "code",
   "execution_count": 49,
   "id": "8831efe7-f447-41fd-8fe5-1693b17c454e",
   "metadata": {},
   "outputs": [],
   "source": [
    "url = 'https://www.thedrum.com/news/2023/03/27/sustainability-important-first-party-data-says-coca-cola-asean-marketing-boss'"
   ]
  },
  {
   "cell_type": "code",
   "execution_count": 50,
   "id": "bd7199ae-d44b-44e7-804f-0923090adcc5",
   "metadata": {},
   "outputs": [],
   "source": [
    "article = Article(url)"
   ]
  },
  {
   "cell_type": "code",
   "execution_count": 51,
   "id": "5547cab9-baa8-4866-af53-242b38b24ac3",
   "metadata": {},
   "outputs": [],
   "source": [
    "#NLP \n",
    "article.download()\n",
    "article.parse()\n",
    "article.nlp()"
   ]
  },
  {
   "cell_type": "code",
   "execution_count": 52,
   "id": "bc9c4329-fe6f-4231-bca1-439d5ed4b6bc",
   "metadata": {},
   "outputs": [
    {
     "data": {
      "text/plain": [
       "'Marketers should consider sustainability as important as collecting first-party data, according to Coca-Cola’s lead APAC marketer.\\n\\nMatthias Blume, the vice president of marketing for ASEAN and South Pacific, told The Drum’s APAC Trends Briefing event, that marketers have a responsibility to drive education and action on sustainability in order to remain relevant to consumers.\\n\\n“Generation Z cares more about the environment than any other generation before them,” says Blume. “There is no other mega-trend out there, that is more critical for us and that will drive each and everything that we do. If we, as marketers, don\\'t embrace it. I don\\'t think we have a choice, or a role to play going forward.”\\n\\nDelivering the keynote presentation at The Drum\\'s inaugural marketing trends event in Singapore, Blume argued that marketers need to own sustainability, taking it out of public affairs, corporate responsibility or even public relations, and embed it firmly within marketing departments in order to drive change.\\n\\n“Talking about sustainability is fundamental when we talk about consumer centricity,\" says Blume.\\n\\nAdvertisement\\n\\n\"This is not about sustainability, because somebody in a corporate headquarters decided this looks good in an annual report. This is fundamentally what the consumers expect us to do. And the reason why they\\'re not willing to pay more is because they expect us to do the right things,\" says Blume.\\n\\n\"We need to rethink our approach and use our power - the force that we have as marketers - to do a better job. Because it\\'s what consumers, employees, and the society around us, expect.\"\\n\\n\"If you\\'re brand marketer think where\\'s the role in your activity. And it might be just in the way you activate an experience. It might be all the way up to really educating and driving consumer communication.\"\\n\\nAdvertisement\\n\\nHe believes that sustainability should be treated in a similar way to other marketing priorities such as collecting first-party data and brands should dedicate investment and time to the issue.\\n\\n\"Just like how my question to my team at the moment is, \\'how is this activity helping us to collect first-party data?\\' What if a question were, \\'what\\'s the sustainability element in the activation?\\' \\'How do you make sure you\\'re leaving a footprint that is smaller than what it would have been the day before?\\'\\n\\n\"The number of experiments I\\'m doing with my team, to see how we stay on top of the different marketing trends is enormous. We have now started to dedicate some of those to sustainability, to understand how we can do things differently. I don\\'t have the answer, we\\'re all learning. If we all put the consumer at the centre, I think we can evolve to a point where we can save solve the issue together.\"\\n\\nAs the backlash to greenwashing in marketing grows stronger, Blume argues that it is not an issue for Coca-Cola which is focused on genuine programs and initiatives to reduce its environmental footprint.\\n\\n\"At Coca Cola, sustainability is reflected today in our company purpose, and part of our commitment is to make a difference in the society we operate, leaving the planet in a better place is fundamental to the way we want to operate. So, we continue to use this purpose as our North Star to see what we want to do and how we operate.”\\n\\n\"At the end of the day, if you do things just to look good, I think it\\'s the wrong thing to do. I want to do things that have the ability to make an impact, they might start small as an experiment for us to learn what makes the biggest difference, and then they grow into something bigger.\"\\n\\nAdvertisement\\n\\nBlume accepts that the Coca-Cola brand is front and centre when consumers think about environmental concerns - especially in APAC, which is responsible for 80% of the world\\'s ocean plastic.\\n\\n\"When you see trash somewhere, I guarantee there will one or the other package from our company\", he says. However, this is why he believes the company\\'s commitment to solving the problems is so critical.\\n\\n\"It\\'s not something that we want to see as the Coca-Cola company. None of us working at the company wants to see our bottles out there as trash. Because every time I see it, it kind of it hurts, because that\\'s not where we want the products to be.\"\\n\\n\"Our objective by 2030, is that for every bottle or can that we sell, we collect at least one. It doesn\\'t have to be ours, because we don\\'t think it\\'s an issue of us versus someone else because we believe it is a collective responsibility.\"\\n\\nBlume spoke about Sprite and the decision to drop the brand\\'s iconic green bottle and replace it with a clear plastic bottle, which would improve the quality of the recycled material. Blume said the decision to remove the 60-year-old brand\\'s distinctive brand asset and use a clear plastic that meant the drink could be easily mistaken for water was \"a very difficult decision\"\\n\\n\"I took the risk to say I\\'m going to drop a distinctive brand asset, in order to do the right thing and start leading from a brand perspective. We spoke to consumers and they realized why we\\'re doing it and they actually appreciated it, they\\'re really happy and excited about it. So it\\'s only a risk if you don\\'t explain it to consumers. But if you explain it creates a big opportunity that you can leverage.\\n\\n\"Design matters in marketing, and it matters a great deal when we talk about sustainability and sustainable packaging.\"\\n\\nBlume\\'s keynote highlighted the projects, initiatives and partnerships the brand has established and co-created to help drive greater sustainability initiatives across its own organisation, the industry and the local areas and regions in which it operates.\\n\\n\"At Coca-Cola, we don\\'t have the answer. We\\'re doing a lot of different things to try to find the answer. We don\\'t think there\\'s one solution. But what we\\'re doing is we\\'re making sure that we are part of it,\" says Blume.'"
      ]
     },
     "execution_count": 52,
     "metadata": {},
     "output_type": "execute_result"
    }
   ],
   "source": [
    "article.text"
   ]
  },
  {
   "cell_type": "code",
   "execution_count": 53,
   "id": "e78d41fe-8c54-4991-b215-ca63e2865f64",
   "metadata": {},
   "outputs": [
    {
     "name": "stdout",
     "output_type": "stream",
     "text": [
      "Collecting gnews\n",
      "  Downloading gnews-0.2.7-py3-none-any.whl (14 kB)\n",
      "Collecting dnspython~=1.16.0\n",
      "  Downloading dnspython-1.16.0-py2.py3-none-any.whl (188 kB)\n",
      "     ---------------------------------------- 0.0/188.4 kB ? eta -:--:--\n",
      "     -------------------------------------- 188.4/188.4 kB 3.8 MB/s eta 0:00:00\n",
      "Collecting beautifulsoup4~=4.9.3\n",
      "  Downloading beautifulsoup4-4.9.3-py3-none-any.whl (115 kB)\n",
      "     ---------------------------------------- 0.0/115.8 kB ? eta -:--:--\n",
      "     -------------------------------------- 115.8/115.8 kB 3.4 MB/s eta 0:00:00\n",
      "Collecting pymongo~=3.12.0\n",
      "  Downloading pymongo-3.12.3-cp39-cp39-win_amd64.whl (398 kB)\n",
      "     ---------------------------------------- 0.0/398.4 kB ? eta -:--:--\n",
      "     ------------------------------------  389.1/398.4 kB 23.7 MB/s eta 0:00:01\n",
      "     -------------------------------------- 398.4/398.4 kB 5.0 MB/s eta 0:00:00\n",
      "Collecting bs4~=0.0.1\n",
      "  Downloading bs4-0.0.1.tar.gz (1.1 kB)\n",
      "  Preparing metadata (setup.py): started\n",
      "  Preparing metadata (setup.py): finished with status 'done'\n",
      "Requirement already satisfied: feedparser~=6.0.2 in c:\\users\\tnguyen10\\anaconda3\\envs\\thesis\\lib\\site-packages (from gnews) (6.0.10)\n",
      "Collecting python-dotenv~=0.19.0\n",
      "  Downloading python_dotenv-0.19.2-py2.py3-none-any.whl (17 kB)\n",
      "Collecting requests==2.26.0\n",
      "  Downloading requests-2.26.0-py2.py3-none-any.whl (62 kB)\n",
      "     ---------------------------------------- 0.0/62.3 kB ? eta -:--:--\n",
      "     ---------------------------------------- 62.3/62.3 kB 3.5 MB/s eta 0:00:00\n",
      "Requirement already satisfied: urllib3<1.27,>=1.21.1 in c:\\users\\tnguyen10\\anaconda3\\envs\\thesis\\lib\\site-packages (from requests==2.26.0->gnews) (1.26.14)\n",
      "Requirement already satisfied: idna<4,>=2.5 in c:\\users\\tnguyen10\\anaconda3\\envs\\thesis\\lib\\site-packages (from requests==2.26.0->gnews) (3.4)\n",
      "Requirement already satisfied: charset-normalizer~=2.0.0 in c:\\users\\tnguyen10\\anaconda3\\envs\\thesis\\lib\\site-packages (from requests==2.26.0->gnews) (2.0.4)\n",
      "Requirement already satisfied: certifi>=2017.4.17 in c:\\users\\tnguyen10\\anaconda3\\envs\\thesis\\lib\\site-packages (from requests==2.26.0->gnews) (2022.12.7)\n",
      "Requirement already satisfied: soupsieve>1.2 in c:\\users\\tnguyen10\\anaconda3\\envs\\thesis\\lib\\site-packages (from beautifulsoup4~=4.9.3->gnews) (2.3.2.post1)\n",
      "Requirement already satisfied: sgmllib3k in c:\\users\\tnguyen10\\anaconda3\\envs\\thesis\\lib\\site-packages (from feedparser~=6.0.2->gnews) (1.0.0)\n",
      "Building wheels for collected packages: bs4\n",
      "  Building wheel for bs4 (setup.py): started\n",
      "  Building wheel for bs4 (setup.py): finished with status 'done'\n",
      "  Created wheel for bs4: filename=bs4-0.0.1-py3-none-any.whl size=1264 sha256=e14de4e6340a755827cbf203efadbfd36bd8faa714436b1a5525f11d8a87b114\n",
      "  Stored in directory: c:\\users\\tnguyen10\\appdata\\local\\pip\\cache\\wheels\\73\\2b\\cb\\099980278a0c9a3e57ff1a89875ec07bfa0b6fcbebb9a8cad3\n",
      "Successfully built bs4\n",
      "Installing collected packages: requests, python-dotenv, pymongo, dnspython, beautifulsoup4, bs4, gnews\n",
      "  Attempting uninstall: requests\n",
      "    Found existing installation: requests 2.28.1\n",
      "    Uninstalling requests-2.28.1:\n",
      "      Successfully uninstalled requests-2.28.1\n",
      "  Attempting uninstall: beautifulsoup4\n",
      "    Found existing installation: beautifulsoup4 4.11.1\n",
      "    Uninstalling beautifulsoup4-4.11.1:\n",
      "      Successfully uninstalled beautifulsoup4-4.11.1\n",
      "Successfully installed beautifulsoup4-4.9.3 bs4-0.0.1 dnspython-1.16.0 gnews-0.2.7 pymongo-3.12.3 python-dotenv-0.19.2 requests-2.26.0\n",
      "Note: you may need to restart the kernel to use updated packages.\n"
     ]
    },
    {
     "name": "stderr",
     "output_type": "stream",
     "text": [
      "ERROR: pip's dependency resolver does not currently take into account all the packages that are installed. This behaviour is the source of the following dependency conflicts.\n",
      "pygooglenews 0.1.2 requires feedparser<6.0.0,>=5.2.1, but you have feedparser 6.0.10 which is incompatible.\n",
      "jupyterlab-server 2.19.0 requires requests>=2.28, but you have requests 2.26.0 which is incompatible.\n"
     ]
    }
   ],
   "source": [
    "pip install gnews"
   ]
  },
  {
   "cell_type": "code",
   "execution_count": null,
   "id": "deda4423-f579-429c-aa68-78153c988e53",
   "metadata": {},
   "outputs": [],
   "source": [
    "from gnews import GNews\n",
    "\n",
    "gn = GNews()\n",
    "testing = gn.get_news('coca-cola sustainability')\n",
    "testing"
   ]
  },
  {
   "cell_type": "code",
   "execution_count": 60,
   "id": "c0dce397-a6db-4c5b-9cd1-6f431641fd47",
   "metadata": {},
   "outputs": [],
   "source": [
    "fuck = testing[1]['url']"
   ]
  },
  {
   "cell_type": "code",
   "execution_count": 61,
   "id": "6e216c98-aa95-4a1f-b2dc-1a1b72ad3397",
   "metadata": {},
   "outputs": [
    {
     "name": "stderr",
     "output_type": "stream",
     "text": [
      "WARNING: pip is being invoked by an old script wrapper. This will fail in a future version of pip.\n",
      "Please see https://github.com/pypa/pip/issues/5599 for advice on fixing the underlying issue.\n",
      "To avoid this problem you can invoke Python with '-m pip' instead of running pip directly.\n"
     ]
    },
    {
     "data": {
      "text/html": [
       "<pre style=\"white-space:pre;overflow-x:auto;line-height:normal;font-family:Menlo,'DejaVu Sans Mono',consolas,'Courier New',monospace\">Requirement already satisfied: newspaper3k in c:\\users\\tnguyen10\\anaconda3\\envs\\thesis\\lib\\site-packages (0.2.8)\n",
       "</pre>\n"
      ],
      "text/plain": [
       "Requirement already satisfied: newspaper3k in c:\\users\\tnguyen10\\anaconda3\\envs\\thesis\\lib\\site-packages (0.2.8)\n"
      ]
     },
     "metadata": {},
     "output_type": "display_data"
    },
    {
     "data": {
      "text/html": [
       "<pre style=\"white-space:pre;overflow-x:auto;line-height:normal;font-family:Menlo,'DejaVu Sans Mono',consolas,'Courier New',monospace\">Requirement already satisfied: tinysegmenter==0.3 in c:\\users\\tnguyen10\\anaconda3\\envs\\thesis\\lib\\site-packages (from newspaper3k) (0.3)\n",
       "</pre>\n"
      ],
      "text/plain": [
       "Requirement already satisfied: tinysegmenter==0.3 in c:\\users\\tnguyen10\\anaconda3\\envs\\thesis\\lib\\site-packages (from newspaper3k) (0.3)\n"
      ]
     },
     "metadata": {},
     "output_type": "display_data"
    },
    {
     "data": {
      "text/html": [
       "<pre style=\"white-space:pre;overflow-x:auto;line-height:normal;font-family:Menlo,'DejaVu Sans Mono',consolas,'Courier New',monospace\">Requirement already satisfied: Pillow&gt;=3.3.0 in c:\\users\\tnguyen10\\anaconda3\\envs\\thesis\\lib\\site-packages (from newspaper3k) (9.4.0)\n",
       "</pre>\n"
      ],
      "text/plain": [
       "Requirement already satisfied: Pillow>=3.3.0 in c:\\users\\tnguyen10\\anaconda3\\envs\\thesis\\lib\\site-packages (from newspaper3k) (9.4.0)\n"
      ]
     },
     "metadata": {},
     "output_type": "display_data"
    },
    {
     "data": {
      "text/html": [
       "<pre style=\"white-space:pre;overflow-x:auto;line-height:normal;font-family:Menlo,'DejaVu Sans Mono',consolas,'Courier New',monospace\">Requirement already satisfied: nltk&gt;=3.2.1 in c:\\users\\tnguyen10\\anaconda3\\envs\\thesis\\lib\\site-packages (from newspaper3k) (3.7)\n",
       "</pre>\n"
      ],
      "text/plain": [
       "Requirement already satisfied: nltk>=3.2.1 in c:\\users\\tnguyen10\\anaconda3\\envs\\thesis\\lib\\site-packages (from newspaper3k) (3.7)\n"
      ]
     },
     "metadata": {},
     "output_type": "display_data"
    },
    {
     "data": {
      "text/html": [
       "<pre style=\"white-space:pre;overflow-x:auto;line-height:normal;font-family:Menlo,'DejaVu Sans Mono',consolas,'Courier New',monospace\">Requirement already satisfied: lxml&gt;=3.6.0 in c:\\users\\tnguyen10\\anaconda3\\envs\\thesis\\lib\\site-packages (from newspaper3k) (4.9.1)\n",
       "</pre>\n"
      ],
      "text/plain": [
       "Requirement already satisfied: lxml>=3.6.0 in c:\\users\\tnguyen10\\anaconda3\\envs\\thesis\\lib\\site-packages (from newspaper3k) (4.9.1)\n"
      ]
     },
     "metadata": {},
     "output_type": "display_data"
    },
    {
     "data": {
      "text/html": [
       "<pre style=\"white-space:pre;overflow-x:auto;line-height:normal;font-family:Menlo,'DejaVu Sans Mono',consolas,'Courier New',monospace\">Requirement already satisfied: feedfinder2&gt;=0.0.4 in c:\\users\\tnguyen10\\anaconda3\\envs\\thesis\\lib\\site-packages (from newspaper3k) (0.0.4)\n",
       "</pre>\n"
      ],
      "text/plain": [
       "Requirement already satisfied: feedfinder2>=0.0.4 in c:\\users\\tnguyen10\\anaconda3\\envs\\thesis\\lib\\site-packages (from newspaper3k) (0.0.4)\n"
      ]
     },
     "metadata": {},
     "output_type": "display_data"
    },
    {
     "data": {
      "text/html": [
       "<pre style=\"white-space:pre;overflow-x:auto;line-height:normal;font-family:Menlo,'DejaVu Sans Mono',consolas,'Courier New',monospace\">Requirement already satisfied: requests&gt;=2.10.0 in c:\\users\\tnguyen10\\anaconda3\\envs\\thesis\\lib\\site-packages (from newspaper3k) (2.26.0)\n",
       "</pre>\n"
      ],
      "text/plain": [
       "Requirement already satisfied: requests>=2.10.0 in c:\\users\\tnguyen10\\anaconda3\\envs\\thesis\\lib\\site-packages (from newspaper3k) (2.26.0)\n"
      ]
     },
     "metadata": {},
     "output_type": "display_data"
    },
    {
     "data": {
      "text/html": [
       "<pre style=\"white-space:pre;overflow-x:auto;line-height:normal;font-family:Menlo,'DejaVu Sans Mono',consolas,'Courier New',monospace\">Requirement already satisfied: tldextract&gt;=2.0.1 in c:\\users\\tnguyen10\\anaconda3\\envs\\thesis\\lib\\site-packages (from newspaper3k) (3.4.0)\n",
       "</pre>\n"
      ],
      "text/plain": [
       "Requirement already satisfied: tldextract>=2.0.1 in c:\\users\\tnguyen10\\anaconda3\\envs\\thesis\\lib\\site-packages (from newspaper3k) (3.4.0)\n"
      ]
     },
     "metadata": {},
     "output_type": "display_data"
    },
    {
     "data": {
      "text/html": [
       "<pre style=\"white-space:pre;overflow-x:auto;line-height:normal;font-family:Menlo,'DejaVu Sans Mono',consolas,'Courier New',monospace\">Requirement already satisfied: PyYAML&gt;=3.11 in c:\\users\\tnguyen10\\anaconda3\\envs\\thesis\\lib\\site-packages (from newspaper3k) (6.0)\n",
       "</pre>\n"
      ],
      "text/plain": [
       "Requirement already satisfied: PyYAML>=3.11 in c:\\users\\tnguyen10\\anaconda3\\envs\\thesis\\lib\\site-packages (from newspaper3k) (6.0)\n"
      ]
     },
     "metadata": {},
     "output_type": "display_data"
    },
    {
     "data": {
      "text/html": [
       "<pre style=\"white-space:pre;overflow-x:auto;line-height:normal;font-family:Menlo,'DejaVu Sans Mono',consolas,'Courier New',monospace\">Requirement already satisfied: cssselect&gt;=0.9.2 in c:\\users\\tnguyen10\\anaconda3\\envs\\thesis\\lib\\site-packages (from newspaper3k) (1.2.0)\n",
       "</pre>\n"
      ],
      "text/plain": [
       "Requirement already satisfied: cssselect>=0.9.2 in c:\\users\\tnguyen10\\anaconda3\\envs\\thesis\\lib\\site-packages (from newspaper3k) (1.2.0)\n"
      ]
     },
     "metadata": {},
     "output_type": "display_data"
    },
    {
     "data": {
      "text/html": [
       "<pre style=\"white-space:pre;overflow-x:auto;line-height:normal;font-family:Menlo,'DejaVu Sans Mono',consolas,'Courier New',monospace\">Requirement already satisfied: feedparser&gt;=5.2.1 in c:\\users\\tnguyen10\\anaconda3\\envs\\thesis\\lib\\site-packages (from newspaper3k) (6.0.10)\n",
       "</pre>\n"
      ],
      "text/plain": [
       "Requirement already satisfied: feedparser>=5.2.1 in c:\\users\\tnguyen10\\anaconda3\\envs\\thesis\\lib\\site-packages (from newspaper3k) (6.0.10)\n"
      ]
     },
     "metadata": {},
     "output_type": "display_data"
    },
    {
     "data": {
      "text/html": [
       "<pre style=\"white-space:pre;overflow-x:auto;line-height:normal;font-family:Menlo,'DejaVu Sans Mono',consolas,'Courier New',monospace\">Requirement already satisfied: python-dateutil&gt;=2.5.3 in c:\\users\\tnguyen10\\anaconda3\\envs\\thesis\\lib\\site-packages (from newspaper3k) (2.8.2)\n",
       "</pre>\n"
      ],
      "text/plain": [
       "Requirement already satisfied: python-dateutil>=2.5.3 in c:\\users\\tnguyen10\\anaconda3\\envs\\thesis\\lib\\site-packages (from newspaper3k) (2.8.2)\n"
      ]
     },
     "metadata": {},
     "output_type": "display_data"
    },
    {
     "data": {
      "text/html": [
       "<pre style=\"white-space:pre;overflow-x:auto;line-height:normal;font-family:Menlo,'DejaVu Sans Mono',consolas,'Courier New',monospace\">Requirement already satisfied: beautifulsoup4&gt;=4.4.1 in c:\\users\\tnguyen10\\anaconda3\\envs\\thesis\\lib\\site-packages (from newspaper3k) (4.9.3)\n",
       "</pre>\n"
      ],
      "text/plain": [
       "Requirement already satisfied: beautifulsoup4>=4.4.1 in c:\\users\\tnguyen10\\anaconda3\\envs\\thesis\\lib\\site-packages (from newspaper3k) (4.9.3)\n"
      ]
     },
     "metadata": {},
     "output_type": "display_data"
    },
    {
     "data": {
      "text/html": [
       "<pre style=\"white-space:pre;overflow-x:auto;line-height:normal;font-family:Menlo,'DejaVu Sans Mono',consolas,'Courier New',monospace\">Requirement already satisfied: jieba3k&gt;=0.35.1 in c:\\users\\tnguyen10\\anaconda3\\envs\\thesis\\lib\\site-packages (from newspaper3k) (0.35.1)\n",
       "</pre>\n"
      ],
      "text/plain": [
       "Requirement already satisfied: jieba3k>=0.35.1 in c:\\users\\tnguyen10\\anaconda3\\envs\\thesis\\lib\\site-packages (from newspaper3k) (0.35.1)\n"
      ]
     },
     "metadata": {},
     "output_type": "display_data"
    },
    {
     "data": {
      "text/html": [
       "<pre style=\"white-space:pre;overflow-x:auto;line-height:normal;font-family:Menlo,'DejaVu Sans Mono',consolas,'Courier New',monospace\">Requirement already satisfied: soupsieve&gt;1.2 in c:\\users\\tnguyen10\\anaconda3\\envs\\thesis\\lib\\site-packages (from beautifulsoup4&gt;=4.4.1-&gt;newspaper3k) (2.3.2.post1)\n",
       "</pre>\n"
      ],
      "text/plain": [
       "Requirement already satisfied: soupsieve>1.2 in c:\\users\\tnguyen10\\anaconda3\\envs\\thesis\\lib\\site-packages (from beautifulsoup4>=4.4.1->newspaper3k) (2.3.2.post1)\n"
      ]
     },
     "metadata": {},
     "output_type": "display_data"
    },
    {
     "data": {
      "text/html": [
       "<pre style=\"white-space:pre;overflow-x:auto;line-height:normal;font-family:Menlo,'DejaVu Sans Mono',consolas,'Courier New',monospace\">Requirement already satisfied: six in c:\\users\\tnguyen10\\anaconda3\\envs\\thesis\\lib\\site-packages (from feedfinder2&gt;=0.0.4-&gt;newspaper3k) (1.16.0)\n",
       "</pre>\n"
      ],
      "text/plain": [
       "Requirement already satisfied: six in c:\\users\\tnguyen10\\anaconda3\\envs\\thesis\\lib\\site-packages (from feedfinder2>=0.0.4->newspaper3k) (1.16.0)\n"
      ]
     },
     "metadata": {},
     "output_type": "display_data"
    },
    {
     "data": {
      "text/html": [
       "<pre style=\"white-space:pre;overflow-x:auto;line-height:normal;font-family:Menlo,'DejaVu Sans Mono',consolas,'Courier New',monospace\">Requirement already satisfied: sgmllib3k in c:\\users\\tnguyen10\\anaconda3\\envs\\thesis\\lib\\site-packages (from feedparser&gt;=5.2.1-&gt;newspaper3k) (1.0.0)\n",
       "</pre>\n"
      ],
      "text/plain": [
       "Requirement already satisfied: sgmllib3k in c:\\users\\tnguyen10\\anaconda3\\envs\\thesis\\lib\\site-packages (from feedparser>=5.2.1->newspaper3k) (1.0.0)\n"
      ]
     },
     "metadata": {},
     "output_type": "display_data"
    },
    {
     "data": {
      "text/html": [
       "<pre style=\"white-space:pre;overflow-x:auto;line-height:normal;font-family:Menlo,'DejaVu Sans Mono',consolas,'Courier New',monospace\">Requirement already satisfied: tqdm in c:\\users\\tnguyen10\\anaconda3\\envs\\thesis\\lib\\site-packages (from nltk&gt;=3.2.1-&gt;newspaper3k) (4.64.1)\n",
       "</pre>\n"
      ],
      "text/plain": [
       "Requirement already satisfied: tqdm in c:\\users\\tnguyen10\\anaconda3\\envs\\thesis\\lib\\site-packages (from nltk>=3.2.1->newspaper3k) (4.64.1)\n"
      ]
     },
     "metadata": {},
     "output_type": "display_data"
    },
    {
     "data": {
      "text/html": [
       "<pre style=\"white-space:pre;overflow-x:auto;line-height:normal;font-family:Menlo,'DejaVu Sans Mono',consolas,'Courier New',monospace\">Requirement already satisfied: regex&gt;=2021.8.3 in c:\\users\\tnguyen10\\anaconda3\\envs\\thesis\\lib\\site-packages (from nltk&gt;=3.2.1-&gt;newspaper3k) (2022.7.9)\n",
       "</pre>\n"
      ],
      "text/plain": [
       "Requirement already satisfied: regex>=2021.8.3 in c:\\users\\tnguyen10\\anaconda3\\envs\\thesis\\lib\\site-packages (from nltk>=3.2.1->newspaper3k) (2022.7.9)\n"
      ]
     },
     "metadata": {},
     "output_type": "display_data"
    },
    {
     "data": {
      "text/html": [
       "<pre style=\"white-space:pre;overflow-x:auto;line-height:normal;font-family:Menlo,'DejaVu Sans Mono',consolas,'Courier New',monospace\">Requirement already satisfied: click in c:\\users\\tnguyen10\\anaconda3\\envs\\thesis\\lib\\site-packages (from nltk&gt;=3.2.1-&gt;newspaper3k) (8.0.4)\n",
       "</pre>\n"
      ],
      "text/plain": [
       "Requirement already satisfied: click in c:\\users\\tnguyen10\\anaconda3\\envs\\thesis\\lib\\site-packages (from nltk>=3.2.1->newspaper3k) (8.0.4)\n"
      ]
     },
     "metadata": {},
     "output_type": "display_data"
    },
    {
     "data": {
      "text/html": [
       "<pre style=\"white-space:pre;overflow-x:auto;line-height:normal;font-family:Menlo,'DejaVu Sans Mono',consolas,'Courier New',monospace\">Requirement already satisfied: joblib in c:\\users\\tnguyen10\\anaconda3\\envs\\thesis\\lib\\site-packages (from nltk&gt;=3.2.1-&gt;newspaper3k) (1.1.1)\n",
       "</pre>\n"
      ],
      "text/plain": [
       "Requirement already satisfied: joblib in c:\\users\\tnguyen10\\anaconda3\\envs\\thesis\\lib\\site-packages (from nltk>=3.2.1->newspaper3k) (1.1.1)\n"
      ]
     },
     "metadata": {},
     "output_type": "display_data"
    },
    {
     "data": {
      "text/html": [
       "<pre style=\"white-space:pre;overflow-x:auto;line-height:normal;font-family:Menlo,'DejaVu Sans Mono',consolas,'Courier New',monospace\">Requirement already satisfied: idna&lt;4,&gt;=2.5 in c:\\users\\tnguyen10\\anaconda3\\envs\\thesis\\lib\\site-packages (from requests&gt;=2.10.0-&gt;newspaper3k) (3.4)\n",
       "</pre>\n"
      ],
      "text/plain": [
       "Requirement already satisfied: idna<4,>=2.5 in c:\\users\\tnguyen10\\anaconda3\\envs\\thesis\\lib\\site-packages (from requests>=2.10.0->newspaper3k) (3.4)\n"
      ]
     },
     "metadata": {},
     "output_type": "display_data"
    },
    {
     "data": {
      "text/html": [
       "<pre style=\"white-space:pre;overflow-x:auto;line-height:normal;font-family:Menlo,'DejaVu Sans Mono',consolas,'Courier New',monospace\">Requirement already satisfied: charset-normalizer~=2.0.0 in c:\\users\\tnguyen10\\anaconda3\\envs\\thesis\\lib\\site-packages (from requests&gt;=2.10.0-&gt;newspaper3k) (2.0.4)\n",
       "</pre>\n"
      ],
      "text/plain": [
       "Requirement already satisfied: charset-normalizer~=2.0.0 in c:\\users\\tnguyen10\\anaconda3\\envs\\thesis\\lib\\site-packages (from requests>=2.10.0->newspaper3k) (2.0.4)\n"
      ]
     },
     "metadata": {},
     "output_type": "display_data"
    },
    {
     "data": {
      "text/html": [
       "<pre style=\"white-space:pre;overflow-x:auto;line-height:normal;font-family:Menlo,'DejaVu Sans Mono',consolas,'Courier New',monospace\">Requirement already satisfied: urllib3&lt;1.27,&gt;=1.21.1 in c:\\users\\tnguyen10\\anaconda3\\envs\\thesis\\lib\\site-packages (from requests&gt;=2.10.0-&gt;newspaper3k) (1.26.14)\n",
       "</pre>\n"
      ],
      "text/plain": [
       "Requirement already satisfied: urllib3<1.27,>=1.21.1 in c:\\users\\tnguyen10\\anaconda3\\envs\\thesis\\lib\\site-packages (from requests>=2.10.0->newspaper3k) (1.26.14)\n"
      ]
     },
     "metadata": {},
     "output_type": "display_data"
    },
    {
     "data": {
      "text/html": [
       "<pre style=\"white-space:pre;overflow-x:auto;line-height:normal;font-family:Menlo,'DejaVu Sans Mono',consolas,'Courier New',monospace\">Requirement already satisfied: certifi&gt;=2017.4.17 in c:\\users\\tnguyen10\\anaconda3\\envs\\thesis\\lib\\site-packages (from requests&gt;=2.10.0-&gt;newspaper3k) (2022.12.7)\n",
       "</pre>\n"
      ],
      "text/plain": [
       "Requirement already satisfied: certifi>=2017.4.17 in c:\\users\\tnguyen10\\anaconda3\\envs\\thesis\\lib\\site-packages (from requests>=2.10.0->newspaper3k) (2022.12.7)\n"
      ]
     },
     "metadata": {},
     "output_type": "display_data"
    },
    {
     "data": {
      "text/html": [
       "<pre style=\"white-space:pre;overflow-x:auto;line-height:normal;font-family:Menlo,'DejaVu Sans Mono',consolas,'Courier New',monospace\">Requirement already satisfied: filelock&gt;=3.0.8 in c:\\users\\tnguyen10\\anaconda3\\envs\\thesis\\lib\\site-packages (from tldextract&gt;=2.0.1-&gt;newspaper3k) (3.9.0)\n",
       "</pre>\n"
      ],
      "text/plain": [
       "Requirement already satisfied: filelock>=3.0.8 in c:\\users\\tnguyen10\\anaconda3\\envs\\thesis\\lib\\site-packages (from tldextract>=2.0.1->newspaper3k) (3.9.0)\n"
      ]
     },
     "metadata": {},
     "output_type": "display_data"
    },
    {
     "data": {
      "text/html": [
       "<pre style=\"white-space:pre;overflow-x:auto;line-height:normal;font-family:Menlo,'DejaVu Sans Mono',consolas,'Courier New',monospace\">Requirement already satisfied: requests-file&gt;=1.4 in c:\\users\\tnguyen10\\anaconda3\\envs\\thesis\\lib\\site-packages (from tldextract&gt;=2.0.1-&gt;newspaper3k) (1.5.1)\n",
       "</pre>\n"
      ],
      "text/plain": [
       "Requirement already satisfied: requests-file>=1.4 in c:\\users\\tnguyen10\\anaconda3\\envs\\thesis\\lib\\site-packages (from tldextract>=2.0.1->newspaper3k) (1.5.1)\n"
      ]
     },
     "metadata": {},
     "output_type": "display_data"
    },
    {
     "data": {
      "text/html": [
       "<pre style=\"white-space:pre;overflow-x:auto;line-height:normal;font-family:Menlo,'DejaVu Sans Mono',consolas,'Courier New',monospace\">Requirement already satisfied: colorama in c:\\users\\tnguyen10\\anaconda3\\envs\\thesis\\lib\\site-packages (from click-&gt;nltk&gt;=3.2.1-&gt;newspaper3k) (0.4.6)\n",
       "</pre>\n"
      ],
      "text/plain": [
       "Requirement already satisfied: colorama in c:\\users\\tnguyen10\\anaconda3\\envs\\thesis\\lib\\site-packages (from click->nltk>=3.2.1->newspaper3k) (0.4.6)\n"
      ]
     },
     "metadata": {},
     "output_type": "display_data"
    },
    {
     "data": {
      "text/html": [
       "<pre style=\"white-space:pre;overflow-x:auto;line-height:normal;font-family:Menlo,'DejaVu Sans Mono',consolas,'Courier New',monospace\"><span style=\"color: #800000; text-decoration-color: #800000\">ERROR: Article `download()` failed with 403 Client Error: Forbidden for url: https://www.bizjournals.com/atlanta/news/2023/03/28/coca-cola-sustainable-water-operations.html on URL https://consent.google.com/m?continue=https://news.google.com/rss/articles/CBMiX2h0dHBzOi8vd3d3LmJpempvdXJuYWxzLmNvbS9hdGxhbnRhL25ld3MvMjAyMy8wMy8yOC9jb2NhLWNvbGEtc3VzdGFpbmFibGUtd2F0ZXItb3BlcmF0aW9ucy5odG1s0gFjaHR0cHM6Ly93d3cuYml6am91cm5hbHMuY29tL2F0bGFudGEvbmV3cy8yMDIzLzAzLzI4L2NvY2EtY29sYS1zdXN0YWluYWJsZS13YXRlci1vcGVyYXRpb25zLmFtcC5odG1s?oc%3D5&amp;gl=NL&amp;m=0&amp;pc=n&amp;cm=2&amp;hl=en-US&amp;src=1\n",
       "</span></pre>\n"
      ],
      "text/plain": [
       "\u001b[31mERROR: Article `download()` failed with 403 Client Error: Forbidden for url: https://www.bizjournals.com/atlanta/news/2023/03/28/coca-cola-sustainable-water-operations.html on URL https://consent.google.com/m?continue=https://news.google.com/rss/articles/CBMiX2h0dHBzOi8vd3d3LmJpempvdXJuYWxzLmNvbS9hdGxhbnRhL25ld3MvMjAyMy8wMy8yOC9jb2NhLWNvbGEtc3VzdGFpbmFibGUtd2F0ZXItb3BlcmF0aW9ucy5odG1s0gFjaHR0cHM6Ly93d3cuYml6am91cm5hbHMuY29tL2F0bGFudGEvbmV3cy8yMDIzLzAzLzI4L2NvY2EtY29sYS1zdXN0YWluYWJsZS13YXRlci1vcGVyYXRpb25zLmFtcC5odG1s?oc%3D5&gl=NL&m=0&pc=n&cm=2&hl=en-US&src=1\u001b[0m\u001b[31m\n",
       "\u001b[0m"
      ]
     },
     "metadata": {},
     "output_type": "display_data"
    }
   ],
   "source": [
    "article = gn.get_full_article(fuck)"
   ]
  },
  {
   "cell_type": "code",
   "execution_count": 62,
   "id": "4fba6a99-3d04-4e73-b1d7-46b518c7b0e5",
   "metadata": {},
   "outputs": [
    {
     "ename": "AttributeError",
     "evalue": "'NoneType' object has no attribute 'text'",
     "output_type": "error",
     "traceback": [
      "\u001b[1;31m---------------------------------------------------------------------------\u001b[0m",
      "\u001b[1;31mAttributeError\u001b[0m                            Traceback (most recent call last)",
      "Cell \u001b[1;32mIn[62], line 1\u001b[0m\n\u001b[1;32m----> 1\u001b[0m \u001b[43marticle\u001b[49m\u001b[38;5;241;43m.\u001b[39;49m\u001b[43mtext\u001b[49m\n",
      "\u001b[1;31mAttributeError\u001b[0m: 'NoneType' object has no attribute 'text'"
     ]
    }
   ],
   "source": [
    "article.text"
   ]
  },
  {
   "cell_type": "code",
   "execution_count": 66,
   "id": "0c456110-da5c-451a-b6f6-2dc342006c4f",
   "metadata": {},
   "outputs": [],
   "source": [
    "article = Article(testing[2]['url'])\n",
    "article.download()\n",
    "article.parse()\n",
    "article.nlp()"
   ]
  },
  {
   "cell_type": "code",
   "execution_count": 67,
   "id": "126b0e46-7c0e-4ba6-9386-49801c7df512",
   "metadata": {},
   "outputs": [
    {
     "data": {
      "text/plain": [
       "'BlackRock, United Airlines, Phillips 66 and other big companies increasingly are warning investors about risks they face from more scrutiny of their claims to fight climate change.\\n\\nAt least 14 S&P 500 members—including the asset manager, airline and oil refiner—have cited “greenwashing” in their 10-K annual reports so far this year, usually as a business risk factor, according to a Bloomberg Law review of company filings with the Securities and Exchange Commission. Only five companies in the index referenced it in 10-Ks filed in 2022.\\n\\nMost conversations focused on potential reputational damage, litigation and US and international regulation over greenwashing, or misleading corporate statements to present an environmentally responsible image. Some of those discussions referenced the fallout from misleading ESG marketing, concerns that other companies also raised without invoking greenwashing by name.\\n\\n“There’s been more focus on not even whether what they’re saying is true, but can they back it up?” said Alma Angotti, a Guidehouse partner, who has warned clients about greenwashing risks. “They are realizing that maybe they can’t or maybe someone will allege they can’t.”\\n\\n\\n\\nEmbracing ESG\\n\\nBlackRock Inc. has faced flak from Florida Gov. Ron DeSantis and other Republicans over its embrace of environmental, social and governance practices. That same support of sustainability also has led to concerns that the firm is overselling its green credentials.\\n\\nBluebell Capital Partners, a small activist shareholder, last year called for BlackRock CEO Larry Fink’s ouster over greenwashing risks from the firm’s continued investment in coal and fossil fuels as the asset manager also promotes sustainability. BlackRock has fought back, saying Bluebell’s effort and its other climate and governance campaigns aren’t in the best financial interests of the firm’s clients.\\n\\nBlackRock didn’t bring up Bluebell in its 10-K from February. But the asset manager did mention greenwashing in connection with information the Australian Securities and Investments Commission released on the topic last June. BlackRock raised concerns that the firm may face conflicting obligations and regulatory uncertainty as various countries work to stem greenwashing.\\n\\nThe Australian Securities and Investments Commission warned investment firms about greenwashing and included several examples of the practice, like a fund that invests in a way that’s different than what its name appears to indicate. The regulator then brought its first action against a company over greenwashing allegations last October.\\n\\nThe SEC also is working on rules intended to better ensure ESG funds are clear about their investments. The SEC last year reached settlements with Goldman Sachs Group Inc. and Bank of New York Mellon Corp. over allegations they mishandled ESG funds.\\n\\n“If you’re in the funds business, you’re going to have to have very clear due diligence procedures,” Angotti said.\\n\\nA BlackRock representative declined to comment.\\n\\n‘Chief Trash Officer’\\n\\nUnited Airlines Holdings Inc. , like BlackRock, has made amibtious pledges to mitigate climate change. The airline aims to be “100% green by 2050 by reducing our greenhouse gas emissions 100%,” United CEO Scott Kirby says on his company’s website.\\n\\nThe company’s efforts to decrease its carbon footprint have included investments in sustainable aviation fuel, which is made from used cooking oil and farm waste. United in March tapped Sesame Street’s Oscar the Grouch as its “chief trash officer” to promote the initiative.\\n\\nUnited’s reputation or brand image could suffer if its customers raise greenwashing concerns over its advertising and marketing of its sustainability initiatives, according to the company’s 10-K from February. Customers, regulators, investors and other stakeholders have increased their scrutiny of how ESG affects companies’ operations and are looking at related disclosures, the report said.\\n\\n“We pride ourselves on both our work to reduce emissions in the future and with our transparency recognizing the challenges that come with doing so,” company spokesperson Sam Coleman told Bloomberg Law in a statement. “To further our goal to reduce emissions, United remains the global investment leader in the future production of sustainable aviation fuel, while also acknowledging that it makes up a fraction of our current fuel use.”\\n\\nUnited’s 10-K comes as the Federal Trade Commission is working to update its Green Guides, which the agency uses to fight companies’ deceptive claims about environmentally friendly products. The FTC last revised the guidance in 2012.\\n\\nThe updated Green Guides could open companies to new greenwashing accusations over advertising, said Amanda Shanor, a University of Pennsylvania assistant professor of legal studies and business ethics. The FTC is looking at providing guidance on “net zero” and other climate change-related claims.\\n\\n“After the FTC Green Guides explain what something like clean means or what something like net zero means, that may create more liability,” Shanor said.\\n\\nLitigation Fears\\n\\nPhillips 66 Co. raised another concern that greenwashing scrutiny is causing: the possiblity of expensive litigation.\\n\\nCompanies are facing more lawsuits and regulatory actions based on claims that companies’ public statements constitute greenwashing, Phillips 66’s 10-K from February said. Chipotle Mexican Grill Inc. and The Coca-Cola Company were among companies that said in their recent 10-Ks that they risk unwarranted litigation over their sustainability claims, though they didn’t explicitly mention greenwashing. Coca-Cola last year won two cases over allegations that corporate statements such as a “world without waste” or “doing business the right way” are misleading consumers.\\n\\nPhillips 66’s 10-K mention of greenwashing risk emerges as environmental groups are suing a California county over allegations it violated environmental law when it approved Phillips 66’s conversion of an oil refinery into a biofuel facility. The company is a real party in interest in the case.\\n\\nBiofuel made at the Rodeo refinery in Contra Costa County would “cause environmental harm at every step,” according to a petition filed in state court by the Communities for a Better Environment and the Center for Biological Diversity last year. Growing, harvesting and transporting crops for processing and refining and then shipping and burning is “extremely energy-intensive,” the court filing said. Locals also would continue to face industrial pollution, the environmental groups said.\\n\\nA Phillips 66 representative declined to comment. But the company has said the Bay Area refinery would help California achieve its climate goals and reduce emissions at the facility by 55% and decrease water consumption by 160 million gallons per year.\\n\\nPhillips 66 and other oil companies can’t bank on the public accepting their environmental claims without scrutiny, said Victoria Bogdan Tejeda, a Center for Biological Diversity staff attorney.\\n\\n“The public is wising up,” she said. “When fossil fuel companies bill something as a climate solution, they should be skeptical.”'"
      ]
     },
     "execution_count": 67,
     "metadata": {},
     "output_type": "execute_result"
    }
   ],
   "source": [
    "article.text"
   ]
  },
  {
   "cell_type": "code",
   "execution_count": null,
   "id": "a439f810-ba6e-4b72-a651-27b2e88bef82",
   "metadata": {},
   "outputs": [],
   "source": []
  }
 ],
 "metadata": {
  "kernelspec": {
   "display_name": "Python 3 (ipykernel)",
   "language": "python",
   "name": "python3"
  },
  "language_info": {
   "codemirror_mode": {
    "name": "ipython",
    "version": 3
   },
   "file_extension": ".py",
   "mimetype": "text/x-python",
   "name": "python",
   "nbconvert_exporter": "python",
   "pygments_lexer": "ipython3",
   "version": "3.9.16"
  }
 },
 "nbformat": 4,
 "nbformat_minor": 5
}
