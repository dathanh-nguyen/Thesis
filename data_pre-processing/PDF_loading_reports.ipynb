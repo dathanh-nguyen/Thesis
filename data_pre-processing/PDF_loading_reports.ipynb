{
 "cells": [
  {
   "cell_type": "code",
   "execution_count": 1,
   "id": "1a792e0c",
   "metadata": {},
   "outputs": [],
   "source": [
    "# import PyPDF2\n",
    "# import spacy\n",
    "import numpy as np\n",
    "import pandas as pd\n",
    "import fitz\n",
    "import nltk\n",
    "\n",
    "from nltk.tokenize import sent_tokenize\n",
    "# from pathlib import Path\n",
    "\n",
    "import os\n",
    "\n",
    "# nlp = spacy.load('en_core_web_lg')"
   ]
  },
  {
   "cell_type": "code",
   "execution_count": 4,
   "id": "7dad3d0e",
   "metadata": {},
   "outputs": [],
   "source": [
    "# sent_list = []\n",
    "\n",
    "# for page in pdf_text[2:]:\n",
    "#     doc = nlp(page)\n",
    "#     for sentence in doc.sents:\n",
    "#         sent_list.append(sentence)"
   ]
  },
  {
   "cell_type": "code",
   "execution_count": 20,
   "id": "7df52c8b",
   "metadata": {},
   "outputs": [],
   "source": [
    "path_pdf = 'C:\\\\Users\\\\tnguyen10\\\\OneDrive - Deloitte (O365D)\\\\Documents\\\\GitHub\\\\Thesis\\\\data\\\\reports'\n",
    "fname_out = 'C:\\\\Users\\\\tnguyen10\\\\OneDrive - Deloitte (O365D)\\\\Documents\\\\GitHub\\\\Thesis\\\\data_structured\\\\report_sentences.csv'"
   ]
  },
  {
   "cell_type": "code",
   "execution_count": 3,
   "id": "3445efbc",
   "metadata": {},
   "outputs": [],
   "source": [
    "def get_cnt(text):\n",
    "    cnt = 0\n",
    "    for word in text.split():\n",
    "        if word.isalnum():\n",
    "            cnt += 1\n",
    "    return cnt"
   ]
  },
  {
   "cell_type": "code",
   "execution_count": 4,
   "id": "a99207d9",
   "metadata": {},
   "outputs": [],
   "source": [
    "def get_text(block_lst):\n",
    "\n",
    "    MIN_WORD_CNT = 6\n",
    "    \n",
    "    text_lst = []\n",
    "    for block in block_lst:\n",
    "        if block[6] != 0: continue # block_type: 0 = text\n",
    "        \n",
    "        #I'm replacing the non-ascii single quotation mark here, because it's used in Coca Cola's report\n",
    "        text = block[4].replace('’',\"'\")\n",
    "        text = ''.join([i if ord(i) < 128 else ' ' for i in text])\n",
    "        #text = text.replace('fi ', 'fi') # PyMuPDF(fitz) bug fix: 'fi ' --> 'fi'\n",
    "    \n",
    "        if get_cnt(text) < MIN_WORD_CNT: continue # Delete sentences with less than MIN_WORD_CNT(10) \n",
    "    \n",
    "        text_lst.append(text.replace('-\\n', ''))\n",
    "        #.replace('-\\n', '')\n",
    "    return ('\\n'.join(text_lst))"
   ]
  },
  {
   "cell_type": "code",
   "execution_count": 8,
   "id": "4ed39987",
   "metadata": {},
   "outputs": [],
   "source": [
    "# test_sent = sent_tokenize(text)[2]\n",
    "\n",
    "# r_sent = ' '.join(test_sent.split()) #split splits the words of the sentence into a list - and gets rid of /n etc.\n",
    "\n",
    "# ' '.join(test_sent.split()) #joins the items of the list with a space "
   ]
  },
  {
   "cell_type": "code",
   "execution_count": 5,
   "id": "3eb346fe",
   "metadata": {
    "tags": []
   },
   "outputs": [],
   "source": [
    "def get_sentence(fname, skip_page = (0,)):\n",
    " \n",
    "    doc = fitz.open(fname)\n",
    "    \n",
    "    sent_lst = []\n",
    "    for page_no, page in enumerate(doc):\n",
    "\n",
    "        # Skip page\n",
    "        if page_no in skip_page: continue\n",
    "        \n",
    "        block_lst = page.get_text_blocks()\n",
    "        text = get_text(block_lst)\n",
    "    \n",
    "        for i, sentence in enumerate(sent_tokenize(text)):\n",
    "            r_sent = ' '.join(sentence.split()) # Delete '\\n', '\\t' and strip\n",
    "            sent_lst.append(r_sent)\n",
    "            \n",
    "    doc.close()\n",
    "\n",
    "    return sent_lst"
   ]
  },
  {
   "cell_type": "code",
   "execution_count": 6,
   "id": "2c025765",
   "metadata": {},
   "outputs": [],
   "source": [
    "def gen_document(fname, sent_lst):\n",
    "\n",
    "    res_df = pd.DataFrame(\n",
    "        {\n",
    "            'doc_type': 'report',\n",
    "            'fname': fname.split('.')[0],\n",
    "            'sentence': sent_lst\n",
    "        }\n",
    "    )\n",
    "    \n",
    "    return res_df"
   ]
  },
  {
   "cell_type": "code",
   "execution_count": 7,
   "id": "23aa88f3",
   "metadata": {},
   "outputs": [],
   "source": [
    "def read_filelist(path):\n",
    "\n",
    "    # Create empty DataFrame\n",
    "    df = pd.DataFrame()\n",
    "    \n",
    "    # Read file list (directory)\n",
    "    for idx, fname in enumerate(os.listdir(path)):\n",
    "        p_fname = os.path.join(path, fname)\n",
    "        print('path + fname >>>', p_fname)\n",
    "        \n",
    "        if p_fname.split('.')[-1] != 'pdf': continue\n",
    "        print('fname >>>',fname)\n",
    "    \n",
    "#         doc_id = int(idx)\n",
    "        \n",
    "#         print(f'doc_id = [{doc_id}], fname = [{fname}]')\n",
    "#         print('')\n",
    "    \n",
    "        sent_lst = get_sentence(p_fname)\n",
    "        df_doc   = gen_document(fname, sent_lst)\n",
    "        \n",
    "        df = pd.concat([df,df_doc])\n",
    "        \n",
    "    return df"
   ]
  },
  {
   "cell_type": "code",
   "execution_count": 8,
   "id": "24b348bb",
   "metadata": {
    "scrolled": true
   },
   "outputs": [
    {
     "name": "stdout",
     "output_type": "stream",
     "text": [
      "path + fname >>> data/reports\\coca-cola.pdf\n",
      "fname >>> coca-cola.pdf\n",
      "path + fname >>> data/reports\\nestle.pdf\n",
      "fname >>> nestle.pdf\n",
      "path + fname >>> data/reports\\pepsico.pdf\n",
      "fname >>> pepsico.pdf\n",
      "path + fname >>> data/reports\\procter-gamble.pdf\n",
      "fname >>> procter-gamble.pdf\n",
      "path + fname >>> data/reports\\unilever.pdf\n",
      "fname >>> unilever.pdf\n",
      "==== End of jobs ====\n",
      "CPU times: total: 18.9 s\n",
      "Wall time: 20.4 s\n"
     ]
    }
   ],
   "source": [
    "%%time\n",
    "df = read_filelist(path_pdf)\n",
    "print('==== End of jobs ====')"
   ]
  },
  {
   "cell_type": "code",
   "execution_count": 157,
   "id": "bad321ec",
   "metadata": {},
   "outputs": [
    {
     "data": {
      "text/plain": [
       "'Our goal is 100% renewable electricity at all our sites by 2025.'"
      ]
     },
     "execution_count": 157,
     "metadata": {},
     "output_type": "execute_result"
    }
   ],
   "source": [
    "df['sentence'].values[1507]"
   ]
  },
  {
   "cell_type": "code",
   "execution_count": null,
   "id": "3613bd10",
   "metadata": {},
   "outputs": [],
   "source": [
    "df.to_csv(fname_out, index = False)"
   ]
  },
  {
   "cell_type": "code",
   "execution_count": 39,
   "id": "d05e6c05-39dd-4768-960a-232d12fcdc29",
   "metadata": {},
   "outputs": [
    {
     "data": {
      "text/plain": [
       "array([0, 'coca-cola.pdf',\n",
       "       'In 2021, we returned 167% of the water used in our finished beverages to nature and communities.'],\n",
       "      dtype=object)"
      ]
     },
     "execution_count": 39,
     "metadata": {},
     "output_type": "execute_result"
    }
   ],
   "source": [
    "df.values[14]"
   ]
  },
  {
   "cell_type": "code",
   "execution_count": 9,
   "id": "7351a8b1-91ae-4be0-a6a5-75984c67f499",
   "metadata": {},
   "outputs": [
    {
     "data": {
      "text/html": [
       "<div>\n",
       "<style scoped>\n",
       "    .dataframe tbody tr th:only-of-type {\n",
       "        vertical-align: middle;\n",
       "    }\n",
       "\n",
       "    .dataframe tbody tr th {\n",
       "        vertical-align: top;\n",
       "    }\n",
       "\n",
       "    .dataframe thead th {\n",
       "        text-align: right;\n",
       "    }\n",
       "</style>\n",
       "<table border=\"1\" class=\"dataframe\">\n",
       "  <thead>\n",
       "    <tr style=\"text-align: right;\">\n",
       "      <th></th>\n",
       "      <th>doc_type</th>\n",
       "      <th>fname</th>\n",
       "      <th>sentence</th>\n",
       "    </tr>\n",
       "  </thead>\n",
       "  <tbody>\n",
       "    <tr>\n",
       "      <th>0</th>\n",
       "      <td>report</td>\n",
       "      <td>coca-cola</td>\n",
       "      <td>The Coca-Cola Company 2021 Business &amp; ESG Repo...</td>\n",
       "    </tr>\n",
       "    <tr>\n",
       "      <th>1</th>\n",
       "      <td>report</td>\n",
       "      <td>coca-cola</td>\n",
       "      <td>We do all of this while staying true to our pu...</td>\n",
       "    </tr>\n",
       "    <tr>\n",
       "      <th>2</th>\n",
       "      <td>report</td>\n",
       "      <td>coca-cola</td>\n",
       "      <td>The Coca-Cola Company 2021 Business &amp; ESG Repo...</td>\n",
       "    </tr>\n",
       "    <tr>\n",
       "      <th>3</th>\n",
       "      <td>report</td>\n",
       "      <td>coca-cola</td>\n",
       "      <td>We made important decisions about streamlining...</td>\n",
       "    </tr>\n",
       "    <tr>\n",
       "      <th>4</th>\n",
       "      <td>report</td>\n",
       "      <td>coca-cola</td>\n",
       "      <td>Through all of the challenges, initiatives and...</td>\n",
       "    </tr>\n",
       "    <tr>\n",
       "      <th>...</th>\n",
       "      <td>...</td>\n",
       "      <td>...</td>\n",
       "      <td>...</td>\n",
       "    </tr>\n",
       "    <tr>\n",
       "      <th>4302</th>\n",
       "      <td>report</td>\n",
       "      <td>unilever</td>\n",
       "      <td>Pureprint is a CarbonNeutral company.</td>\n",
       "    </tr>\n",
       "    <tr>\n",
       "      <th>4303</th>\n",
       "      <td>report</td>\n",
       "      <td>unilever</td>\n",
       "      <td>Both the manufacturing mill and the printer ar...</td>\n",
       "    </tr>\n",
       "    <tr>\n",
       "      <th>4304</th>\n",
       "      <td>report</td>\n",
       "      <td>unilever</td>\n",
       "      <td>If you have finished with this document and no...</td>\n",
       "    </tr>\n",
       "    <tr>\n",
       "      <th>4305</th>\n",
       "      <td>report</td>\n",
       "      <td>unilever</td>\n",
       "      <td>Thank you.</td>\n",
       "    </tr>\n",
       "    <tr>\n",
       "      <th>4306</th>\n",
       "      <td>report</td>\n",
       "      <td>unilever</td>\n",
       "      <td>For further information about Unilever please ...</td>\n",
       "    </tr>\n",
       "  </tbody>\n",
       "</table>\n",
       "<p>7989 rows × 3 columns</p>\n",
       "</div>"
      ],
      "text/plain": [
       "     doc_type      fname                                           sentence\n",
       "0      report  coca-cola  The Coca-Cola Company 2021 Business & ESG Repo...\n",
       "1      report  coca-cola  We do all of this while staying true to our pu...\n",
       "2      report  coca-cola  The Coca-Cola Company 2021 Business & ESG Repo...\n",
       "3      report  coca-cola  We made important decisions about streamlining...\n",
       "4      report  coca-cola  Through all of the challenges, initiatives and...\n",
       "...       ...        ...                                                ...\n",
       "4302   report   unilever              Pureprint is a CarbonNeutral company.\n",
       "4303   report   unilever  Both the manufacturing mill and the printer ar...\n",
       "4304   report   unilever  If you have finished with this document and no...\n",
       "4305   report   unilever                                         Thank you.\n",
       "4306   report   unilever  For further information about Unilever please ...\n",
       "\n",
       "[7989 rows x 3 columns]"
      ]
     },
     "execution_count": 9,
     "metadata": {},
     "output_type": "execute_result"
    }
   ],
   "source": [
    "df"
   ]
  },
  {
   "cell_type": "code",
   "execution_count": null,
   "id": "a3f5d9c6-87dc-499b-900c-4db1fa8eb401",
   "metadata": {},
   "outputs": [],
   "source": []
  },
  {
   "cell_type": "markdown",
   "id": "b6fc8ae1-0d0f-448d-bd98-2052402590da",
   "metadata": {},
   "source": [
    "# Further cleaning"
   ]
  },
  {
   "cell_type": "code",
   "execution_count": 10,
   "id": "5d119a78-5986-43ae-a351-68dc152c2ad8",
   "metadata": {},
   "outputs": [],
   "source": [
    "df_report = df"
   ]
  },
  {
   "cell_type": "code",
   "execution_count": 11,
   "id": "84ee4494-2ec2-457b-baf2-5ce65b72e71b",
   "metadata": {},
   "outputs": [],
   "source": [
    "df_report[\"sentence\"] = df_report[\"sentence\"].replace(r'http\\S+|\\[.\\]:?|www\\S+|\\w+/\\S+|\\w+-\\w+-\\S+','',regex = True).replace(r'^\\s+|\\s+$','',regex=True).replace(r'\\s{2,}',' ',regex=True)"
   ]
  },
  {
   "cell_type": "code",
   "execution_count": 12,
   "id": "816e6966-7447-4f1a-9f48-8653ceacf210",
   "metadata": {},
   "outputs": [],
   "source": [
    "df_report['sentence'] = df_report['sentence'].str.replace('Nestl ', 'Nestle ')"
   ]
  },
  {
   "cell_type": "code",
   "execution_count": 13,
   "id": "582421e6-d74f-4f60-853a-07f10301c438",
   "metadata": {},
   "outputs": [],
   "source": [
    "df_report[\"word count\"] = [len(i) for i in df_report[\"sentence\"].str.split()]"
   ]
  },
  {
   "cell_type": "code",
   "execution_count": 14,
   "id": "10da300e-6dd5-4617-a6f7-b31393712746",
   "metadata": {},
   "outputs": [],
   "source": [
    "df_report = df_report[df_report[\"word count\"] > 5]"
   ]
  },
  {
   "cell_type": "code",
   "execution_count": 17,
   "id": "d8aa393e-becb-4943-90af-38dec3f78318",
   "metadata": {},
   "outputs": [],
   "source": [
    "df_report = df_report[df_report[\"word count\"] < 100]"
   ]
  },
  {
   "cell_type": "code",
   "execution_count": 18,
   "id": "cd2a4470-3a5f-4ef1-bc46-c0cda1690a6d",
   "metadata": {},
   "outputs": [
    {
     "data": {
      "text/plain": [
       "array([[<Axes: title={'center': 'word count'}>]], dtype=object)"
      ]
     },
     "execution_count": 18,
     "metadata": {},
     "output_type": "execute_result"
    },
    {
     "data": {
      "image/png": "[encoded data removed]",
      "text/plain": [
       "<Figure size 640x480 with 1 Axes>"
      ]
     },
     "metadata": {},
     "output_type": "display_data"
    }
   ],
   "source": [
    "import matplotlib.pyplot as plt\n",
    "from matplotlib.ticker import StrMethodFormatter\n",
    "df_report.hist(column = 'word count')"
   ]
  },
  {
   "cell_type": "code",
   "execution_count": 19,
   "id": "50b69375-f9aa-4e4c-9f0d-70ebee250dfa",
   "metadata": {},
   "outputs": [
    {
     "data": {
      "text/html": [
       "<div>\n",
       "<style scoped>\n",
       "    .dataframe tbody tr th:only-of-type {\n",
       "        vertical-align: middle;\n",
       "    }\n",
       "\n",
       "    .dataframe tbody tr th {\n",
       "        vertical-align: top;\n",
       "    }\n",
       "\n",
       "    .dataframe thead th {\n",
       "        text-align: right;\n",
       "    }\n",
       "</style>\n",
       "<table border=\"1\" class=\"dataframe\">\n",
       "  <thead>\n",
       "    <tr style=\"text-align: right;\">\n",
       "      <th></th>\n",
       "      <th>doc_type</th>\n",
       "      <th>fname</th>\n",
       "      <th>sentence</th>\n",
       "      <th>word count</th>\n",
       "    </tr>\n",
       "  </thead>\n",
       "  <tbody>\n",
       "    <tr>\n",
       "      <th>1</th>\n",
       "      <td>report</td>\n",
       "      <td>coca-cola</td>\n",
       "      <td>We do all of this while staying true to our pu...</td>\n",
       "      <td>19</td>\n",
       "    </tr>\n",
       "    <tr>\n",
       "      <th>2</th>\n",
       "      <td>report</td>\n",
       "      <td>coca-cola</td>\n",
       "      <td>The Coca-Cola Company 2021 Business &amp; ESG Repo...</td>\n",
       "      <td>50</td>\n",
       "    </tr>\n",
       "    <tr>\n",
       "      <th>3</th>\n",
       "      <td>report</td>\n",
       "      <td>coca-cola</td>\n",
       "      <td>We made important decisions about streamlining...</td>\n",
       "      <td>29</td>\n",
       "    </tr>\n",
       "    <tr>\n",
       "      <th>4</th>\n",
       "      <td>report</td>\n",
       "      <td>coca-cola</td>\n",
       "      <td>Through all of the challenges, initiatives and...</td>\n",
       "      <td>28</td>\n",
       "    </tr>\n",
       "    <tr>\n",
       "      <th>5</th>\n",
       "      <td>report</td>\n",
       "      <td>coca-cola</td>\n",
       "      <td>Our environmental, social and governance (ESG)...</td>\n",
       "      <td>12</td>\n",
       "    </tr>\n",
       "    <tr>\n",
       "      <th>...</th>\n",
       "      <td>...</td>\n",
       "      <td>...</td>\n",
       "      <td>...</td>\n",
       "      <td>...</td>\n",
       "    </tr>\n",
       "    <tr>\n",
       "      <th>4299</th>\n",
       "      <td>report</td>\n",
       "      <td>unilever</td>\n",
       "      <td>All the pulp is bleached using an elemental ch...</td>\n",
       "      <td>12</td>\n",
       "    </tr>\n",
       "    <tr>\n",
       "      <th>4300</th>\n",
       "      <td>report</td>\n",
       "      <td>unilever</td>\n",
       "      <td>Printed in the UK by Pureprint using its purep...</td>\n",
       "      <td>12</td>\n",
       "    </tr>\n",
       "    <tr>\n",
       "      <th>4303</th>\n",
       "      <td>report</td>\n",
       "      <td>unilever</td>\n",
       "      <td>Both the manufacturing mill and the printer ar...</td>\n",
       "      <td>24</td>\n",
       "    </tr>\n",
       "    <tr>\n",
       "      <th>4304</th>\n",
       "      <td>report</td>\n",
       "      <td>unilever</td>\n",
       "      <td>If you have finished with this document and no...</td>\n",
       "      <td>31</td>\n",
       "    </tr>\n",
       "    <tr>\n",
       "      <th>4306</th>\n",
       "      <td>report</td>\n",
       "      <td>unilever</td>\n",
       "      <td>For further information about Unilever please ...</td>\n",
       "      <td>46</td>\n",
       "    </tr>\n",
       "  </tbody>\n",
       "</table>\n",
       "<p>7744 rows × 4 columns</p>\n",
       "</div>"
      ],
      "text/plain": [
       "     doc_type      fname                                           sentence  \\\n",
       "1      report  coca-cola  We do all of this while staying true to our pu...   \n",
       "2      report  coca-cola  The Coca-Cola Company 2021 Business & ESG Repo...   \n",
       "3      report  coca-cola  We made important decisions about streamlining...   \n",
       "4      report  coca-cola  Through all of the challenges, initiatives and...   \n",
       "5      report  coca-cola  Our environmental, social and governance (ESG)...   \n",
       "...       ...        ...                                                ...   \n",
       "4299   report   unilever  All the pulp is bleached using an elemental ch...   \n",
       "4300   report   unilever  Printed in the UK by Pureprint using its purep...   \n",
       "4303   report   unilever  Both the manufacturing mill and the printer ar...   \n",
       "4304   report   unilever  If you have finished with this document and no...   \n",
       "4306   report   unilever  For further information about Unilever please ...   \n",
       "\n",
       "      word count  \n",
       "1             19  \n",
       "2             50  \n",
       "3             29  \n",
       "4             28  \n",
       "5             12  \n",
       "...          ...  \n",
       "4299          12  \n",
       "4300          12  \n",
       "4303          24  \n",
       "4304          31  \n",
       "4306          46  \n",
       "\n",
       "[7744 rows x 4 columns]"
      ]
     },
     "execution_count": 19,
     "metadata": {},
     "output_type": "execute_result"
    }
   ],
   "source": [
    "df_report"
   ]
  },
  {
   "cell_type": "code",
   "execution_count": 21,
   "id": "a1f7b03a-6dd9-4d0e-89a1-f8d02156237a",
   "metadata": {},
   "outputs": [],
   "source": [
    "df_report.to_csv(fname_out, index = False)"
   ]
  },
  {
   "cell_type": "code",
   "execution_count": null,
   "id": "17a00c13-4863-46cd-aabf-e6d8fd834e7a",
   "metadata": {},
   "outputs": [],
   "source": []
  }
 ],
 "metadata": {
  "kernelspec": {
   "display_name": "Python 3 (ipykernel)",
   "language": "python",
   "name": "python3"
  },
  "language_info": {
   "codemirror_mode": {
    "name": "ipython",
    "version": 3
   },
   "file_extension": ".py",
   "mimetype": "text/x-python",
   "name": "python",
   "nbconvert_exporter": "python",
   "pygments_lexer": "ipython3",
   "version": "3.9.16"
  }
 },
 "nbformat": 4,
 "nbformat_minor": 5
}
