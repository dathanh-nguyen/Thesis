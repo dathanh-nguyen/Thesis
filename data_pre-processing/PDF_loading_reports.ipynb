{
 "cells": [
  {
   "cell_type": "code",
   "execution_count": 1,
   "id": "1a792e0c",
   "metadata": {},
   "outputs": [],
   "source": [
    "# import PyPDF2\n",
    "# import spacy\n",
    "import numpy as np\n",
    "import pandas as pd\n",
    "import fitz\n",
    "import nltk\n",
    "\n",
    "from nltk.tokenize import sent_tokenize\n",
    "# from pathlib import Path\n",
    "\n",
    "import os\n",
    "\n",
    "# nlp = spacy.load('en_core_web_lg')"
   ]
  },
  {
   "cell_type": "code",
   "execution_count": 2,
   "id": "7dad3d0e",
   "metadata": {},
   "outputs": [],
   "source": [
    "# sent_list = []\n",
    "\n",
    "# for page in pdf_text[2:]:\n",
    "#     doc = nlp(page)\n",
    "#     for sentence in doc.sents:\n",
    "#         sent_list.append(sentence)"
   ]
  },
  {
   "cell_type": "code",
   "execution_count": 3,
   "id": "7df52c8b",
   "metadata": {},
   "outputs": [],
   "source": [
    "path_pdf = 'C:\\\\Users\\\\tnguyen10\\\\OneDrive - Deloitte (O365D)\\\\Documents\\\\GitHub\\\\Thesis\\\\data\\\\reports'\n",
    "fname_out = 'C:\\\\Users\\\\tnguyen10\\\\OneDrive - Deloitte (O365D)\\\\Documents\\\\GitHub\\\\Thesis\\\\data_structured\\\\report_sentences.csv'"
   ]
  },
  {
   "cell_type": "code",
   "execution_count": 4,
   "id": "3445efbc",
   "metadata": {},
   "outputs": [],
   "source": [
    "def get_cnt(text):\n",
    "    cnt = 0\n",
    "    for word in text.split():\n",
    "        if word.isalnum():\n",
    "            cnt += 1\n",
    "    return cnt"
   ]
  },
  {
   "cell_type": "code",
   "execution_count": 5,
   "id": "a99207d9",
   "metadata": {},
   "outputs": [],
   "source": [
    "def get_text(block_lst):\n",
    "\n",
    "    MIN_WORD_CNT = 6\n",
    "    \n",
    "    text_lst = []\n",
    "    for block in block_lst:\n",
    "        if block[6] != 0: continue # block_type: 0 = text\n",
    "        \n",
    "        #I'm replacing the non-ascii single quotation mark here, because it's used in Coca Cola's report\n",
    "        text = block[4].replace('’',\"'\")\n",
    "        text = ''.join([i if ord(i) < 128 else ' ' for i in text])\n",
    "        #text = text.replace('fi ', 'fi') # PyMuPDF(fitz) bug fix: 'fi ' --> 'fi'\n",
    "    \n",
    "        if get_cnt(text) < MIN_WORD_CNT: continue # Delete sentences with less than MIN_WORD_CNT(10) \n",
    "    \n",
    "        text_lst.append(text.replace('-\\n', ''))\n",
    "        #.replace('-\\n', '')\n",
    "    return ('\\n'.join(text_lst))"
   ]
  },
  {
   "cell_type": "code",
   "execution_count": 6,
   "id": "4ed39987",
   "metadata": {},
   "outputs": [],
   "source": [
    "# test_sent = sent_tokenize(text)[2]\n",
    "\n",
    "# r_sent = ' '.join(test_sent.split()) #split splits the words of the sentence into a list - and gets rid of /n etc.\n",
    "\n",
    "# ' '.join(test_sent.split()) #joins the items of the list with a space "
   ]
  },
  {
   "cell_type": "code",
   "execution_count": 7,
   "id": "3eb346fe",
   "metadata": {
    "tags": []
   },
   "outputs": [],
   "source": [
    "def get_sentence(fname):\n",
    " \n",
    "    doc = fitz.open(fname)\n",
    "    \n",
    "    sent_lst = []\n",
    "    for page_no, page in enumerate(doc):\n",
    "        \n",
    "        block_lst = page.get_text_blocks()\n",
    "        text = get_text(block_lst)\n",
    "    \n",
    "        for i, sentence in enumerate(sent_tokenize(text)):\n",
    "            r_sent = ' '.join(sentence.split()) # Delete '\\n', '\\t' and strip\n",
    "            sent_lst.append(r_sent)\n",
    "            \n",
    "    doc.close()\n",
    "\n",
    "    return sent_lst"
   ]
  },
  {
   "cell_type": "code",
   "execution_count": 8,
   "id": "2c025765",
   "metadata": {},
   "outputs": [],
   "source": [
    "def gen_document(fname, sent_lst):\n",
    "\n",
    "    res_df = pd.DataFrame(\n",
    "        {\n",
    "            'doc_type': 'report',\n",
    "            'company': fname.split('.')[0],\n",
    "            'sentence': sent_lst\n",
    "        }\n",
    "    )\n",
    "    \n",
    "    return res_df"
   ]
  },
  {
   "cell_type": "code",
   "execution_count": 9,
   "id": "23aa88f3",
   "metadata": {},
   "outputs": [],
   "source": [
    "def read_filelist(path):\n",
    "\n",
    "    # Create empty DataFrame\n",
    "    df = pd.DataFrame()\n",
    "    \n",
    "    # Read file list (directory)\n",
    "    for idx, fname in enumerate(os.listdir(path)):\n",
    "        p_fname = os.path.join(path, fname)\n",
    "        print('path + fname >>>', p_fname)\n",
    "        \n",
    "        if p_fname.split('.')[-1] != 'pdf': continue\n",
    "        print('fname >>>',fname)\n",
    "    \n",
    "#         doc_id = int(idx)\n",
    "        \n",
    "#         print(f'doc_id = [{doc_id}], fname = [{fname}]')\n",
    "#         print('')\n",
    "    \n",
    "        sent_lst = get_sentence(p_fname)\n",
    "        df_doc   = gen_document(fname, sent_lst)\n",
    "        \n",
    "        df = pd.concat([df,df_doc])\n",
    "        \n",
    "    return df"
   ]
  },
  {
   "cell_type": "code",
   "execution_count": 10,
   "id": "24b348bb",
   "metadata": {
    "scrolled": true
   },
   "outputs": [
    {
     "name": "stdout",
     "output_type": "stream",
     "text": [
      "path + fname >>> C:\\Users\\tnguyen10\\OneDrive - Deloitte (O365D)\\Documents\\GitHub\\Thesis\\data\\reports\\abb.pdf\n",
      "fname >>> abb.pdf\n",
      "path + fname >>> C:\\Users\\tnguyen10\\OneDrive - Deloitte (O365D)\\Documents\\GitHub\\Thesis\\data\\reports\\adidas.pdf\n",
      "fname >>> adidas.pdf\n",
      "path + fname >>> C:\\Users\\tnguyen10\\OneDrive - Deloitte (O365D)\\Documents\\GitHub\\Thesis\\data\\reports\\airbus.pdf\n",
      "fname >>> airbus.pdf\n",
      "path + fname >>> C:\\Users\\tnguyen10\\OneDrive - Deloitte (O365D)\\Documents\\GitHub\\Thesis\\data\\reports\\apple.pdf\n",
      "fname >>> apple.pdf\n",
      "path + fname >>> C:\\Users\\tnguyen10\\OneDrive - Deloitte (O365D)\\Documents\\GitHub\\Thesis\\data\\reports\\bayer.pdf\n",
      "fname >>> bayer.pdf\n",
      "path + fname >>> C:\\Users\\tnguyen10\\OneDrive - Deloitte (O365D)\\Documents\\GitHub\\Thesis\\data\\reports\\beiersdorf.pdf\n",
      "fname >>> beiersdorf.pdf\n",
      "path + fname >>> C:\\Users\\tnguyen10\\OneDrive - Deloitte (O365D)\\Documents\\GitHub\\Thesis\\data\\reports\\blackrock.pdf\n",
      "fname >>> blackrock.pdf\n",
      "path + fname >>> C:\\Users\\tnguyen10\\OneDrive - Deloitte (O365D)\\Documents\\GitHub\\Thesis\\data\\reports\\bmw.pdf\n",
      "fname >>> bmw.pdf\n",
      "path + fname >>> C:\\Users\\tnguyen10\\OneDrive - Deloitte (O365D)\\Documents\\GitHub\\Thesis\\data\\reports\\boeing.pdf\n",
      "fname >>> boeing.pdf\n",
      "path + fname >>> C:\\Users\\tnguyen10\\OneDrive - Deloitte (O365D)\\Documents\\GitHub\\Thesis\\data\\reports\\cemex.pdf\n",
      "fname >>> cemex.pdf\n",
      "path + fname >>> C:\\Users\\tnguyen10\\OneDrive - Deloitte (O365D)\\Documents\\GitHub\\Thesis\\data\\reports\\chevron.pdf\n",
      "fname >>> chevron.pdf\n",
      "path + fname >>> C:\\Users\\tnguyen10\\OneDrive - Deloitte (O365D)\\Documents\\GitHub\\Thesis\\data\\reports\\chipotle.pdf\n",
      "fname >>> chipotle.pdf\n",
      "path + fname >>> C:\\Users\\tnguyen10\\OneDrive - Deloitte (O365D)\\Documents\\GitHub\\Thesis\\data\\reports\\citi.pdf\n",
      "fname >>> citi.pdf\n",
      "path + fname >>> C:\\Users\\tnguyen10\\OneDrive - Deloitte (O365D)\\Documents\\GitHub\\Thesis\\data\\reports\\coca-cola.pdf\n",
      "fname >>> coca-cola.pdf\n",
      "path + fname >>> C:\\Users\\tnguyen10\\OneDrive - Deloitte (O365D)\\Documents\\GitHub\\Thesis\\data\\reports\\colgate.pdf\n",
      "fname >>> colgate.pdf\n",
      "path + fname >>> C:\\Users\\tnguyen10\\OneDrive - Deloitte (O365D)\\Documents\\GitHub\\Thesis\\data\\reports\\danone.pdf\n",
      "fname >>> danone.pdf\n",
      "path + fname >>> C:\\Users\\tnguyen10\\OneDrive - Deloitte (O365D)\\Documents\\GitHub\\Thesis\\data\\reports\\dell.pdf\n",
      "fname >>> dell.pdf\n",
      "path + fname >>> C:\\Users\\tnguyen10\\OneDrive - Deloitte (O365D)\\Documents\\GitHub\\Thesis\\data\\reports\\dhl.pdf\n",
      "fname >>> dhl.pdf\n",
      "path + fname >>> C:\\Users\\tnguyen10\\OneDrive - Deloitte (O365D)\\Documents\\GitHub\\Thesis\\data\\reports\\diageo.pdf\n",
      "fname >>> diageo.pdf\n",
      "path + fname >>> C:\\Users\\tnguyen10\\OneDrive - Deloitte (O365D)\\Documents\\GitHub\\Thesis\\data\\reports\\dupont.pdf\n",
      "fname >>> dupont.pdf\n",
      "path + fname >>> C:\\Users\\tnguyen10\\OneDrive - Deloitte (O365D)\\Documents\\GitHub\\Thesis\\data\\reports\\edp.pdf\n",
      "fname >>> edp.pdf\n",
      "path + fname >>> C:\\Users\\tnguyen10\\OneDrive - Deloitte (O365D)\\Documents\\GitHub\\Thesis\\data\\reports\\enel.pdf\n",
      "fname >>> enel.pdf\n",
      "path + fname >>> C:\\Users\\tnguyen10\\OneDrive - Deloitte (O365D)\\Documents\\GitHub\\Thesis\\data\\reports\\eversource.pdf\n",
      "fname >>> eversource.pdf\n",
      "path + fname >>> C:\\Users\\tnguyen10\\OneDrive - Deloitte (O365D)\\Documents\\GitHub\\Thesis\\data\\reports\\exxon.pdf\n",
      "fname >>> exxon.pdf\n",
      "path + fname >>> C:\\Users\\tnguyen10\\OneDrive - Deloitte (O365D)\\Documents\\GitHub\\Thesis\\data\\reports\\ford-motor.pdf\n",
      "fname >>> ford-motor.pdf\n",
      "path + fname >>> C:\\Users\\tnguyen10\\OneDrive - Deloitte (O365D)\\Documents\\GitHub\\Thesis\\data\\reports\\general-mills.pdf\n",
      "fname >>> general-mills.pdf\n",
      "path + fname >>> C:\\Users\\tnguyen10\\OneDrive - Deloitte (O365D)\\Documents\\GitHub\\Thesis\\data\\reports\\google.pdf\n",
      "fname >>> google.pdf\n",
      "path + fname >>> C:\\Users\\tnguyen10\\OneDrive - Deloitte (O365D)\\Documents\\GitHub\\Thesis\\data\\reports\\h&m.pdf\n",
      "fname >>> h&m.pdf\n",
      "path + fname >>> C:\\Users\\tnguyen10\\OneDrive - Deloitte (O365D)\\Documents\\GitHub\\Thesis\\data\\reports\\henkel.pdf\n",
      "fname >>> henkel.pdf\n",
      "path + fname >>> C:\\Users\\tnguyen10\\OneDrive - Deloitte (O365D)\\Documents\\GitHub\\Thesis\\data\\reports\\hershey.pdf\n",
      "fname >>> hershey.pdf\n",
      "path + fname >>> C:\\Users\\tnguyen10\\OneDrive - Deloitte (O365D)\\Documents\\GitHub\\Thesis\\data\\reports\\honda.pdf\n",
      "fname >>> honda.pdf\n",
      "path + fname >>> C:\\Users\\tnguyen10\\OneDrive - Deloitte (O365D)\\Documents\\GitHub\\Thesis\\data\\reports\\hp.pdf\n",
      "fname >>> hp.pdf\n",
      "path + fname >>> C:\\Users\\tnguyen10\\OneDrive - Deloitte (O365D)\\Documents\\GitHub\\Thesis\\data\\reports\\hyundai.pdf\n",
      "fname >>> hyundai.pdf\n",
      "path + fname >>> C:\\Users\\tnguyen10\\OneDrive - Deloitte (O365D)\\Documents\\GitHub\\Thesis\\data\\reports\\ibm.pdf\n",
      "fname >>> ibm.pdf\n",
      "path + fname >>> C:\\Users\\tnguyen10\\OneDrive - Deloitte (O365D)\\Documents\\GitHub\\Thesis\\data\\reports\\inditex.pdf\n",
      "fname >>> inditex.pdf\n",
      "path + fname >>> C:\\Users\\tnguyen10\\OneDrive - Deloitte (O365D)\\Documents\\GitHub\\Thesis\\data\\reports\\intel.pdf\n",
      "fname >>> intel.pdf\n",
      "path + fname >>> C:\\Users\\tnguyen10\\OneDrive - Deloitte (O365D)\\Documents\\GitHub\\Thesis\\data\\reports\\komatsu.pdf\n",
      "fname >>> komatsu.pdf\n",
      "path + fname >>> C:\\Users\\tnguyen10\\OneDrive - Deloitte (O365D)\\Documents\\GitHub\\Thesis\\data\\reports\\linde.pdf\n",
      "fname >>> linde.pdf\n",
      "path + fname >>> C:\\Users\\tnguyen10\\OneDrive - Deloitte (O365D)\\Documents\\GitHub\\Thesis\\data\\reports\\mcdonald.pdf\n",
      "fname >>> mcdonald.pdf\n",
      "path + fname >>> C:\\Users\\tnguyen10\\OneDrive - Deloitte (O365D)\\Documents\\GitHub\\Thesis\\data\\reports\\mercedes.pdf\n",
      "fname >>> mercedes.pdf\n",
      "path + fname >>> C:\\Users\\tnguyen10\\OneDrive - Deloitte (O365D)\\Documents\\GitHub\\Thesis\\data\\reports\\microsoft.pdf\n",
      "fname >>> microsoft.pdf\n",
      "path + fname >>> C:\\Users\\tnguyen10\\OneDrive - Deloitte (O365D)\\Documents\\GitHub\\Thesis\\data\\reports\\mitsubishi.pdf\n",
      "fname >>> mitsubishi.pdf\n",
      "path + fname >>> C:\\Users\\tnguyen10\\OneDrive - Deloitte (O365D)\\Documents\\GitHub\\Thesis\\data\\reports\\mondelez.pdf\n",
      "fname >>> mondelez.pdf\n",
      "path + fname >>> C:\\Users\\tnguyen10\\OneDrive - Deloitte (O365D)\\Documents\\GitHub\\Thesis\\data\\reports\\nestle.pdf\n",
      "fname >>> nestle.pdf\n",
      "path + fname >>> C:\\Users\\tnguyen10\\OneDrive - Deloitte (O365D)\\Documents\\GitHub\\Thesis\\data\\reports\\nextera.pdf\n",
      "fname >>> nextera.pdf\n",
      "path + fname >>> C:\\Users\\tnguyen10\\OneDrive - Deloitte (O365D)\\Documents\\GitHub\\Thesis\\data\\reports\\nike.pdf\n",
      "fname >>> nike.pdf\n",
      "path + fname >>> C:\\Users\\tnguyen10\\OneDrive - Deloitte (O365D)\\Documents\\GitHub\\Thesis\\data\\reports\\p&g.pdf\n",
      "fname >>> p&g.pdf\n",
      "path + fname >>> C:\\Users\\tnguyen10\\OneDrive - Deloitte (O365D)\\Documents\\GitHub\\Thesis\\data\\reports\\pepsico.pdf\n",
      "fname >>> pepsico.pdf\n",
      "path + fname >>> C:\\Users\\tnguyen10\\OneDrive - Deloitte (O365D)\\Documents\\GitHub\\Thesis\\data\\reports\\ralph-lauren.pdf\n",
      "fname >>> ralph-lauren.pdf\n",
      "path + fname >>> C:\\Users\\tnguyen10\\OneDrive - Deloitte (O365D)\\Documents\\GitHub\\Thesis\\data\\reports\\renault.pdf\n",
      "fname >>> renault.pdf\n",
      "path + fname >>> C:\\Users\\tnguyen10\\OneDrive - Deloitte (O365D)\\Documents\\GitHub\\Thesis\\data\\reports\\rio-tinto.pdf\n",
      "fname >>> rio-tinto.pdf\n",
      "path + fname >>> C:\\Users\\tnguyen10\\OneDrive - Deloitte (O365D)\\Documents\\GitHub\\Thesis\\data\\reports\\schneider-electric.pdf\n",
      "fname >>> schneider-electric.pdf\n",
      "path + fname >>> C:\\Users\\tnguyen10\\OneDrive - Deloitte (O365D)\\Documents\\GitHub\\Thesis\\data\\reports\\shell.pdf\n",
      "fname >>> shell.pdf\n",
      "path + fname >>> C:\\Users\\tnguyen10\\OneDrive - Deloitte (O365D)\\Documents\\GitHub\\Thesis\\data\\reports\\sonoco.pdf\n",
      "fname >>> sonoco.pdf\n",
      "path + fname >>> C:\\Users\\tnguyen10\\OneDrive - Deloitte (O365D)\\Documents\\GitHub\\Thesis\\data\\reports\\starbucks.pdf\n",
      "fname >>> starbucks.pdf\n",
      "path + fname >>> C:\\Users\\tnguyen10\\OneDrive - Deloitte (O365D)\\Documents\\GitHub\\Thesis\\data\\reports\\tesco.pdf\n",
      "fname >>> tesco.pdf\n",
      "path + fname >>> C:\\Users\\tnguyen10\\OneDrive - Deloitte (O365D)\\Documents\\GitHub\\Thesis\\data\\reports\\tesla.pdf\n",
      "fname >>> tesla.pdf\n",
      "path + fname >>> C:\\Users\\tnguyen10\\OneDrive - Deloitte (O365D)\\Documents\\GitHub\\Thesis\\data\\reports\\totalenergies.pdf\n",
      "fname >>> totalenergies.pdf\n",
      "path + fname >>> C:\\Users\\tnguyen10\\OneDrive - Deloitte (O365D)\\Documents\\GitHub\\Thesis\\data\\reports\\toyota.pdf\n",
      "fname >>> toyota.pdf\n",
      "path + fname >>> C:\\Users\\tnguyen10\\OneDrive - Deloitte (O365D)\\Documents\\GitHub\\Thesis\\data\\reports\\veolia.pdf\n",
      "fname >>> veolia.pdf\n",
      "path + fname >>> C:\\Users\\tnguyen10\\OneDrive - Deloitte (O365D)\\Documents\\GitHub\\Thesis\\data\\reports\\volkswagen.pdf\n",
      "fname >>> volkswagen.pdf\n",
      "path + fname >>> C:\\Users\\tnguyen10\\OneDrive - Deloitte (O365D)\\Documents\\GitHub\\Thesis\\data\\reports\\volvo.pdf\n",
      "fname >>> volvo.pdf\n",
      "path + fname >>> C:\\Users\\tnguyen10\\OneDrive - Deloitte (O365D)\\Documents\\GitHub\\Thesis\\data\\reports\\walmart.pdf\n",
      "fname >>> walmart.pdf\n",
      "==== End of jobs ====\n",
      "CPU times: total: 2min 26s\n",
      "Wall time: 2min 40s\n"
     ]
    }
   ],
   "source": [
    "%%time\n",
    "df = read_filelist(path_pdf)\n",
    "print('==== End of jobs ====')"
   ]
  },
  {
   "cell_type": "code",
   "execution_count": 11,
   "id": "bad321ec",
   "metadata": {},
   "outputs": [
    {
     "data": {
      "text/plain": [
       "'In addition, many other smaller suppliers have also made these commitments.'"
      ]
     },
     "execution_count": 11,
     "metadata": {},
     "output_type": "execute_result"
    }
   ],
   "source": [
    "df['sentence'].values[1507]"
   ]
  },
  {
   "cell_type": "code",
   "execution_count": 21,
   "id": "3613bd10",
   "metadata": {},
   "outputs": [],
   "source": [
    "df.to_csv(fname_out, index = False)"
   ]
  },
  {
   "cell_type": "code",
   "execution_count": 14,
   "id": "d05e6c05-39dd-4768-960a-232d12fcdc29",
   "metadata": {},
   "outputs": [
    {
     "data": {
      "text/plain": [
       "array(['report', 'abb',\n",
       "       \"One year into ABB's 2030 sustainability strategy, we are off to an excellent start in the pursuit of our ambitious targets.\"],\n",
       "      dtype=object)"
      ]
     },
     "execution_count": 14,
     "metadata": {},
     "output_type": "execute_result"
    }
   ],
   "source": [
    "df.values[0]"
   ]
  },
  {
   "cell_type": "code",
   "execution_count": 15,
   "id": "7351a8b1-91ae-4be0-a6a5-75984c67f499",
   "metadata": {},
   "outputs": [
    {
     "data": {
      "text/plain": [
       "\"We also joined the SBTi's Business Ambition for 1.5 C, an urgent call to action from a global coalition of United Nations agencies and business and industry leaders, in partnership with the Race to Zero campaign.\""
      ]
     },
     "execution_count": 15,
     "metadata": {},
     "output_type": "execute_result"
    }
   ],
   "source": [
    "df['sentence'].values[6]"
   ]
  },
  {
   "cell_type": "code",
   "execution_count": 16,
   "id": "328f4038-cd39-4caa-b7c2-99ed8d5de6f5",
   "metadata": {},
   "outputs": [
    {
     "data": {
      "text/plain": [
       "(33553, 3)"
      ]
     },
     "execution_count": 16,
     "metadata": {},
     "output_type": "execute_result"
    }
   ],
   "source": [
    "df.shape"
   ]
  },
  {
   "cell_type": "markdown",
   "id": "6f98a9f2-7363-4daa-a0f9-b552db6aee50",
   "metadata": {},
   "source": [
    "There are 33553 sentences across 63 reports. This means that on average a report has 504 sentences. Divided by the average of 20 sentences per article, this gives us 26 articles on average per company are necessary to match the amount of sentences found in their reports."
   ]
  },
  {
   "cell_type": "markdown",
   "id": "b6fc8ae1-0d0f-448d-bd98-2052402590da",
   "metadata": {},
   "source": [
    "# Further cleaning"
   ]
  },
  {
   "cell_type": "code",
   "execution_count": 17,
   "id": "5d119a78-5986-43ae-a351-68dc152c2ad8",
   "metadata": {},
   "outputs": [],
   "source": [
    "df_report = df"
   ]
  },
  {
   "cell_type": "code",
   "execution_count": 18,
   "id": "84ee4494-2ec2-457b-baf2-5ce65b72e71b",
   "metadata": {},
   "outputs": [],
   "source": [
    "df_report[\"sentence\"] = df_report[\"sentence\"].replace(r'http\\S+|\\[.\\]:|www\\S+|\\w+/\\S+|\\w+-\\w+-\\S+|\\[|\\]','',regex = True).replace(r'^\\s+|\\s+$','',regex=True).replace(r'\\s{2,}',' ',regex=True)\n",
    "# original: http\\S+|\\[.\\]:?|www\\S+|\\w+/\\S+|\\w+-\\w+-\\S+\n",
    "#remove double spaces with one space and remove most hyperlinks + remove whitespaces at the end and beginning of a sentence"
   ]
  },
  {
   "cell_type": "code",
   "execution_count": 19,
   "id": "816e6966-7447-4f1a-9f48-8653ceacf210",
   "metadata": {},
   "outputs": [],
   "source": [
    "df_report['sentence'] = df_report['sentence'].str.replace('Nestl ', 'Nestle ')"
   ]
  },
  {
   "cell_type": "code",
   "execution_count": 20,
   "id": "582421e6-d74f-4f60-853a-07f10301c438",
   "metadata": {},
   "outputs": [],
   "source": [
    "df_report[\"word count\"] = [len(i) for i in df_report[\"sentence\"].str.split()]"
   ]
  },
  {
   "cell_type": "code",
   "execution_count": 21,
   "id": "10da300e-6dd5-4617-a6f7-b31393712746",
   "metadata": {},
   "outputs": [],
   "source": [
    "df_report = df_report[df_report[\"word count\"] > 5]"
   ]
  },
  {
   "cell_type": "code",
   "execution_count": 22,
   "id": "d8aa393e-becb-4943-90af-38dec3f78318",
   "metadata": {},
   "outputs": [],
   "source": [
    "df_report = df_report[df_report[\"word count\"] < 100]"
   ]
  },
  {
   "cell_type": "code",
   "execution_count": 23,
   "id": "cd2a4470-3a5f-4ef1-bc46-c0cda1690a6d",
   "metadata": {},
   "outputs": [
    {
     "data": {
      "text/plain": [
       "array([[<Axes: title={'center': 'word count'}>]], dtype=object)"
      ]
     },
     "execution_count": 23,
     "metadata": {},
     "output_type": "execute_result"
    },
    {
     "data": {
      "image/png": "[encoded data removed]",
      "text/plain": [
       "<Figure size 640x480 with 1 Axes>"
      ]
     },
     "metadata": {},
     "output_type": "display_data"
    }
   ],
   "source": [
    "import matplotlib.pyplot as plt\n",
    "from matplotlib.ticker import StrMethodFormatter\n",
    "df_report.hist(column = 'word count')"
   ]
  },
  {
   "cell_type": "code",
   "execution_count": 24,
   "id": "50b69375-f9aa-4e4c-9f0d-70ebee250dfa",
   "metadata": {},
   "outputs": [
    {
     "data": {
      "text/html": [
       "<div>\n",
       "<style scoped>\n",
       "    .dataframe tbody tr th:only-of-type {\n",
       "        vertical-align: middle;\n",
       "    }\n",
       "\n",
       "    .dataframe tbody tr th {\n",
       "        vertical-align: top;\n",
       "    }\n",
       "\n",
       "    .dataframe thead th {\n",
       "        text-align: right;\n",
       "    }\n",
       "</style>\n",
       "<table border=\"1\" class=\"dataframe\">\n",
       "  <thead>\n",
       "    <tr style=\"text-align: right;\">\n",
       "      <th></th>\n",
       "      <th>doc_type</th>\n",
       "      <th>company</th>\n",
       "      <th>sentence</th>\n",
       "      <th>word count</th>\n",
       "    </tr>\n",
       "  </thead>\n",
       "  <tbody>\n",
       "    <tr>\n",
       "      <th>0</th>\n",
       "      <td>report</td>\n",
       "      <td>abb</td>\n",
       "      <td>One year into ABB's 2030 sustainability strate...</td>\n",
       "      <td>21</td>\n",
       "    </tr>\n",
       "    <tr>\n",
       "      <th>1</th>\n",
       "      <td>report</td>\n",
       "      <td>abb</td>\n",
       "      <td>Compared with our baseline year of 2019, we ha...</td>\n",
       "      <td>27</td>\n",
       "    </tr>\n",
       "    <tr>\n",
       "      <th>2</th>\n",
       "      <td>report</td>\n",
       "      <td>abb</td>\n",
       "      <td>Last year, we recorded no work-related fatalit...</td>\n",
       "      <td>13</td>\n",
       "    </tr>\n",
       "    <tr>\n",
       "      <th>3</th>\n",
       "      <td>report</td>\n",
       "      <td>abb</td>\n",
       "      <td>We also increased the number of women in senio...</td>\n",
       "      <td>39</td>\n",
       "    </tr>\n",
       "    <tr>\n",
       "      <th>4</th>\n",
       "      <td>report</td>\n",
       "      <td>abb</td>\n",
       "      <td>Alongside these headline achievements, we made...</td>\n",
       "      <td>26</td>\n",
       "    </tr>\n",
       "    <tr>\n",
       "      <th>...</th>\n",
       "      <td>...</td>\n",
       "      <td>...</td>\n",
       "      <td>...</td>\n",
       "      <td>...</td>\n",
       "    </tr>\n",
       "    <tr>\n",
       "      <th>190</th>\n",
       "      <td>report</td>\n",
       "      <td>walmart</td>\n",
       "      <td>LABS works with engineering companies to devel...</td>\n",
       "      <td>20</td>\n",
       "    </tr>\n",
       "    <tr>\n",
       "      <th>191</th>\n",
       "      <td>report</td>\n",
       "      <td>walmart</td>\n",
       "      <td>Factories develop supervised corrective action...</td>\n",
       "      <td>18</td>\n",
       "    </tr>\n",
       "    <tr>\n",
       "      <th>192</th>\n",
       "      <td>report</td>\n",
       "      <td>walmart</td>\n",
       "      <td>LABS has been active in India and Vietnam sinc...</td>\n",
       "      <td>14</td>\n",
       "    </tr>\n",
       "    <tr>\n",
       "      <th>193</th>\n",
       "      <td>report</td>\n",
       "      <td>walmart</td>\n",
       "      <td>The program expanded to Cambodia in May 2022 a...</td>\n",
       "      <td>17</td>\n",
       "    </tr>\n",
       "    <tr>\n",
       "      <th>194</th>\n",
       "      <td>report</td>\n",
       "      <td>walmart</td>\n",
       "      <td>ETHICS &amp; INTEGRITY COMMUNITY SUSTAINABILITY OP...</td>\n",
       "      <td>7</td>\n",
       "    </tr>\n",
       "  </tbody>\n",
       "</table>\n",
       "<p>32030 rows × 4 columns</p>\n",
       "</div>"
      ],
      "text/plain": [
       "    doc_type  company                                           sentence  \\\n",
       "0     report      abb  One year into ABB's 2030 sustainability strate...   \n",
       "1     report      abb  Compared with our baseline year of 2019, we ha...   \n",
       "2     report      abb  Last year, we recorded no work-related fatalit...   \n",
       "3     report      abb  We also increased the number of women in senio...   \n",
       "4     report      abb  Alongside these headline achievements, we made...   \n",
       "..       ...      ...                                                ...   \n",
       "190   report  walmart  LABS works with engineering companies to devel...   \n",
       "191   report  walmart  Factories develop supervised corrective action...   \n",
       "192   report  walmart  LABS has been active in India and Vietnam sinc...   \n",
       "193   report  walmart  The program expanded to Cambodia in May 2022 a...   \n",
       "194   report  walmart  ETHICS & INTEGRITY COMMUNITY SUSTAINABILITY OP...   \n",
       "\n",
       "     word count  \n",
       "0            21  \n",
       "1            27  \n",
       "2            13  \n",
       "3            39  \n",
       "4            26  \n",
       "..          ...  \n",
       "190          20  \n",
       "191          18  \n",
       "192          14  \n",
       "193          17  \n",
       "194           7  \n",
       "\n",
       "[32030 rows x 4 columns]"
      ]
     },
     "execution_count": 24,
     "metadata": {},
     "output_type": "execute_result"
    }
   ],
   "source": [
    "df_report"
   ]
  },
  {
   "cell_type": "code",
   "execution_count": 25,
   "id": "a1f7b03a-6dd9-4d0e-89a1-f8d02156237a",
   "metadata": {},
   "outputs": [],
   "source": [
    "df_report.to_csv(fname_out, index = False)"
   ]
  },
  {
   "cell_type": "markdown",
   "id": "85a7079e-af25-4620-9926-2ae51dfd27e6",
   "metadata": {},
   "source": []
  }
 ],
 "metadata": {
  "kernelspec": {
   "display_name": "Python 3 (ipykernel)",
   "language": "python",
   "name": "python3"
  },
  "language_info": {
   "codemirror_mode": {
    "name": "ipython",
    "version": 3
   },
   "file_extension": ".py",
   "mimetype": "text/x-python",
   "name": "python",
   "nbconvert_exporter": "python",
   "pygments_lexer": "ipython3",
   "version": "3.9.16"
  }
 },
 "nbformat": 4,
 "nbformat_minor": 5
}
