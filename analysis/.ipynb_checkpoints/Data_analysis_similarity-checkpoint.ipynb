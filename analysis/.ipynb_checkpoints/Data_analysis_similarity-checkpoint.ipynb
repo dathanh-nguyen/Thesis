{
 "cells": [
  {
   "cell_type": "markdown",
   "id": "56652c31-b6ab-4d44-a17b-67bfd8790b65",
   "metadata": {},
   "source": [
    "This notebook calculates the potential greenwashing score by comparing the text similarity between the CSR reports and the news articles of a company."
   ]
  },
  {
   "cell_type": "markdown",
   "id": "be5a1d7d-c2b7-4a7c-85bd-054c022b3dd4",
   "metadata": {},
   "source": [
    "# Set-up and loading the data"
   ]
  },
  {
   "cell_type": "code",
   "execution_count": null,
   "id": "7b53eefd-d3db-49a6-a54e-9a1038daaa4e",
   "metadata": {},
   "outputs": [],
   "source": [
    "from transformers import pipeline, AutoTokenizer, AutoModel, AutoModelForSequenceClassification\n",
    "import numpy as np\n",
    "import pandas as pd\n",
    "import torch\n",
    "from sentence_transformers import SentenceTransformer, util, models\n",
    "import os\n",
    "from sklearn.preprocessing import MinMaxScaler\n",
    "from tqdm.auto import tqdm"
   ]
  },
  {
   "cell_type": "code",
   "execution_count": null,
   "id": "3a970dbe-e3a3-469d-9adb-79cc7067ba13",
   "metadata": {},
   "outputs": [],
   "source": [
    "path_data = '..\\\\data_structured'"
   ]
  },
  {
   "cell_type": "code",
   "execution_count": null,
   "id": "b2a80421-7930-4540-8c8d-631a901dd9b6",
   "metadata": {},
   "outputs": [],
   "source": [
    "df_comb = pd.read_pickle(os.path.join(path_data, 'comb.pkl'))"
   ]
  },
  {
   "cell_type": "code",
   "execution_count": null,
   "id": "c4f93fc6-09d9-4ea7-b217-33ef8662aab3",
   "metadata": {},
   "outputs": [],
   "source": [
    "sust_topics = [0,1,2,3,4,5,6,7,8,10,11,20,25]"
   ]
  },
  {
   "cell_type": "code",
   "execution_count": null,
   "id": "1ef776e5-761f-4a8a-9908-2f857352e466",
   "metadata": {},
   "outputs": [],
   "source": [
    "df_analyze = df_comb[df_comb['topics'].isin(sust_topics)]\n",
    "df_analyze.reset_index(inplace = True, drop = True)\n",
    "df_analyze.shape"
   ]
  },
  {
   "cell_type": "code",
   "execution_count": null,
   "id": "0dfd5bb6-d153-49d7-8bcf-dac199876262",
   "metadata": {},
   "outputs": [],
   "source": [
    "df_report = df_analyze[df_analyze['doc_type']=='report']\n",
    "df_article = df_analyze[df_analyze['doc_type']=='news']\n",
    "df_report.reset_index(drop = True, inplace = True)\n",
    "df_article.reset_index(drop = True, inplace = True)"
   ]
  },
  {
   "cell_type": "markdown",
   "id": "f0ac54e6-6ece-4386-9bf2-f95bb0ea61ed",
   "metadata": {},
   "source": [
    "# Text Similarity (S-BERT) Score Calculation"
   ]
  },
  {
   "cell_type": "code",
   "execution_count": null,
   "id": "663bfb89-ebe4-41cc-a2e4-5bd2c0b0435c",
   "metadata": {},
   "outputs": [],
   "source": [
    "df_similarity = df_report.copy()"
   ]
  },
  {
   "cell_type": "code",
   "execution_count": null,
   "id": "6adc2416-1003-4dde-a945-1b7773fb09e0",
   "metadata": {},
   "outputs": [],
   "source": [
    "%%time\n",
    "# firm level similarity\n",
    "similarity_scores = []\n",
    "for i,row in df_similarity.iterrows():\n",
    "    # define our query (i.e. claim) and the company it's related to \n",
    "    query_embedding = row['embeddings']\n",
    "    company = row['company']\n",
    "    # search only the article embeddings/sentences of the specific company\n",
    "    corpus_embeddings = df_article[(df_article['company']==company)]['embeddings'].values\n",
    "    top_10 = util.semantic_search(torch.Tensor(query_embedding), torch.Tensor(np.array(list(corpus_embeddings))), top_k = 10)\n",
    "    try:\n",
    "        sim_score = pd.DataFrame(top_10[0])['score'].mean()\n",
    "    except:\n",
    "        sim_score = 'no sentences'\n",
    "    similarity_scores.append(sim_score)\n",
    "\n",
    "df_similarity['sentence_similarity'] = similarity_scores"
   ]
  },
  {
   "cell_type": "code",
   "execution_count": null,
   "id": "2fb7ec43-c664-44ae-b685-7ed9124d4d0c",
   "metadata": {},
   "outputs": [],
   "source": [
    "# creating a dictionary to hold the firm level scores\n",
    "gw_sim_total = {}\n",
    "for firm in set(df_analyze['company']):\n",
    "    gw_sim_total[firm] = df_similarity[(df_similarity['company']==firm)&(df_similarity['sentence_similarity']!='no sentences')]['sentence_similarity'].mean(skipna=True)\n",
    "gw_sim_total"
   ]
  },
  {
   "cell_type": "code",
   "execution_count": null,
   "id": "ae0b7ccb-1934-466b-849e-393be2eb0dbc",
   "metadata": {},
   "outputs": [],
   "source": [
    "# creating a dataframe based on the dictionary, including dissimilarity score\n",
    "df_gw_sim_total = pd.DataFrame(gw_sim_total.items(),columns=['company', 'sim_overall'])\n",
    "df_gw_sim_total['sim_overall'] = MinMaxScaler().fit_transform(np.array(df_gw_sim_total['sim_overall']).reshape(-1,1))\n",
    "df_gw_sim_total['dissimilarity_overall'] = 1 - df_gw_sim_total['sim_overall']"
   ]
  },
  {
   "cell_type": "code",
   "execution_count": null,
   "id": "f3c9902f-d5ae-4819-a844-b6c4a1a5f447",
   "metadata": {},
   "outputs": [],
   "source": [
    "%%time\n",
    "# topic level sentence similarity\n",
    "similarity_scores = []\n",
    "for i,row in df_similarity.iterrows():\n",
    "    # define our query (i.e. claim) and the company it's related to \n",
    "    query_embedding = row['embeddings']\n",
    "    company = row['company']\n",
    "    cluster = row['topics']\n",
    "    # search only the article embeddings/sentences of the specific company\n",
    "    corpus_embeddings = df_article[(df_article['company']==company)&(df_article['topics']==cluster)]['embeddings'].values\n",
    "    top_10 = util.semantic_search(torch.Tensor(query_embedding), torch.Tensor(np.array(list(corpus_embeddings))), top_k = 10)\n",
    "    try:\n",
    "        sim_score = pd.DataFrame(top_10[0])['score'].mean()\n",
    "    except:\n",
    "        sim_score = 'no sentences'\n",
    "    similarity_scores.append(sim_score)\n",
    "\n",
    "df_similarity['sentence_similarity_topic'] = similarity_scores"
   ]
  },
  {
   "cell_type": "code",
   "execution_count": null,
   "id": "e1a88642-64b1-4d8b-b5a5-a1e454c7997c",
   "metadata": {},
   "outputs": [],
   "source": [
    "# creating a dictionary to hold the topic level scores\n",
    "gw_database_sim = {}\n",
    "for cluster in list(set(df_analyze['topics'])):\n",
    "    firm_cluster_score = {}\n",
    "    for firm in set(df_analyze['company']):\n",
    "        firm_cluster_score[firm] = (df_similarity[(df_similarity['company']==firm)&(df_similarity['topics']==cluster)&(df_similarity['sentence_similarity']!='no sentences')]['sentence_similarity'].mean(skipna=True))\n",
    "    gw_database_sim[cluster]= firm_cluster_score"
   ]
  },
  {
   "cell_type": "code",
   "execution_count": null,
   "id": "baf7344e-69d4-42cb-abb0-105129f0dcd9",
   "metadata": {},
   "outputs": [],
   "source": [
    "# creating a dataframe\n",
    "df_gw_sim = pd.DataFrame.from_dict(gw_database_sim)\n",
    "df_gw_sim.reset_index(inplace = True)\n",
    "df_gw_sim.rename(columns = {'index':'company'}, inplace = True)"
   ]
  },
  {
   "cell_type": "code",
   "execution_count": null,
   "id": "75ce5bbb-3381-4c25-9d21-004582a682b4",
   "metadata": {},
   "outputs": [],
   "source": [
    "# get the average across topics\n",
    "df_gw_sim['sim_average_cluster'] = df_gw_sim[sust_topics].mean(axis = 1, skipna = True)\n",
    "df_gw_sim['sim_average_cluster'] = MinMaxScaler().fit_transform(np.array(df_gw_sim['sim_average_cluster']).reshape(-1,1))\n",
    "df_gw_sim['dissimilarity_average_cluster'] = 1 - df_gw_sim['sim_average_cluster']"
   ]
  },
  {
   "cell_type": "code",
   "execution_count": null,
   "id": "d8dcf134-54f6-46ce-b9fe-cfbd1a7b1a54",
   "metadata": {},
   "outputs": [],
   "source": [
    "merged_df = df_gw_sim_total.copy()\n",
    "merged_df = merged_df.merge(df_gw_sim[['company','sim_average_cluster']])\n",
    "# merged_df.to_csv('similarity_scores.csv', index = False)"
   ]
  }
 ],
 "metadata": {
  "kernelspec": {
   "display_name": "Python 3 (ipykernel)",
   "language": "python",
   "name": "python3"
  },
  "language_info": {
   "codemirror_mode": {
    "name": "ipython",
    "version": 3
   },
   "file_extension": ".py",
   "mimetype": "text/x-python",
   "name": "python",
   "nbconvert_exporter": "python",
   "pygments_lexer": "ipython3",
   "version": "3.10.9"
  }
 },
 "nbformat": 4,
 "nbformat_minor": 5
}
