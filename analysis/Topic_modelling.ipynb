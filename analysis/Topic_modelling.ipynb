{
 "cells": [
  {
   "cell_type": "markdown",
   "id": "614c994f-ad2b-4e61-8b35-fc5314986f0c",
   "metadata": {},
   "source": [
    "## Set-up and Data Loading"
   ]
  },
  {
   "cell_type": "code",
   "execution_count": 1,
   "id": "de441155-9dd7-45d9-91fc-e5f73188d5c6",
   "metadata": {},
   "outputs": [
    {
     "name": "stderr",
     "output_type": "stream",
     "text": [
      "C:\\Users\\dathn\\anaconda3\\envs\\thesis_v2\\lib\\site-packages\\tqdm\\auto.py:21: TqdmWarning: IProgress not found. Please update jupyter and ipywidgets. See https://ipywidgets.readthedocs.io/en/stable/user_install.html\n",
      "  from .autonotebook import tqdm as notebook_tqdm\n"
     ]
    }
   ],
   "source": [
    "from sentence_transformers import SentenceTransformer, util, models\n",
    "from transformers import pipeline, AutoTokenizer, AutoModel, AutoModelForSequenceClassification\n",
    "import numpy as np\n",
    "import pandas as pd\n",
    "import torch\n",
    "import matplotlib.pyplot as plt\n",
    "from umap import UMAP\n",
    "from hdbscan import HDBSCAN\n",
    "import os\n",
    "from bertopic import BERTopic\n",
    "from sklearn.feature_extraction.text import CountVectorizer\n",
    "from nltk.corpus import stopwords\n",
    "from bertopic.representation import MaximalMarginalRelevance\n",
    "from sklearn.manifold import TSNE\n",
    "import plotly.express as px\n",
    "from tqdm.auto import tqdm\n",
    "import seaborn as sns\n",
    "import gensim\n",
    "import gensim.corpora as corpora\n",
    "from gensim.models.coherencemodel import CoherenceModel\n",
    "# from octis.evaluation_metrics.diversity_metrics import TopicDiversity"
   ]
  },
  {
   "cell_type": "code",
   "execution_count": 2,
   "id": "3c20c7e0-e245-4908-afee-e72805d49bee",
   "metadata": {},
   "outputs": [],
   "source": [
    "path_data = '..\\\\data_structured'"
   ]
  },
  {
   "cell_type": "code",
   "execution_count": 3,
   "id": "f21feeb4-f1f5-4e60-865d-594755604e29",
   "metadata": {},
   "outputs": [],
   "source": [
    "path_reports = '..\\\\data\\\\reports'"
   ]
  },
  {
   "cell_type": "code",
   "execution_count": 9,
   "id": "50b2fd46-f94e-4fcd-80bf-a1d3bf006c81",
   "metadata": {},
   "outputs": [
    {
     "data": {
      "text/plain": [
       "0            abb\n",
       "1         adidas\n",
       "2         airbus\n",
       "3          apple\n",
       "4          bayer\n",
       "         ...    \n",
       "58        toyota\n",
       "59        veolia\n",
       "60    volkswagen\n",
       "61         volvo\n",
       "62       walmart\n",
       "Length: 63, dtype: object"
      ]
     },
     "execution_count": 9,
     "metadata": {},
     "output_type": "execute_result"
    }
   ],
   "source": [
    "sample = os.listdir(path_reports)\n",
    "# converting to panda series because I find it easier to manipulate\n",
    "company_list = [word.split('.')[0] for word in sample]\n",
    "company_list = pd.Series(company_list)\n",
    "publisher_list = company_list.str.replace('-',' ') #so make it two words\n",
    "publisher_list = publisher_list.str.replace('ford motor', 'ford')\n",
    "publisher_list = publisher_list.str.replace('p&g', 'procter')\n",
    "publisher_list"
   ]
  },
  {
   "cell_type": "code",
   "execution_count": 10,
   "id": "355ae1a4-862b-4796-9272-82bb8016e86d",
   "metadata": {},
   "outputs": [],
   "source": [
    "names_list = publisher_list.tolist()"
   ]
  },
  {
   "cell_type": "code",
   "execution_count": 11,
   "id": "99072dfc-cdf5-4ea0-8d6f-f992fb73a196",
   "metadata": {},
   "outputs": [],
   "source": [
    "names_list.append('p&g')"
   ]
  },
  {
   "cell_type": "code",
   "execution_count": 12,
   "id": "e3a2edff-975e-455d-abc8-94464d95bc21",
   "metadata": {},
   "outputs": [
    {
     "data": {
      "text/plain": [
       "['abb',\n",
       " 'adidas',\n",
       " 'airbus',\n",
       " 'apple',\n",
       " 'bayer',\n",
       " 'beiersdorf',\n",
       " 'blackrock',\n",
       " 'bmw',\n",
       " 'boeing',\n",
       " 'cemex',\n",
       " 'chevron',\n",
       " 'chipotle',\n",
       " 'citi',\n",
       " 'coca cola',\n",
       " 'colgate',\n",
       " 'danone',\n",
       " 'dell',\n",
       " 'dhl',\n",
       " 'diageo',\n",
       " 'dupont',\n",
       " 'edp',\n",
       " 'enel',\n",
       " 'eversource',\n",
       " 'exxon',\n",
       " 'ford',\n",
       " 'general mills',\n",
       " 'google',\n",
       " 'h&m',\n",
       " 'henkel',\n",
       " 'hershey',\n",
       " 'honda',\n",
       " 'hp',\n",
       " 'hyundai',\n",
       " 'ibm',\n",
       " 'inditex',\n",
       " 'intel',\n",
       " 'komatsu',\n",
       " 'linde',\n",
       " 'mcdonald',\n",
       " 'mercedes',\n",
       " 'microsoft',\n",
       " 'mitsubishi',\n",
       " 'mondelez',\n",
       " 'nestle',\n",
       " 'nextera',\n",
       " 'nike',\n",
       " 'procter',\n",
       " 'pepsico',\n",
       " 'ralph lauren',\n",
       " 'renault',\n",
       " 'rio tinto',\n",
       " 'schneider electric',\n",
       " 'shell',\n",
       " 'sonoco',\n",
       " 'starbucks',\n",
       " 'tesco',\n",
       " 'tesla',\n",
       " 'totalenergies',\n",
       " 'toyota',\n",
       " 'veolia',\n",
       " 'volkswagen',\n",
       " 'volvo',\n",
       " 'walmart',\n",
       " 'p&g']"
      ]
     },
     "execution_count": 12,
     "metadata": {},
     "output_type": "execute_result"
    }
   ],
   "source": [
    "names_list"
   ]
  },
  {
   "cell_type": "code",
   "execution_count": null,
   "id": "692530d8-9d18-4b3a-bf8e-5130b54b7924",
   "metadata": {},
   "outputs": [],
   "source": [
    "df_report = pd.read_csv(os.path.join(path_data,'report_sentences.csv'))\n",
    "df_pdf = pd.read_csv(os.path.join(path_data,'article_sentences_pdf.csv'))\n",
    "df_gnews = pd.read_csv(os.path.join(path_data,'article_sentences_gnews.csv'))\n",
    "df_article = pd.concat([df_pdf,df_gnews])"
   ]
  },
  {
   "cell_type": "code",
   "execution_count": null,
   "id": "fcda0dba-3d58-4022-8a28-96474f6d26b9",
   "metadata": {},
   "outputs": [],
   "source": [
    "df_article.shape"
   ]
  },
  {
   "cell_type": "code",
   "execution_count": null,
   "id": "96319692-6de7-4da7-b8f7-9f0e971f6a67",
   "metadata": {},
   "outputs": [],
   "source": [
    "df_report.shape"
   ]
  },
  {
   "cell_type": "code",
   "execution_count": null,
   "id": "25d091b4-3ac4-4c63-abbc-ec575afb358c",
   "metadata": {},
   "outputs": [],
   "source": [
    "df_article.drop_duplicates(subset = ['sentence'], inplace = True)\n",
    "df_article.reset_index(inplace = True, drop = True)"
   ]
  },
  {
   "cell_type": "code",
   "execution_count": null,
   "id": "2911fce1-3354-4143-a796-359d84444ba9",
   "metadata": {},
   "outputs": [],
   "source": [
    "## part of the extra step below\n",
    "#df_combined = pd.concat([df_article, df_report])"
   ]
  },
  {
   "cell_type": "code",
   "execution_count": null,
   "id": "6e2c7b79-0f2c-42e0-b143-34edec401a08",
   "metadata": {},
   "outputs": [],
   "source": [
    "sent_embedder = SentenceTransformer('all-MiniLM-L6-v2', device='cuda')"
   ]
  },
  {
   "cell_type": "code",
   "execution_count": null,
   "id": "b6497c87-a151-4b84-8695-4e33ee470344",
   "metadata": {},
   "outputs": [],
   "source": [
    "df_rep = df_report.copy()\n",
    "df_art = df_article.copy()"
   ]
  },
  {
   "cell_type": "code",
   "execution_count": null,
   "id": "56335fda-1d8b-4a04-8850-b3bf5bb46f21",
   "metadata": {},
   "outputs": [],
   "source": [
    "# function for generating embeddings (useful for testing out later):\n",
    "def gen_embeddings(df,model):\n",
    "    sentences = df['sentence'].tolist()\n",
    "    return model.encode(sentences)"
   ]
  },
  {
   "cell_type": "code",
   "execution_count": null,
   "id": "d500fb49-18ad-42cc-9814-d64b08b5f968",
   "metadata": {},
   "outputs": [],
   "source": [
    "%%time\n",
    "# creating embeddings for the report sentences and storing them in a new column\n",
    "df_rep['embeddings'] = list(gen_embeddings(df_rep,sent_embedder))"
   ]
  },
  {
   "cell_type": "code",
   "execution_count": null,
   "id": "93020e41-80e9-43a9-9d41-1b388da293c3",
   "metadata": {},
   "outputs": [],
   "source": [
    "%%time\n",
    "df_art['embeddings'] = list(gen_embeddings(df_art, sent_embedder))"
   ]
  },
  {
   "cell_type": "markdown",
   "id": "5ace169f-4bbd-444d-ad55-abe973a3c23a",
   "metadata": {},
   "source": [
    "- now we test out BERTopic \n",
    "- gonna try it with the overlapped sentence embeddings, non-overlapped?, and climateBERT + potentially FINbert\n",
    "- then we try to manipulate the different parameters - tuning?"
   ]
  },
  {
   "cell_type": "code",
   "execution_count": null,
   "id": "0032ee3f-81f7-4edf-9b38-e4c20c0e0fed",
   "metadata": {},
   "outputs": [],
   "source": [
    "df_rep.to_pickle(os.path.join(path_data,'rep.pkl'))\n",
    "df_art.to_pickle(os.path.join(path_data,'art.pkl'))\n",
    "# df_art = pd.read_pickle(os.path.join(path_data,'art.pkl'))\n",
    "# df_rep = pd.read_pickle(os.path.join(path_data,'rep.pkl'))"
   ]
  },
  {
   "cell_type": "code",
   "execution_count": null,
   "id": "923dca8d-1d86-4597-adac-f5e8bafaec2e",
   "metadata": {},
   "outputs": [],
   "source": [
    "# combining the two datasets in preparation for the clustering\n",
    "df_comb = pd.concat([df_art, df_rep])"
   ]
  },
  {
   "cell_type": "code",
   "execution_count": null,
   "id": "f1d17519-c150-43e7-92ca-4720535758f6",
   "metadata": {},
   "outputs": [],
   "source": [
    "df_comb.shape"
   ]
  },
  {
   "cell_type": "code",
   "execution_count": null,
   "id": "ea008cdf-1f8f-4e37-8371-269067cf24d7",
   "metadata": {},
   "outputs": [],
   "source": [
    "df_comb['char_length'] = df_comb['sentence'].apply(lambda x: len(x))"
   ]
  },
  {
   "cell_type": "code",
   "execution_count": null,
   "id": "1d46f357-e79b-471c-9aed-6754136064dd",
   "metadata": {},
   "outputs": [],
   "source": [
    "df_comb = df_comb[(df_comb['char_length'] > 20)]\n",
    "df_comb.shape"
   ]
  },
  {
   "cell_type": "code",
   "execution_count": null,
   "id": "4770787c-fe40-4924-9c74-b4076669bb89",
   "metadata": {},
   "outputs": [],
   "source": [
    "df_comb.drop_duplicates(subset = ['sentence'], inplace = True)\n",
    "df_comb.shape"
   ]
  },
  {
   "cell_type": "code",
   "execution_count": null,
   "id": "74046aa9-f291-4e3d-b578-7b43bfb7f0e8",
   "metadata": {},
   "outputs": [],
   "source": [
    "import re\n",
    "# Escaping the names_list for safe inclusion in the regular expression pattern\n",
    "escaped_names = [re.escape(name) for name in names_list]\n",
    "\n",
    "# Constructing the modified regular expression pattern\n",
    "pattern = r\"\\b(?:{})(?:'s)?\\b\".format(\"|\".join(escaped_names))\n",
    "\n",
    "# Replace company names with 'company' using the regular expression pattern\n",
    "df_comb['anon_sentence'] = df_comb['sentence'].str.replace(pattern, 'the company', case=False, regex=True)\n",
    "\n",
    "# Print the modified dataframe\n",
    "df_comb['anon_sentence'].values[200:260]"
   ]
  },
  {
   "cell_type": "code",
   "execution_count": null,
   "id": "1c83fb27-d222-4103-918d-e65122a51d4f",
   "metadata": {},
   "outputs": [],
   "source": [
    "df_comb.reset_index(inplace = True, drop = True)"
   ]
  },
  {
   "cell_type": "code",
   "execution_count": null,
   "id": "aedcac37-e2b2-4a48-90ca-dce38582619a",
   "metadata": {},
   "outputs": [],
   "source": [
    "# Load the sentence embeddings and doc types from the dataframe\n",
    "# embeddings = np.array(df_comb[\"embeddings\"].tolist())"
   ]
  },
  {
   "cell_type": "code",
   "execution_count": null,
   "id": "1d8df1c5-a0ad-4cf0-9ff8-3ebe6678da08",
   "metadata": {},
   "outputs": [],
   "source": [
    "# creating new embeddings based on the 'anonymized' sentences (without company names) - let's see how BERTopic handles it now\n",
    "df_comb['anon_embeddings'] = list(gen_embeddings(df_comb, sent_embedder))"
   ]
  },
  {
   "cell_type": "code",
   "execution_count": null,
   "id": "9a9baa3b-df70-4a6e-ac85-2cabd2a98fc0",
   "metadata": {},
   "outputs": [],
   "source": [
    "# df_comb = pd.read_pickle(os.path.join(path_data, 'comb.pkl'))\n",
    "# df_comb"
   ]
  },
  {
   "cell_type": "markdown",
   "id": "cffb6bcb-1277-4f87-a510-53acff14b84a",
   "metadata": {},
   "source": [
    "## Visualizations"
   ]
  },
  {
   "cell_type": "code",
   "execution_count": null,
   "id": "56bc0008-d22c-4ffa-a1e5-a04b554fe23a",
   "metadata": {},
   "outputs": [],
   "source": [
    "# Create a histogram of the word count\n",
    "plt.figure(figsize=(10,5))\n",
    "plt.hist(df_comb['word count'], bins=30, color='skyblue')\n",
    "plt.title('Word Count Distribution')\n",
    "plt.xlabel('Word Count')\n",
    "plt.ylabel('Frequency')\n",
    "plt.savefig('word_count_hist.png', dpi=300)\n",
    "\n",
    "plt.show()"
   ]
  },
  {
   "cell_type": "code",
   "execution_count": null,
   "id": "ffeff762-f793-4169-89ec-c89363b6d4b0",
   "metadata": {},
   "outputs": [],
   "source": [
    "# # Group the data by company, doc_type, and count the number of sentences\n",
    "# df_by_company_doc_type = df_comb.groupby(['company', 'doc_type'])['sentence'].count().reset_index()\n",
    "\n",
    "# # Pivot the dataframe to create separate columns for each doc_type\n",
    "# df_pivot = df_by_company_doc_type.pivot(index='company', columns='doc_type', values='sentence')\n",
    "\n",
    "# Create a line chart of the number of sentences by company and doc_type\n",
    "plt.figure(figsize=(20,5));\n",
    "df_pivot.plot.line(color=['red', 'blue'], marker='o', markersize=5)\n",
    "plt.title('Number of Sentences by Company and Doc Type')\n",
    "plt.xlabel('Company')\n",
    "plt.ylabel('Number of Sentences')\n",
    "plt.legend(title='Doc Type')\n",
    "\n",
    "# Save the plot as a PNG file\n",
    "plt.savefig('sentences_by_company_and_doc_type.png', dpi=300)\n",
    "plt.show()"
   ]
  },
  {
   "cell_type": "code",
   "execution_count": null,
   "id": "42ac6109-8785-44b1-a148-2416c2d4605b",
   "metadata": {},
   "outputs": [],
   "source": [
    "umap2d = UMAP(n_components = 2, init = 'random', random_state = 0)\n",
    "# umap3d = UMAP(n_components = 3, init = 'random', random_state = 0)\n",
    "\n",
    "proj_2d = umap2d.fit_transform(embeddings)\n",
    "# proj_3d = umap3d.fit_transform(embeddings)"
   ]
  },
  {
   "cell_type": "code",
   "execution_count": null,
   "id": "3bdea811-db05-40b2-8c00-3d2081a7b04a",
   "metadata": {},
   "outputs": [],
   "source": [
    "fig2d = px.scatter(\n",
    "    proj_2d, x = 0, y = 1, \n",
    "    color = df_comb.doc_type, labels = {'color': 'doc_type'},\n",
    "    width = 800, height = 500\n",
    ")\n",
    "# fig3d = px.scatter_3d(\n",
    "#     proj_3d, x = 0, y = 1, z = 2,\n",
    "#     color = df_comb.doc_type, labels = {'color': 'doc_type'}\n",
    "# )\n",
    "\n",
    "fig2d.show()\n",
    "# fig3d.show()"
   ]
  },
  {
   "cell_type": "code",
   "execution_count": null,
   "id": "bad3bdf6-6b13-4121-a42f-e8441e4eb219",
   "metadata": {},
   "outputs": [],
   "source": [
    "tsne2d = TSNE(n_components = 2, random_state = 0)\n",
    "tsne3d = TSNE(n_components = 3, random_state = 0)\n",
    "\n",
    "proj_2d_tsne = tsne2d.fit_transform(embeddings)\n",
    "proj_3d_tsne = tsne3d.fit_transform(embeddings)\n"
   ]
  },
  {
   "cell_type": "code",
   "execution_count": null,
   "id": "847810f8-0374-46da-89fd-f12e58234d0a",
   "metadata": {},
   "outputs": [],
   "source": [
    "fig2d_tsne = px.scatter(\n",
    "    proj_2d_tsne, x = 0, y = 1, \n",
    "    color = df_comb.doc_type, labels = {'color': 'doc_type'}\n",
    ")\n",
    "\n",
    "# fig3d_tsne = px.scatter_3d(\n",
    "#     proj_3d_tsne, x = 0, y = 1, z = 2,\n",
    "#     color = df_comb.doc_type, labels = {'color': 'doc_type'}\n",
    "# )\n",
    "\n",
    "fig2d_tsne.show()\n",
    "# fig3d_tsne.show()"
   ]
  },
  {
   "cell_type": "markdown",
   "id": "355bd75d-d026-4988-820c-5b9660e34db7",
   "metadata": {},
   "source": [
    "Based on the above visualizations, we can see that unlike Boelders, we do not require to overlap the sentence embeddings over each other, as there are not large semantic differences between the news articles and the reports. The jargon and language seems to be mostly the same, as such we can just use the original embeddings."
   ]
  },
  {
   "cell_type": "markdown",
   "id": "63e423ea-1959-488e-9a75-afa3cd5bcc74",
   "metadata": {},
   "source": [
    "## BERTopic Set-up"
   ]
  },
  {
   "cell_type": "markdown",
   "id": "f8813f8c-a8e0-4520-9028-ae3686624a86",
   "metadata": {},
   "source": [
    "### Testing UMAP parameters"
   ]
  },
  {
   "cell_type": "code",
   "execution_count": null,
   "id": "7dcab7cc-d14f-41b3-8b5e-e28c63d46e6b",
   "metadata": {},
   "outputs": [],
   "source": [
    "colors = df_comb['doc_type']\n",
    "c_map = {\n",
    "    'news': '#FAFF00',\n",
    "    'report': '#1C17FF'\n",
    "}\n",
    "colors = [c_map[x] for x in colors]\n",
    "len(colors)"
   ]
  },
  {
   "cell_type": "code",
   "execution_count": null,
   "id": "371c6704-f403-41cb-b27f-64b873b66afa",
   "metadata": {},
   "outputs": [],
   "source": [
    "fig, ax = plt.subplots(2, 3, figsize=(21, 10))\n",
    "nns = [5,10, 15, 30, 50, 100]\n",
    "#2, 3, 4\n",
    "i, j = 0, 0\n",
    "for n_neighbors in tqdm(nns):\n",
    "    fit = UMAP(n_neighbors=n_neighbors, random_state = 0)\n",
    "    u = fit.fit_transform(embeddings)\n",
    "    sns.scatterplot(x=u[:,0], y=u[:,1], ax=ax[j, i])\n",
    "    ax[j, i].set_title(f'n={n_neighbors}')\n",
    "    if i < 2: i += 1\n",
    "    else: i = 0; j += 1"
   ]
  },
  {
   "cell_type": "code",
   "execution_count": null,
   "id": "7a21e0ec-8ce5-4302-ae1e-6cdbb4f228d6",
   "metadata": {},
   "outputs": [],
   "source": [
    "fig.savefig('full_figure.png')"
   ]
  },
  {
   "cell_type": "code",
   "execution_count": null,
   "id": "19d32230-51a1-4f6b-85bb-ad7bfba805df",
   "metadata": {},
   "outputs": [],
   "source": [
    "fig, ax = plt.subplots(1, 2, figsize=(14, 14))\n",
    "nns = [3,4]\n",
    "#2, 3, 4\n",
    "i, j = 0, 0\n",
    "for n_neighbors in tqdm(nns):\n",
    "    fit = UMAP(n_neighbors=n_neighbors, random_state = 0)\n",
    "    u = fit.fit_transform(embeddings)\n",
    "    sns.scatterplot(x=u[:,0], y=u[:,1], c=colors, ax=ax[i])\n",
    "    ax[i].set_title(f'n={n_neighbors}')\n",
    "    i +=1"
   ]
  },
  {
   "cell_type": "code",
   "execution_count": null,
   "id": "60662f12-090c-4ddb-81e5-58293876f054",
   "metadata": {},
   "outputs": [],
   "source": [
    "fit = UMAP(n_neighbors=10, n_components=3, min_dist=0.0, init = 'random', metric = 'cosine', random_state = 0)\n",
    "u = fit.fit_transform(embeddings)\n",
    "\n",
    "# the lowest min distance finally creates some separation - what does increasing it do?"
   ]
  },
  {
   "cell_type": "code",
   "execution_count": null,
   "id": "98b52986-e5ce-4c91-850a-734c48564651",
   "metadata": {},
   "outputs": [],
   "source": [
    "fig = px.scatter_3d(\n",
    "    x=u[:,0], y=u[:,1], z=u[:,2],\n",
    "    color=df_comb.doc_type,\n",
    "    labels = {'color': 'doc_type'}\n",
    ")\n",
    "\n",
    "fig.show()"
   ]
  },
  {
   "cell_type": "code",
   "execution_count": null,
   "id": "accf2f5c-277f-4777-9c2c-e575c68b3d42",
   "metadata": {},
   "outputs": [],
   "source": [
    "# 2D representation\n",
    "fit2d = UMAP(n_neighbors=15, n_components=2, min_dist=0.0, init = 'random', metric = 'cosine', random_state = 0)\n",
    "u2d = fit2d.fit_transform(embeddings)\n",
    "\n",
    "fig2d = px.scatter(\n",
    "    x=u2d[:,0], y=u2d[:,1],\n",
    "    color=df_comb.doc_type,\n",
    "    labels = {'color': 'doc_type'},\n",
    "    width = 800, height = 500\n",
    ")\n",
    "\n",
    "fig2d.show()"
   ]
  },
  {
   "cell_type": "code",
   "execution_count": null,
   "id": "2351ecae-d341-4116-833a-0a0b8b194ddf",
   "metadata": {},
   "outputs": [],
   "source": [
    "# 2D representation\n",
    "fit2d = UMAP(n_neighbors=10, n_components=2, min_dist=0.0, init = 'random', metric = 'cosine', random_state = 0)\n",
    "u2d = fit2d.fit_transform(embeddings)\n",
    "\n",
    "fig2d = px.scatter(\n",
    "    x=u2d[:,0], y=u2d[:,1],\n",
    "    color=df_comb.doc_type,\n",
    "    labels = {'color': 'doc_type'},\n",
    "    width = 800, height = 500\n",
    ")\n",
    "\n",
    "fig2d.show()"
   ]
  },
  {
   "cell_type": "markdown",
   "id": "46c7cc98-2b9e-433d-9de1-17ee5af6d3cf",
   "metadata": {},
   "source": [
    "### Clustering with HDBSCAN"
   ]
  },
  {
   "cell_type": "code",
   "execution_count": null,
   "id": "016b8bb1-1339-476a-889f-ba735a606e41",
   "metadata": {},
   "outputs": [],
   "source": [
    "clusterer = HDBSCAN(min_cluster_size = 400)\n",
    "clusterer.fit(u)"
   ]
  },
  {
   "cell_type": "code",
   "execution_count": null,
   "id": "c9624a70-9da2-41c5-8ea5-5e0e14b027b6",
   "metadata": {},
   "outputs": [],
   "source": [
    "clusterer.condensed_tree_.plot(select_clusters=True)"
   ]
  },
  {
   "cell_type": "code",
   "execution_count": null,
   "id": "83f53f79-c800-49f8-b96c-0cbb6f263352",
   "metadata": {},
   "outputs": [],
   "source": [
    "clusterer = HDBSCAN(min_cluster_size = 400, min_samples = 50, metric = 'euclidean')\n",
    "clusterer.fit(u)\n",
    "clusterer.condensed_tree_.plot(select_clusters=True)"
   ]
  },
  {
   "cell_type": "markdown",
   "id": "7cf67447-517a-45ea-8d2f-711b30484235",
   "metadata": {},
   "source": [
    "## Running BERTopic"
   ]
  },
  {
   "cell_type": "code",
   "execution_count": 5,
   "id": "7a687351-7243-4fe1-b9b3-b7317a3e61d8",
   "metadata": {},
   "outputs": [],
   "source": [
    "docs = df_comb['anon_sentence']"
   ]
  },
  {
   "cell_type": "code",
   "execution_count": 6,
   "id": "1a16c092-c584-4202-b8ba-ca266dae939f",
   "metadata": {},
   "outputs": [],
   "source": [
    "embeddings = np.array(df_comb[\"anon_embeddings\"].tolist())"
   ]
  },
  {
   "cell_type": "code",
   "execution_count": 7,
   "id": "1f622186-8fd8-4537-ace5-8013d9bb516e",
   "metadata": {},
   "outputs": [],
   "source": [
    "# Reduce dimensionality of embeddings, this step is optional but much faster to perform iteratively:\n",
    "reduced_embeddings = UMAP(n_neighbors=10, n_components=2, min_dist=0.0,init = 'random', metric = 'cosine', random_state = 0).fit_transform(embeddings)"
   ]
  },
  {
   "cell_type": "code",
   "execution_count": 13,
   "id": "6a02a5b6-5f5c-444e-b983-702ce379d1cb",
   "metadata": {},
   "outputs": [],
   "source": [
    "# getting stopwords\n",
    "stopwords = list(stopwords.words('english')) + ['company','coca','cola'] + names_list"
   ]
  },
  {
   "cell_type": "code",
   "execution_count": 14,
   "id": "7aa25b91-b7da-424d-b01d-97d97535472b",
   "metadata": {},
   "outputs": [],
   "source": [
    "# customizing parts of the BERTopic pipeline\n",
    "# vectorizer\n",
    "vectorizer_model = CountVectorizer(stop_words = stopwords)\n",
    "\n",
    "# umap\n",
    "umap_model = UMAP(n_neighbors=10, n_components=5, min_dist=0.0, init = 'random', metric = 'cosine', random_state = 0)\n",
    "\n",
    "# hdbscan\n",
    "hdbscan_model = HDBSCAN(min_cluster_size = 200, metric='euclidean', prediction_data=True)\n",
    "# 200 has decent results\n",
    "# min_samples\n",
    "# diversity topic words\n",
    "representation_model = MaximalMarginalRelevance(diversity=0.5)"
   ]
  },
  {
   "cell_type": "code",
   "execution_count": null,
   "id": "e8f66707-5dfb-4224-85ac-f5c9e1815d2b",
   "metadata": {},
   "outputs": [],
   "source": [
    "topic_model = BERTopic(\n",
    "    embedding_model = sent_embedder,\n",
    "    vectorizer_model = vectorizer_model,\n",
    "    umap_model = umap_model,\n",
    "    hdbscan_model = hdbscan_model,\n",
    "    language=\"english\", \n",
    "    representation_model = representation_model, #diversify topic words\n",
    "    calculate_probabilities=True, \n",
    "    verbose=True, \n",
    "    #nr_topics = 'auto'\n",
    "    # min_topic_size = 50, \n",
    "    # n_gram_range = (1,2)\n",
    ")\n",
    "topics, probs = topic_model.fit_transform(docs, embeddings)"
   ]
  },
  {
   "cell_type": "code",
   "execution_count": null,
   "id": "5fc30793-3f1d-4d6f-b023-bd6923195b4c",
   "metadata": {},
   "outputs": [],
   "source": [
    "def find_highest_probability(array):\n",
    "    max_index = np.argmax(array)\n",
    "    max_prob = array[max_index]\n",
    "    return max_prob, max_index\n",
    "find_highest_probability(probs[10])"
   ]
  },
  {
   "cell_type": "code",
   "execution_count": null,
   "id": "50da5ca2-d32c-463a-899e-fd0313301b83",
   "metadata": {},
   "outputs": [],
   "source": [
    "topic_model.get_topic_info()[:60]"
   ]
  },
  {
   "cell_type": "code",
   "execution_count": null,
   "id": "894843b6-202f-4eae-9c1d-7d80c6c05754",
   "metadata": {},
   "outputs": [],
   "source": [
    "topic_model.get_topic_info()[:60]"
   ]
  },
  {
   "cell_type": "code",
   "execution_count": null,
   "id": "bc016d63-9a02-4d86-bf7d-e3a6e8adbb80",
   "metadata": {},
   "outputs": [],
   "source": [
    "topic_model.visualize_barchart(top_n_topics=10, n_words = 10, height = 400)"
   ]
  },
  {
   "cell_type": "code",
   "execution_count": null,
   "id": "666fd09c-89c4-4fef-ae01-8841b8e4f534",
   "metadata": {},
   "outputs": [],
   "source": [
    "topic_model.visualize_documents(docs, reduced_embeddings=reduced_embeddings, \n",
    "                                hide_document_hover=True, hide_annotations=True)"
   ]
  },
  {
   "cell_type": "markdown",
   "id": "90449b79-05b6-44b3-ae2f-6fb189807cce",
   "metadata": {},
   "source": [
    "## Topic Reduction"
   ]
  },
  {
   "cell_type": "code",
   "execution_count": null,
   "id": "9c6d8786-5201-4944-90ba-a140cca6796a",
   "metadata": {},
   "outputs": [],
   "source": [
    "hierarchical_topics = topic_model.hierarchical_topics(docs)"
   ]
  },
  {
   "cell_type": "code",
   "execution_count": null,
   "id": "9cfe892a-cac4-4bf3-8e7f-f299f9963c55",
   "metadata": {},
   "outputs": [],
   "source": [
    "topic_model.get_topic(26)"
   ]
  },
  {
   "cell_type": "code",
   "execution_count": null,
   "id": "3c09d4aa-a0ff-462d-99cb-dde39d500c4d",
   "metadata": {},
   "outputs": [],
   "source": [
    "topic_model.get_representative_docs(26)"
   ]
  },
  {
   "cell_type": "code",
   "execution_count": null,
   "id": "eb9f081f-4fd8-4494-849e-16c5e1dab71f",
   "metadata": {},
   "outputs": [],
   "source": [
    ">>> tree = topic_model.get_topic_tree(hierarchical_topics)\n",
    ">>> print(tree)\n",
    "\n",
    "# saf stands for sustainabile aviation fuel - together with topic 13 talks about the opportunities for sustainable fuel to reduce mostly emissions - can call it something like sustainable transportation? with dhl"
   ]
  },
  {
   "cell_type": "code",
   "execution_count": null,
   "id": "f3188162-c906-4b18-94c4-4a86e890f527",
   "metadata": {},
   "outputs": [],
   "source": [
    "topic_model.visualize_hierarchical_documents(docs, hierarchical_topics, reduced_embeddings=reduced_embeddings)"
   ]
  },
  {
   "cell_type": "code",
   "execution_count": null,
   "id": "b7519f6f-a5eb-4a61-a381-b2b7c9e93c62",
   "metadata": {},
   "outputs": [],
   "source": [
    "# Now reduction of topics - we will merge them manually based ont he above visualizations\n",
    "topics_to_merge = [\n",
    "    [20,33,3,14], #plastic packaging and recycling\n",
    "    [12,4,7,51,60,24,59,30], #recycling, more focus on circular economy other than just plastic - include 59? (printing), 32 (sustainable materials/sourcing?)\n",
    "    [58,56,35,21,13], #regenerative agriculture/sustainable agriculture\n",
    "    [8,23,27], #water, biodiversity, deforestation - could be called nature preservation\n",
    "    [43,16], #sustainability (tech) innovation\n",
    "    #[5,28], #climate change\n",
    "    [1,6,17,22], #sustainable leadership/governance?\n",
    "    [29,11,25,19], #sustainable fuels/transportations\n",
    "    [39,40,2,15,53,61,45,47,30,32], #decarbonisation,emission reductions - include 47? (air pollution), 30? (chemical substances)\n",
    "    [18,34,46]#EV's\n",
    "] \n",
    "topic_model.merge_topics(docs, topics_to_merge)"
   ]
  },
  {
   "cell_type": "code",
   "execution_count": null,
   "id": "f4a49939-df08-4eff-9917-586663c2a62c",
   "metadata": {},
   "outputs": [],
   "source": [
    "topic_model.get_topic_info()"
   ]
  },
  {
   "cell_type": "code",
   "execution_count": null,
   "id": "c58f6466-28e1-410e-a508-4b1d43742281",
   "metadata": {},
   "outputs": [],
   "source": [
    "topic_model.get_representative_docs(25)"
   ]
  },
  {
   "cell_type": "markdown",
   "id": "077c5474-3acc-493d-b185-c69d711925db",
   "metadata": {},
   "source": [
    "## Outlier Reduction"
   ]
  },
  {
   "cell_type": "code",
   "execution_count": null,
   "id": "550f6bd4-b06c-4f29-9d46-03073c219817",
   "metadata": {},
   "outputs": [],
   "source": [
    "df_comb = pd.read_pickle(os.path.join(path_data,'comb.pkl'))"
   ]
  },
  {
   "cell_type": "code",
   "execution_count": null,
   "id": "4551ae6f-026a-4b14-abab-f425a5af6d7f",
   "metadata": {},
   "outputs": [],
   "source": [
    "topic_model.save('merged_model')"
   ]
  },
  {
   "cell_type": "code",
   "execution_count": 15,
   "id": "a3fe7235-0a9f-48e4-a709-23325af71973",
   "metadata": {},
   "outputs": [],
   "source": [
    "topic_model = BERTopic.load('merged_model')"
   ]
  },
  {
   "cell_type": "code",
   "execution_count": 16,
   "id": "f904cdcd-bbbb-4870-9b13-4620f99020c0",
   "metadata": {},
   "outputs": [],
   "source": [
    "topics = topic_model.topics_\n",
    "probs = topic_model.probabilities_"
   ]
  },
  {
   "cell_type": "code",
   "execution_count": 20,
   "id": "5beb4ff8-5c53-4f2b-8900-5c5dc5692954",
   "metadata": {},
   "outputs": [
    {
     "data": {
      "text/html": [
       "<div>\n",
       "<style scoped>\n",
       "    .dataframe tbody tr th:only-of-type {\n",
       "        vertical-align: middle;\n",
       "    }\n",
       "\n",
       "    .dataframe tbody tr th {\n",
       "        vertical-align: top;\n",
       "    }\n",
       "\n",
       "    .dataframe thead th {\n",
       "        text-align: right;\n",
       "    }\n",
       "</style>\n",
       "<table border=\"1\" class=\"dataframe\">\n",
       "  <thead>\n",
       "    <tr style=\"text-align: right;\">\n",
       "      <th></th>\n",
       "      <th>Topic</th>\n",
       "      <th>Count</th>\n",
       "      <th>Name</th>\n",
       "    </tr>\n",
       "  </thead>\n",
       "  <tbody>\n",
       "    <tr>\n",
       "      <th>0</th>\n",
       "      <td>-1</td>\n",
       "      <td>64123</td>\n",
       "      <td>-1_emissions_sustainability_2021_climate</td>\n",
       "    </tr>\n",
       "    <tr>\n",
       "      <th>1</th>\n",
       "      <td>0</td>\n",
       "      <td>12313</td>\n",
       "      <td>0_sustainability_esg_strategy_impact</td>\n",
       "    </tr>\n",
       "    <tr>\n",
       "      <th>2</th>\n",
       "      <td>1</td>\n",
       "      <td>10383</td>\n",
       "      <td>1_offshore_mw_renewables_farm</td>\n",
       "    </tr>\n",
       "    <tr>\n",
       "      <th>3</th>\n",
       "      <td>2</td>\n",
       "      <td>10170</td>\n",
       "      <td>2_waste_recycling_circular_batteries</td>\n",
       "    </tr>\n",
       "    <tr>\n",
       "      <th>4</th>\n",
       "      <td>3</td>\n",
       "      <td>9618</td>\n",
       "      <td>3_emissions_scope_co2_ghg</td>\n",
       "    </tr>\n",
       "    <tr>\n",
       "      <th>5</th>\n",
       "      <td>4</td>\n",
       "      <td>7813</td>\n",
       "      <td>4_plastic_packaging_cola_bottles</td>\n",
       "    </tr>\n",
       "    <tr>\n",
       "      <th>6</th>\n",
       "      <td>5</td>\n",
       "      <td>4684</td>\n",
       "      <td>5_biodiversity_conservation_wastewater_forests</td>\n",
       "    </tr>\n",
       "    <tr>\n",
       "      <th>7</th>\n",
       "      <td>6</td>\n",
       "      <td>4105</td>\n",
       "      <td>6_hydrogen_saf_fuels_cell</td>\n",
       "    </tr>\n",
       "    <tr>\n",
       "      <th>8</th>\n",
       "      <td>7</td>\n",
       "      <td>3875</td>\n",
       "      <td>7_climate_change_risks_global</td>\n",
       "    </tr>\n",
       "    <tr>\n",
       "      <th>9</th>\n",
       "      <td>8</td>\n",
       "      <td>3494</td>\n",
       "      <td>8_cocoa_agriculture_regenerative_methane</td>\n",
       "    </tr>\n",
       "    <tr>\n",
       "      <th>10</th>\n",
       "      <td>9</td>\n",
       "      <td>2499</td>\n",
       "      <td>9_watch_pixel_devices_ipad</td>\n",
       "    </tr>\n",
       "    <tr>\n",
       "      <th>11</th>\n",
       "      <td>10</td>\n",
       "      <td>2140</td>\n",
       "      <td>10_charging_ev_trucks_stations</td>\n",
       "    </tr>\n",
       "    <tr>\n",
       "      <th>12</th>\n",
       "      <td>11</td>\n",
       "      <td>1900</td>\n",
       "      <td>11_billion_shares_earnings_euros</td>\n",
       "    </tr>\n",
       "    <tr>\n",
       "      <th>13</th>\n",
       "      <td>12</td>\n",
       "      <td>1787</td>\n",
       "      <td>12_cloud_data_ai_azure</td>\n",
       "    </tr>\n",
       "    <tr>\n",
       "      <th>14</th>\n",
       "      <td>13</td>\n",
       "      <td>715</td>\n",
       "      <td>13_declined_never_requests_disclose</td>\n",
       "    </tr>\n",
       "    <tr>\n",
       "      <th>15</th>\n",
       "      <td>14</td>\n",
       "      <td>657</td>\n",
       "      <td>14_case_federal_supreme_lawsuits</td>\n",
       "    </tr>\n",
       "    <tr>\n",
       "      <th>16</th>\n",
       "      <td>15</td>\n",
       "      <td>558</td>\n",
       "      <td>15_twitter_newsletter_follow_inbox</td>\n",
       "    </tr>\n",
       "    <tr>\n",
       "      <th>17</th>\n",
       "      <td>16</td>\n",
       "      <td>478</td>\n",
       "      <td>16_rear_seats_safety_drivers</td>\n",
       "    </tr>\n",
       "    <tr>\n",
       "      <th>18</th>\n",
       "      <td>17</td>\n",
       "      <td>462</td>\n",
       "      <td>17_countries_employs_jobs_workers</td>\n",
       "    </tr>\n",
       "    <tr>\n",
       "      <th>19</th>\n",
       "      <td>18</td>\n",
       "      <td>401</td>\n",
       "      <td>18_2023_construction_operational_facility</td>\n",
       "    </tr>\n",
       "    <tr>\n",
       "      <th>20</th>\n",
       "      <td>19</td>\n",
       "      <td>371</td>\n",
       "      <td>19_covid_pandemic_challenges_global</td>\n",
       "    </tr>\n",
       "    <tr>\n",
       "      <th>21</th>\n",
       "      <td>20</td>\n",
       "      <td>351</td>\n",
       "      <td>20_greenwashing_greenpeace_misleading_complaint</td>\n",
       "    </tr>\n",
       "    <tr>\n",
       "      <th>22</th>\n",
       "      <td>21</td>\n",
       "      <td>329</td>\n",
       "      <td>21_diversity_inclusion_female_equality</td>\n",
       "    </tr>\n",
       "    <tr>\n",
       "      <th>23</th>\n",
       "      <td>22</td>\n",
       "      <td>290</td>\n",
       "      <td>22_tunnel_formula_wind_red</td>\n",
       "    </tr>\n",
       "    <tr>\n",
       "      <th>24</th>\n",
       "      <td>23</td>\n",
       "      <td>263</td>\n",
       "      <td>23_risks_opportunities_impact_mitigation</td>\n",
       "    </tr>\n",
       "    <tr>\n",
       "      <th>25</th>\n",
       "      <td>24</td>\n",
       "      <td>255</td>\n",
       "      <td>24_bonds_sustainability_issued_billion</td>\n",
       "    </tr>\n",
       "    <tr>\n",
       "      <th>26</th>\n",
       "      <td>25</td>\n",
       "      <td>249</td>\n",
       "      <td>25_reporting_bengaluru_waldersee_potter</td>\n",
       "    </tr>\n",
       "    <tr>\n",
       "      <th>27</th>\n",
       "      <td>26</td>\n",
       "      <td>228</td>\n",
       "      <td>26_automotive_bentley_lamborghini_audi</td>\n",
       "    </tr>\n",
       "    <tr>\n",
       "      <th>28</th>\n",
       "      <td>27</td>\n",
       "      <td>223</td>\n",
       "      <td>27_repairability_devices_iphone_products</td>\n",
       "    </tr>\n",
       "    <tr>\n",
       "      <th>29</th>\n",
       "      <td>28</td>\n",
       "      <td>215</td>\n",
       "      <td>28_awards_design_sustainability_received</td>\n",
       "    </tr>\n",
       "  </tbody>\n",
       "</table>\n",
       "</div>"
      ],
      "text/plain": [
       "    Topic  Count                                             Name\n",
       "0      -1  64123         -1_emissions_sustainability_2021_climate\n",
       "1       0  12313             0_sustainability_esg_strategy_impact\n",
       "2       1  10383                    1_offshore_mw_renewables_farm\n",
       "3       2  10170             2_waste_recycling_circular_batteries\n",
       "4       3   9618                        3_emissions_scope_co2_ghg\n",
       "5       4   7813                 4_plastic_packaging_cola_bottles\n",
       "6       5   4684   5_biodiversity_conservation_wastewater_forests\n",
       "7       6   4105                        6_hydrogen_saf_fuels_cell\n",
       "8       7   3875                    7_climate_change_risks_global\n",
       "9       8   3494         8_cocoa_agriculture_regenerative_methane\n",
       "10      9   2499                       9_watch_pixel_devices_ipad\n",
       "11     10   2140                   10_charging_ev_trucks_stations\n",
       "12     11   1900                 11_billion_shares_earnings_euros\n",
       "13     12   1787                           12_cloud_data_ai_azure\n",
       "14     13    715              13_declined_never_requests_disclose\n",
       "15     14    657                 14_case_federal_supreme_lawsuits\n",
       "16     15    558               15_twitter_newsletter_follow_inbox\n",
       "17     16    478                     16_rear_seats_safety_drivers\n",
       "18     17    462                17_countries_employs_jobs_workers\n",
       "19     18    401        18_2023_construction_operational_facility\n",
       "20     19    371              19_covid_pandemic_challenges_global\n",
       "21     20    351  20_greenwashing_greenpeace_misleading_complaint\n",
       "22     21    329           21_diversity_inclusion_female_equality\n",
       "23     22    290                       22_tunnel_formula_wind_red\n",
       "24     23    263         23_risks_opportunities_impact_mitigation\n",
       "25     24    255           24_bonds_sustainability_issued_billion\n",
       "26     25    249          25_reporting_bengaluru_waldersee_potter\n",
       "27     26    228           26_automotive_bentley_lamborghini_audi\n",
       "28     27    223         27_repairability_devices_iphone_products\n",
       "29     28    215         28_awards_design_sustainability_received"
      ]
     },
     "execution_count": 20,
     "metadata": {},
     "output_type": "execute_result"
    }
   ],
   "source": [
    "topic_model.get_topic_info()"
   ]
  },
  {
   "cell_type": "code",
   "execution_count": 17,
   "id": "901c90f9-0eed-4689-bd12-88063a379f7c",
   "metadata": {},
   "outputs": [
    {
     "name": "stderr",
     "output_type": "stream",
     "text": [
      "100%|██████████████████████████████████████████████████████████████████████████████████| 65/65 [00:13<00:00,  4.77it/s]\n"
     ]
    },
    {
     "name": "stdout",
     "output_type": "stream",
     "text": [
      "CPU times: total: 6.64 s\n",
      "Wall time: 14.4 s\n"
     ]
    }
   ],
   "source": [
    "%%time\n",
    "#new_topics_probs = topic_model.reduce_outliers(docs, topics, probabilities=probs, strategy=\"probabilities\")\n",
    "#new_topics_tfidf = topic_model.reduce_outliers(docs, topics, strategy=\"c-tf-idf\", threshold = 0.1)\n",
    "new_topics_dist = topic_model.reduce_outliers(docs, topics, strategy = \"distributions\", threshold = 0.08)"
   ]
  },
  {
   "cell_type": "code",
   "execution_count": null,
   "id": "f7699c61-0acf-4549-8683-5940e1b7f447",
   "metadata": {},
   "outputs": [],
   "source": [
    "new_topics_embed = topic_model.reduce_outliers(docs, topics, strategy = \"embeddings\", threshold = 0.23)"
   ]
  },
  {
   "cell_type": "markdown",
   "id": "fd4994b2-d008-4638-8595-a7d59661d6bc",
   "metadata": {
    "jp-MarkdownHeadingCollapsed": true,
    "tags": []
   },
   "source": [
    "### HDBSCAN Probabilities"
   ]
  },
  {
   "cell_type": "code",
   "execution_count": null,
   "id": "83460554-3680-464b-8706-8145921cda5e",
   "metadata": {},
   "outputs": [],
   "source": [
    "topic_model.update_topics(docs, topics=new_topics_probs, vectorizer_model = vectorizer_model, representation_model = representation_model)\n",
    "topic_model.visualize_documents(docs, reduced_embeddings=reduced_embeddings, \n",
    "                                hide_document_hover=True, hide_annotations=True)"
   ]
  },
  {
   "cell_type": "code",
   "execution_count": null,
   "id": "89aea070-332e-43b2-adf9-8c73a2793985",
   "metadata": {},
   "outputs": [],
   "source": [
    "topic_model.get_topic_info()"
   ]
  },
  {
   "cell_type": "markdown",
   "id": "3a6f37f7-2bff-4bcb-8bd7-fffd1cf7ee95",
   "metadata": {
    "jp-MarkdownHeadingCollapsed": true,
    "tags": []
   },
   "source": [
    "### C-TF-IDF similarity"
   ]
  },
  {
   "cell_type": "code",
   "execution_count": null,
   "id": "fb594d73-ce64-44bc-be25-a1a56f74dff6",
   "metadata": {},
   "outputs": [],
   "source": [
    "topic_model.update_topics(docs, topics=new_topics_tfidf, vectorizer_model = vectorizer_model, representation_model = representation_model)\n",
    "topic_model.visualize_documents(docs, reduced_embeddings=reduced_embeddings, \n",
    "                                hide_document_hover=True, hide_annotations=True)"
   ]
  },
  {
   "cell_type": "code",
   "execution_count": null,
   "id": "a1e3d9e4-71ff-4880-bbd9-3af1e5844355",
   "metadata": {},
   "outputs": [],
   "source": [
    "topic_model.get_topic_info()"
   ]
  },
  {
   "cell_type": "markdown",
   "id": "3b32d04f-ad46-4a2b-9949-89da9a627913",
   "metadata": {},
   "source": [
    "### Using topic distributions"
   ]
  },
  {
   "cell_type": "code",
   "execution_count": 25,
   "id": "942cd05c-614c-473a-8d1d-8dc0f413beec",
   "metadata": {},
   "outputs": [
    {
     "data": {
      "text/plain": [
       "(144949, 9)"
      ]
     },
     "execution_count": 25,
     "metadata": {},
     "output_type": "execute_result"
    }
   ],
   "source": [
    "df_comb.shape"
   ]
  },
  {
   "cell_type": "code",
   "execution_count": null,
   "id": "95cebdc0-be9e-43e1-87ed-c53640f53556",
   "metadata": {},
   "outputs": [],
   "source": [
    "topic_model.update_topics(docs, topics=new_topics_dist, vectorizer_model = vectorizer_model, representation_model = representation_model) #  representation_model = representation_model\n",
    "topic_model.visualize_documents(docs, reduced_embeddings=reduced_embeddings, \n",
    "                                hide_document_hover=True, hide_annotations=True)"
   ]
  },
  {
   "cell_type": "code",
   "execution_count": 22,
   "id": "dbbf5fbd-a500-4eb7-9fe4-db2765c751cf",
   "metadata": {},
   "outputs": [
    {
     "data": {
      "text/html": [
       "<div>\n",
       "<style scoped>\n",
       "    .dataframe tbody tr th:only-of-type {\n",
       "        vertical-align: middle;\n",
       "    }\n",
       "\n",
       "    .dataframe tbody tr th {\n",
       "        vertical-align: top;\n",
       "    }\n",
       "\n",
       "    .dataframe thead th {\n",
       "        text-align: right;\n",
       "    }\n",
       "</style>\n",
       "<table border=\"1\" class=\"dataframe\">\n",
       "  <thead>\n",
       "    <tr style=\"text-align: right;\">\n",
       "      <th></th>\n",
       "      <th>Topic</th>\n",
       "      <th>Count</th>\n",
       "      <th>Name</th>\n",
       "    </tr>\n",
       "  </thead>\n",
       "  <tbody>\n",
       "    <tr>\n",
       "      <th>0</th>\n",
       "      <td>-1</td>\n",
       "      <td>15018</td>\n",
       "      <td>-1_de_new_oil_process</td>\n",
       "    </tr>\n",
       "    <tr>\n",
       "      <th>1</th>\n",
       "      <td>0</td>\n",
       "      <td>17687</td>\n",
       "      <td>0_sustainability_esg_impact_strategy</td>\n",
       "    </tr>\n",
       "    <tr>\n",
       "      <th>2</th>\n",
       "      <td>1</td>\n",
       "      <td>13164</td>\n",
       "      <td>1_offshore_projects_renewables_storage</td>\n",
       "    </tr>\n",
       "    <tr>\n",
       "      <th>3</th>\n",
       "      <td>2</td>\n",
       "      <td>13283</td>\n",
       "      <td>2_waste_recycling_circular_made</td>\n",
       "    </tr>\n",
       "    <tr>\n",
       "      <th>4</th>\n",
       "      <td>3</td>\n",
       "      <td>14038</td>\n",
       "      <td>3_emissions_scope_co2_reduce</td>\n",
       "    </tr>\n",
       "    <tr>\n",
       "      <th>5</th>\n",
       "      <td>4</td>\n",
       "      <td>10044</td>\n",
       "      <td>4_plastic_packaging_bottles_reusable</td>\n",
       "    </tr>\n",
       "    <tr>\n",
       "      <th>6</th>\n",
       "      <td>5</td>\n",
       "      <td>5597</td>\n",
       "      <td>5_biodiversity_conservation_deforestation_areas</td>\n",
       "    </tr>\n",
       "    <tr>\n",
       "      <th>7</th>\n",
       "      <td>6</td>\n",
       "      <td>5243</td>\n",
       "      <td>6_saf_fuels_sustainable_cell</td>\n",
       "    </tr>\n",
       "    <tr>\n",
       "      <th>8</th>\n",
       "      <td>7</td>\n",
       "      <td>6109</td>\n",
       "      <td>7_climate_global_risks_paris</td>\n",
       "    </tr>\n",
       "    <tr>\n",
       "      <th>9</th>\n",
       "      <td>8</td>\n",
       "      <td>5027</td>\n",
       "      <td>8_cocoa_agriculture_regenerative_practices</td>\n",
       "    </tr>\n",
       "    <tr>\n",
       "      <th>10</th>\n",
       "      <td>9</td>\n",
       "      <td>3605</td>\n",
       "      <td>9_devices_watch_pixel_ipad</td>\n",
       "    </tr>\n",
       "    <tr>\n",
       "      <th>11</th>\n",
       "      <td>10</td>\n",
       "      <td>4494</td>\n",
       "      <td>10_charging_ev_hybrid_truck</td>\n",
       "    </tr>\n",
       "    <tr>\n",
       "      <th>12</th>\n",
       "      <td>11</td>\n",
       "      <td>5052</td>\n",
       "      <td>11_billion_market_2021_growth</td>\n",
       "    </tr>\n",
       "    <tr>\n",
       "      <th>13</th>\n",
       "      <td>12</td>\n",
       "      <td>3984</td>\n",
       "      <td>12_cloud_digital_ai_services</td>\n",
       "    </tr>\n",
       "    <tr>\n",
       "      <th>14</th>\n",
       "      <td>13</td>\n",
       "      <td>1706</td>\n",
       "      <td>13_comment_declined_never_investment</td>\n",
       "    </tr>\n",
       "    <tr>\n",
       "      <th>15</th>\n",
       "      <td>14</td>\n",
       "      <td>1894</td>\n",
       "      <td>14_federal_oil_lawsuits_district</td>\n",
       "    </tr>\n",
       "    <tr>\n",
       "      <th>16</th>\n",
       "      <td>15</td>\n",
       "      <td>1959</td>\n",
       "      <td>15_twitter_follow_newsletter_free</td>\n",
       "    </tr>\n",
       "    <tr>\n",
       "      <th>17</th>\n",
       "      <td>16</td>\n",
       "      <td>1529</td>\n",
       "      <td>16_safety_front_system_drivers</td>\n",
       "    </tr>\n",
       "    <tr>\n",
       "      <th>18</th>\n",
       "      <td>17</td>\n",
       "      <td>3040</td>\n",
       "      <td>17_employees_europe_across_100</td>\n",
       "    </tr>\n",
       "    <tr>\n",
       "      <th>19</th>\n",
       "      <td>18</td>\n",
       "      <td>3201</td>\n",
       "      <td>18_2022_production_years_operational</td>\n",
       "    </tr>\n",
       "    <tr>\n",
       "      <th>20</th>\n",
       "      <td>19</td>\n",
       "      <td>622</td>\n",
       "      <td>19_pandemic_coronavirus_health_2021</td>\n",
       "    </tr>\n",
       "    <tr>\n",
       "      <th>21</th>\n",
       "      <td>20</td>\n",
       "      <td>609</td>\n",
       "      <td>20_misleading_greenpeace_greenwash_environment...</td>\n",
       "    </tr>\n",
       "    <tr>\n",
       "      <th>22</th>\n",
       "      <td>21</td>\n",
       "      <td>744</td>\n",
       "      <td>21_women_diversity_inclusion_equity</td>\n",
       "    </tr>\n",
       "    <tr>\n",
       "      <th>23</th>\n",
       "      <td>22</td>\n",
       "      <td>1079</td>\n",
       "      <td>22_tunnel_race_f1_allowed</td>\n",
       "    </tr>\n",
       "    <tr>\n",
       "      <th>24</th>\n",
       "      <td>23</td>\n",
       "      <td>1583</td>\n",
       "      <td>23_risks_management_assessment_statements</td>\n",
       "    </tr>\n",
       "    <tr>\n",
       "      <th>25</th>\n",
       "      <td>24</td>\n",
       "      <td>930</td>\n",
       "      <td>24_green_bonds_issued_sustainability</td>\n",
       "    </tr>\n",
       "    <tr>\n",
       "      <th>26</th>\n",
       "      <td>25</td>\n",
       "      <td>646</td>\n",
       "      <td>25_bengaluru_financial_sustainability_gri</td>\n",
       "    </tr>\n",
       "    <tr>\n",
       "      <th>27</th>\n",
       "      <td>26</td>\n",
       "      <td>1702</td>\n",
       "      <td>26_automotive_india_vans_first</td>\n",
       "    </tr>\n",
       "    <tr>\n",
       "      <th>28</th>\n",
       "      <td>27</td>\n",
       "      <td>809</td>\n",
       "      <td>27_products_customers_also_spare</td>\n",
       "    </tr>\n",
       "    <tr>\n",
       "      <th>29</th>\n",
       "      <td>28</td>\n",
       "      <td>551</td>\n",
       "      <td>28_awards_design_received_sustainability</td>\n",
       "    </tr>\n",
       "  </tbody>\n",
       "</table>\n",
       "</div>"
      ],
      "text/plain": [
       "    Topic  Count                                               Name\n",
       "0      -1  15018                              -1_de_new_oil_process\n",
       "1       0  17687               0_sustainability_esg_impact_strategy\n",
       "2       1  13164             1_offshore_projects_renewables_storage\n",
       "3       2  13283                    2_waste_recycling_circular_made\n",
       "4       3  14038                       3_emissions_scope_co2_reduce\n",
       "5       4  10044               4_plastic_packaging_bottles_reusable\n",
       "6       5   5597    5_biodiversity_conservation_deforestation_areas\n",
       "7       6   5243                       6_saf_fuels_sustainable_cell\n",
       "8       7   6109                       7_climate_global_risks_paris\n",
       "9       8   5027         8_cocoa_agriculture_regenerative_practices\n",
       "10      9   3605                         9_devices_watch_pixel_ipad\n",
       "11     10   4494                        10_charging_ev_hybrid_truck\n",
       "12     11   5052                      11_billion_market_2021_growth\n",
       "13     12   3984                       12_cloud_digital_ai_services\n",
       "14     13   1706               13_comment_declined_never_investment\n",
       "15     14   1894                   14_federal_oil_lawsuits_district\n",
       "16     15   1959                  15_twitter_follow_newsletter_free\n",
       "17     16   1529                     16_safety_front_system_drivers\n",
       "18     17   3040                     17_employees_europe_across_100\n",
       "19     18   3201               18_2022_production_years_operational\n",
       "20     19    622                19_pandemic_coronavirus_health_2021\n",
       "21     20    609  20_misleading_greenpeace_greenwash_environment...\n",
       "22     21    744                21_women_diversity_inclusion_equity\n",
       "23     22   1079                          22_tunnel_race_f1_allowed\n",
       "24     23   1583          23_risks_management_assessment_statements\n",
       "25     24    930               24_green_bonds_issued_sustainability\n",
       "26     25    646          25_bengaluru_financial_sustainability_gri\n",
       "27     26   1702                     26_automotive_india_vans_first\n",
       "28     27    809                   27_products_customers_also_spare\n",
       "29     28    551           28_awards_design_received_sustainability"
      ]
     },
     "execution_count": 22,
     "metadata": {},
     "output_type": "execute_result"
    }
   ],
   "source": [
    "topic_model.get_topic_info()"
   ]
  },
  {
   "cell_type": "code",
   "execution_count": null,
   "id": "906dc33f-e165-4e19-83f6-37f5995dc7fc",
   "metadata": {},
   "outputs": [],
   "source": [
    "# topic_model.set_topic_labels({0: \"ESG governance\", 1: \"Renewable Energy\", 2: \"Waste Management\", 3: \"Emission Reduction\", 4: \"Plastics Recyling\", 5: \"Nature Preservation\", 6:\"Sustainable Transportation\", 7: \"Climate Change\", 8: \"Sustainable Agriculture\", 9: \"Stocks\",\n",
    "#                              10: \"Electrical Vehicles\", 12:\"Sustainable Innovation\", 14:\"No Comment\", })"
   ]
  },
  {
   "cell_type": "code",
   "execution_count": null,
   "id": "4cbbf7cd-5973-4f2d-b9f5-97e90c6e5852",
   "metadata": {},
   "outputs": [],
   "source": [
    "topics = topic_model.topics_\n",
    "df_comb['topics'] = topics"
   ]
  },
  {
   "cell_type": "code",
   "execution_count": null,
   "id": "67418075-d252-4b46-83bd-4a544f5b5466",
   "metadata": {},
   "outputs": [],
   "source": [
    "df_comb.to_pickle(os.path.join(path_data,'comb.pkl'))"
   ]
  },
  {
   "cell_type": "code",
   "execution_count": null,
   "id": "9c23d6dd-17a6-4fd5-a86f-ff258a1b791e",
   "metadata": {
    "tags": []
   },
   "outputs": [],
   "source": [
    "df_comb['topics'].value_counts()"
   ]
  },
  {
   "cell_type": "code",
   "execution_count": null,
   "id": "7ff80f74-f78a-488c-b34d-042953613b30",
   "metadata": {
    "tags": []
   },
   "outputs": [],
   "source": [
    "list(df_comb[df_comb['topics'] == 27]['anon_sentence'].values)"
   ]
  },
  {
   "cell_type": "code",
   "execution_count": 23,
   "id": "f4b46b58-7080-4678-82b4-e76babdaafe4",
   "metadata": {},
   "outputs": [],
   "source": [
    "# second merging after taking a look at the reports\n",
    "topics_to_merge = [\n",
    "    [26,10], #green cars/car production\n",
    "    [14,3], #pollution lawsuits included\n",
    "    \n",
    "] \n",
    "topic_model.merge_topics(docs, topics_to_merge)"
   ]
  },
  {
   "cell_type": "code",
   "execution_count": 24,
   "id": "9e496d82-98ba-484a-8d14-e81f5a166d00",
   "metadata": {},
   "outputs": [
    {
     "data": {
      "text/html": [
       "<div>\n",
       "<style scoped>\n",
       "    .dataframe tbody tr th:only-of-type {\n",
       "        vertical-align: middle;\n",
       "    }\n",
       "\n",
       "    .dataframe tbody tr th {\n",
       "        vertical-align: top;\n",
       "    }\n",
       "\n",
       "    .dataframe thead th {\n",
       "        text-align: right;\n",
       "    }\n",
       "</style>\n",
       "<table border=\"1\" class=\"dataframe\">\n",
       "  <thead>\n",
       "    <tr style=\"text-align: right;\">\n",
       "      <th></th>\n",
       "      <th>Topic</th>\n",
       "      <th>Count</th>\n",
       "      <th>Name</th>\n",
       "    </tr>\n",
       "  </thead>\n",
       "  <tbody>\n",
       "    <tr>\n",
       "      <th>0</th>\n",
       "      <td>-1</td>\n",
       "      <td>15018</td>\n",
       "      <td>-1_de_new_oil_process</td>\n",
       "    </tr>\n",
       "    <tr>\n",
       "      <th>1</th>\n",
       "      <td>0</td>\n",
       "      <td>17687</td>\n",
       "      <td>0_sustainability_esg_impact_strategy</td>\n",
       "    </tr>\n",
       "    <tr>\n",
       "      <th>2</th>\n",
       "      <td>1</td>\n",
       "      <td>15932</td>\n",
       "      <td>1_emissions_scope_co2_reduce</td>\n",
       "    </tr>\n",
       "    <tr>\n",
       "      <th>3</th>\n",
       "      <td>2</td>\n",
       "      <td>13283</td>\n",
       "      <td>2_waste_recycling_circular_batteries</td>\n",
       "    </tr>\n",
       "    <tr>\n",
       "      <th>4</th>\n",
       "      <td>3</td>\n",
       "      <td>13164</td>\n",
       "      <td>3_offshore_renewables_storage_grid</td>\n",
       "    </tr>\n",
       "    <tr>\n",
       "      <th>5</th>\n",
       "      <td>4</td>\n",
       "      <td>10044</td>\n",
       "      <td>4_plastic_packaging_bottles_reusable</td>\n",
       "    </tr>\n",
       "    <tr>\n",
       "      <th>6</th>\n",
       "      <td>5</td>\n",
       "      <td>6196</td>\n",
       "      <td>5_charging_ev_trucks_hybrid</td>\n",
       "    </tr>\n",
       "    <tr>\n",
       "      <th>7</th>\n",
       "      <td>6</td>\n",
       "      <td>6109</td>\n",
       "      <td>6_climate_global_risks_paris</td>\n",
       "    </tr>\n",
       "    <tr>\n",
       "      <th>8</th>\n",
       "      <td>7</td>\n",
       "      <td>5597</td>\n",
       "      <td>7_biodiversity_conservation_deforestation_areas</td>\n",
       "    </tr>\n",
       "    <tr>\n",
       "      <th>9</th>\n",
       "      <td>8</td>\n",
       "      <td>5243</td>\n",
       "      <td>8_saf_fuels_sustainable_cell</td>\n",
       "    </tr>\n",
       "    <tr>\n",
       "      <th>10</th>\n",
       "      <td>9</td>\n",
       "      <td>5052</td>\n",
       "      <td>9_billion_market_2021_growth</td>\n",
       "    </tr>\n",
       "    <tr>\n",
       "      <th>11</th>\n",
       "      <td>10</td>\n",
       "      <td>5027</td>\n",
       "      <td>10_farmers_cocoa_regenerative_practices</td>\n",
       "    </tr>\n",
       "    <tr>\n",
       "      <th>12</th>\n",
       "      <td>11</td>\n",
       "      <td>3984</td>\n",
       "      <td>11_cloud_digital_ai_services</td>\n",
       "    </tr>\n",
       "    <tr>\n",
       "      <th>13</th>\n",
       "      <td>12</td>\n",
       "      <td>3605</td>\n",
       "      <td>12_devices_watch_pixel_ipad</td>\n",
       "    </tr>\n",
       "    <tr>\n",
       "      <th>14</th>\n",
       "      <td>13</td>\n",
       "      <td>3201</td>\n",
       "      <td>13_2022_production_years_operational</td>\n",
       "    </tr>\n",
       "    <tr>\n",
       "      <th>15</th>\n",
       "      <td>14</td>\n",
       "      <td>3040</td>\n",
       "      <td>14_employees_europe_across_sites</td>\n",
       "    </tr>\n",
       "    <tr>\n",
       "      <th>16</th>\n",
       "      <td>15</td>\n",
       "      <td>1959</td>\n",
       "      <td>15_twitter_follow_newsletter_free</td>\n",
       "    </tr>\n",
       "    <tr>\n",
       "      <th>17</th>\n",
       "      <td>16</td>\n",
       "      <td>1706</td>\n",
       "      <td>16_comment_declined_investment_spokesperson</td>\n",
       "    </tr>\n",
       "    <tr>\n",
       "      <th>18</th>\n",
       "      <td>17</td>\n",
       "      <td>1583</td>\n",
       "      <td>17_risks_management_assessment_statements</td>\n",
       "    </tr>\n",
       "    <tr>\n",
       "      <th>19</th>\n",
       "      <td>18</td>\n",
       "      <td>1529</td>\n",
       "      <td>18_safety_front_system_drivers</td>\n",
       "    </tr>\n",
       "    <tr>\n",
       "      <th>20</th>\n",
       "      <td>19</td>\n",
       "      <td>1079</td>\n",
       "      <td>19_tunnel_race_teams_f1</td>\n",
       "    </tr>\n",
       "    <tr>\n",
       "      <th>21</th>\n",
       "      <td>20</td>\n",
       "      <td>930</td>\n",
       "      <td>20_green_bonds_issued_sustainability</td>\n",
       "    </tr>\n",
       "    <tr>\n",
       "      <th>22</th>\n",
       "      <td>21</td>\n",
       "      <td>809</td>\n",
       "      <td>21_products_customers_also_spare</td>\n",
       "    </tr>\n",
       "    <tr>\n",
       "      <th>23</th>\n",
       "      <td>22</td>\n",
       "      <td>744</td>\n",
       "      <td>22_women_diversity_inclusion_equity</td>\n",
       "    </tr>\n",
       "    <tr>\n",
       "      <th>24</th>\n",
       "      <td>23</td>\n",
       "      <td>646</td>\n",
       "      <td>23_bengaluru_financial_sustainability_gri</td>\n",
       "    </tr>\n",
       "    <tr>\n",
       "      <th>25</th>\n",
       "      <td>24</td>\n",
       "      <td>622</td>\n",
       "      <td>24_pandemic_coronavirus_challenges_2021</td>\n",
       "    </tr>\n",
       "    <tr>\n",
       "      <th>26</th>\n",
       "      <td>25</td>\n",
       "      <td>609</td>\n",
       "      <td>25_misleading_greenpeace_environmentally_green...</td>\n",
       "    </tr>\n",
       "    <tr>\n",
       "      <th>27</th>\n",
       "      <td>26</td>\n",
       "      <td>551</td>\n",
       "      <td>26_awards_design_received_sustainability</td>\n",
       "    </tr>\n",
       "  </tbody>\n",
       "</table>\n",
       "</div>"
      ],
      "text/plain": [
       "    Topic  Count                                               Name\n",
       "0      -1  15018                              -1_de_new_oil_process\n",
       "1       0  17687               0_sustainability_esg_impact_strategy\n",
       "2       1  15932                       1_emissions_scope_co2_reduce\n",
       "3       2  13283               2_waste_recycling_circular_batteries\n",
       "4       3  13164                 3_offshore_renewables_storage_grid\n",
       "5       4  10044               4_plastic_packaging_bottles_reusable\n",
       "6       5   6196                        5_charging_ev_trucks_hybrid\n",
       "7       6   6109                       6_climate_global_risks_paris\n",
       "8       7   5597    7_biodiversity_conservation_deforestation_areas\n",
       "9       8   5243                       8_saf_fuels_sustainable_cell\n",
       "10      9   5052                       9_billion_market_2021_growth\n",
       "11     10   5027            10_farmers_cocoa_regenerative_practices\n",
       "12     11   3984                       11_cloud_digital_ai_services\n",
       "13     12   3605                        12_devices_watch_pixel_ipad\n",
       "14     13   3201               13_2022_production_years_operational\n",
       "15     14   3040                   14_employees_europe_across_sites\n",
       "16     15   1959                  15_twitter_follow_newsletter_free\n",
       "17     16   1706        16_comment_declined_investment_spokesperson\n",
       "18     17   1583          17_risks_management_assessment_statements\n",
       "19     18   1529                     18_safety_front_system_drivers\n",
       "20     19   1079                            19_tunnel_race_teams_f1\n",
       "21     20    930               20_green_bonds_issued_sustainability\n",
       "22     21    809                   21_products_customers_also_spare\n",
       "23     22    744                22_women_diversity_inclusion_equity\n",
       "24     23    646          23_bengaluru_financial_sustainability_gri\n",
       "25     24    622            24_pandemic_coronavirus_challenges_2021\n",
       "26     25    609  25_misleading_greenpeace_environmentally_green...\n",
       "27     26    551           26_awards_design_received_sustainability"
      ]
     },
     "execution_count": 24,
     "metadata": {},
     "output_type": "execute_result"
    }
   ],
   "source": [
    "topic_model.get_topic_info()"
   ]
  },
  {
   "cell_type": "code",
   "execution_count": null,
   "id": "62a844ff-ac5d-4487-b9a1-9b7b4ba8d6d0",
   "metadata": {},
   "outputs": [],
   "source": [
    "from wordcloud import WordCloud\n",
    "\n",
    "def create_wordcloud(model, topic, save_path = None):\n",
    "    text = {word: value for word, value in model.get_topic(topic)}\n",
    "    wc = WordCloud(background_color=\"white\", max_words=1000)\n",
    "    wc.generate_from_frequencies(text)\n",
    "    plt.imshow(wc, interpolation=\"bilinear\")\n",
    "    plt.axis(\"off\")\n",
    "    if save_path:\n",
    "        plt.savefig(os.path.join(save_path, f\"wordcloud_{topic}.png\"))\n",
    "    else:\n",
    "        plt.show()\n"
   ]
  },
  {
   "cell_type": "code",
   "execution_count": 33,
   "id": "c02442c1-c739-4ccd-bde9-168fff9b29a5",
   "metadata": {},
   "outputs": [],
   "source": [
    "sust_topics = [0,1,2,3,4,5,6,7,8,10,11,20,25]\n",
    "# save_path = \".\\\\visualizations\"\n",
    "\n",
    "# for i in sust_topics:\n",
    "#     create_wordcloud(topic_model, i, save_path = save_path)"
   ]
  },
  {
   "cell_type": "code",
   "execution_count": null,
   "id": "353eb75b-4821-40e1-90db-cea77c65a0ee",
   "metadata": {},
   "outputs": [],
   "source": [
    "text = {word: value for word, value in topic_model.get_topic(0)}"
   ]
  },
  {
   "cell_type": "code",
   "execution_count": 48,
   "id": "198dec6a-d507-4813-8c42-0b78f00932b6",
   "metadata": {},
   "outputs": [],
   "source": [
    "topic_labelling = {0: \"ESG Governance\", 1: \"Emission Reduction\", 2: \"Waste Management\", 3: \"Renewable Energy\", 4: \"Plastics Recycling\", 5: \"Electrical Vehicles\", 6:\"Climate Change Risk Mitigation\", 7: \"Nature Conservation\", 8: \"Green Transportation\",\n",
    "                   10: \"Sustainable Agriculture\", 11:\"Sustainable Innovation\", 20:\"Sustainable Finance\", 25:\"Greenwashing Accusations\"}"
   ]
  },
  {
   "cell_type": "code",
   "execution_count": 49,
   "id": "261056d3-c2ff-4264-8f2c-f655621364ad",
   "metadata": {},
   "outputs": [],
   "source": [
    "df_analyze = df_comb[df_comb['topics'].isin(sust_topics)]\n",
    "df_analyze.reset_index(inplace=True, drop = True)"
   ]
  },
  {
   "cell_type": "code",
   "execution_count": 50,
   "id": "344c9f41-fb68-483a-9c5d-15245b81c085",
   "metadata": {},
   "outputs": [],
   "source": [
    "df_analyze['topic_labels'] = df_analyze['topics'].apply(lambda x: topic_labelling[x])"
   ]
  },
  {
   "cell_type": "code",
   "execution_count": 69,
   "id": "b837ee74-b0f5-4da7-8e10-38ef4c9d1b4a",
   "metadata": {},
   "outputs": [
    {
     "data": {
      "text/plain": [
       "(11, 10)"
      ]
     },
     "execution_count": 69,
     "metadata": {},
     "output_type": "execute_result"
    }
   ],
   "source": [
    "df_analyze[(df_analyze['topic_labels']=='Greenwashing Accusations')&(df_analyze['doc_type'] =='report')].shape"
   ]
  },
  {
   "cell_type": "code",
   "execution_count": 70,
   "id": "35ba054a-236b-4a2f-b28f-7bcdc0f00f28",
   "metadata": {},
   "outputs": [
    {
     "data": {
      "text/plain": [
       "<Figure size 1000x600 with 0 Axes>"
      ]
     },
     "metadata": {},
     "output_type": "display_data"
    },
    {
     "data": {
      "image/png": "[encoded data removed]",
      "text/plain": [
       "<Figure size 640x480 with 1 Axes>"
      ]
     },
     "metadata": {},
     "output_type": "display_data"
    }
   ],
   "source": [
    "# Group the data by 'topic_labels' and 'company', and count the number of rows\n",
    "df_counts = df_analyze.groupby(['topic_labels', 'company']).size().unstack()\n",
    "\n",
    "# Create a stacked bar chart\n",
    "plt.figure(figsize=(10, 6))\n",
    "df_counts.plot(kind='bar', stacked=True)\n",
    "plt.title('Counts per Topic Label')\n",
    "plt.xlabel('Topic Label')\n",
    "plt.ylabel('Count')\n",
    "plt.legend(title='Company')\n",
    "plt.show()"
   ]
  },
  {
   "cell_type": "markdown",
   "id": "6b8d18c6-974c-4062-9e7c-535f4a1003e6",
   "metadata": {
    "jp-MarkdownHeadingCollapsed": true,
    "tags": []
   },
   "source": [
    "### Using Sentence and Topic Embedding Similarity"
   ]
  },
  {
   "cell_type": "code",
   "execution_count": null,
   "id": "e246b87c-b843-408b-8ebc-9ac1c4823cbe",
   "metadata": {},
   "outputs": [],
   "source": [
    "#topic_model.update_topics(docs, topics=new_topics_embed, vectorizer_model = vectorizer_model,representation_model = representation_model)\n",
    "topic_model.visualize_documents(docs, reduced_embeddings=reduced_embeddings, \n",
    "                                hide_document_hover=False, hide_annotations=True)"
   ]
  },
  {
   "cell_type": "code",
   "execution_count": null,
   "id": "6222048f-db22-422a-8a93-9f9b5f22597e",
   "metadata": {},
   "outputs": [],
   "source": [
    "topic_model.get_topic_info()"
   ]
  },
  {
   "cell_type": "markdown",
   "id": "ca25071a-e87c-4e57-98d5-19f9dc14e9d3",
   "metadata": {
    "jp-MarkdownHeadingCollapsed": true,
    "tags": []
   },
   "source": [
    "## Fitting different embedding models"
   ]
  },
  {
   "cell_type": "code",
   "execution_count": null,
   "id": "54539d6b-b58f-4d83-b09b-ad27db377968",
   "metadata": {},
   "outputs": [],
   "source": [
    "# mpnet - don't have high hopes for this one\n",
    "model_mpnet = SentenceTransformer('all-mpnet-base-v2')\n",
    "mpnet_embeddings = gen_embeddings(len(df_comb), model_mpnet) "
   ]
  },
  {
   "cell_type": "markdown",
   "id": "e2ff67d0-bd6d-45e0-9089-c6e2b862e6fa",
   "metadata": {},
   "source": [
    "np.save('mpnet_embeddings', mpnet_embeddings)"
   ]
  },
  {
   "cell_type": "code",
   "execution_count": null,
   "id": "027c2f07-696c-4174-8bfd-3fac2c2d0809",
   "metadata": {},
   "outputs": [],
   "source": [
    "len(clim_embeddings)"
   ]
  },
  {
   "cell_type": "code",
   "execution_count": null,
   "id": "fc6b182c-1cef-4074-8159-96735d12d8f8",
   "metadata": {},
   "outputs": [],
   "source": [
    "topics_clim = topic_model.fit_transform(docs, clim_embeddings)"
   ]
  },
  {
   "cell_type": "code",
   "execution_count": null,
   "id": "f8bb6e05-5ada-4225-ae28-dcd219476edd",
   "metadata": {},
   "outputs": [],
   "source": [
    "topic_model.get_topic_info()"
   ]
  },
  {
   "cell_type": "code",
   "execution_count": null,
   "id": "91e8303f-0ed7-4e43-a228-dc201a0f0db2",
   "metadata": {},
   "outputs": [],
   "source": [
    "reduced_clim_embeddings = UMAP(n_neighbors=10, n_components=2, min_dist=0.0,init = 'random', metric = 'cosine', random_state = 0).fit_transform(clim_embeddings)\n",
    "topic_model.visualize_documents(docs, reduced_embeddings=reduced_clim_embeddings)"
   ]
  },
  {
   "cell_type": "code",
   "execution_count": null,
   "id": "1e1e98cf-ff19-41eb-8d4e-b03842db85f2",
   "metadata": {},
   "outputs": [],
   "source": []
  },
  {
   "cell_type": "code",
   "execution_count": null,
   "id": "7706ba02-c193-423d-a689-a2ae6af099ac",
   "metadata": {},
   "outputs": [],
   "source": [
    "topic_term_matrix = topic_model.c_tf_idf_\n",
    "words = topic_model.vectorizer_model.get_feature_names_out()"
   ]
  },
  {
   "cell_type": "code",
   "execution_count": null,
   "id": "f27cfbcb-9ece-4702-a963-41e57fa62968",
   "metadata": {},
   "outputs": [],
   "source": [
    "topic_words"
   ]
  },
  {
   "cell_type": "markdown",
   "id": "9013fc42-10e8-4790-b36b-bee92d38bc97",
   "metadata": {
    "jp-MarkdownHeadingCollapsed": true,
    "tags": []
   },
   "source": [
    "## Calculating Coherence"
   ]
  },
  {
   "cell_type": "code",
   "execution_count": null,
   "id": "2d9496b6-0129-43fc-81f6-54bf1103e718",
   "metadata": {},
   "outputs": [],
   "source": [
    "documents = pd.DataFrame({\"Document\": filtered_text,\n",
    "                          \"ID\": range(len(filtered_text)),\n",
    "                          \"Topic\": topics[0]})\n",
    "documents_per_topic = documents.groupby(['Topic'], as_index=False).agg({'Document': ' '.join})\n",
    "cleaned_docs = topic_model._preprocess_text(documents_per_topic.Document.values)\n",
    "\n",
    "# Extract vectorizer and analyzer from BERTopic\n",
    "vectorizer = topic_model.vectorizer_model\n",
    "analyzer = vectorizer.build_analyzer()\n",
    "\n",
    "# Extract features for Topic Coherence evaluation\n",
    "words = vectorizer.get_feature_names_out()\n",
    "tokens = [analyzer(doc) for doc in cleaned_docs]\n",
    "dictionary = corpora.Dictionary(tokens)\n",
    "corpus = [dictionary.doc2bow(token) for token in tokens]\n",
    "topic_words = [[words for words, _ in topic_model.get_topic(topic)] \n",
    "               for topic in range(len(set(topics[0]))-1)]\n",
    "\n",
    "# Evaluate\n",
    "coherence_model = CoherenceModel(topics=topic_words, \n",
    "                                 texts=tokens, \n",
    "                                 corpus=corpus,\n",
    "                                 dictionary=dictionary, \n",
    "                                 coherence='c_v')\n",
    "coherence = coherence_model.get_coherence()"
   ]
  },
  {
   "cell_type": "code",
   "execution_count": null,
   "id": "2cb20630-b5d6-4930-9d83-d2861dd75ae5",
   "metadata": {},
   "outputs": [],
   "source": [
    "coherence"
   ]
  },
  {
   "cell_type": "code",
   "execution_count": null,
   "id": "891ddbd0-1cc5-48c8-9748-2b651ec4a311",
   "metadata": {},
   "outputs": [],
   "source": [
    "kmeans_model = KMeans(n_clusters = k, init = 'k-means++',random_state = 0, n_init = 10)"
   ]
  },
  {
   "cell_type": "code",
   "execution_count": null,
   "id": "26636350-f489-4640-93f9-104208c8079b",
   "metadata": {},
   "outputs": [],
   "source": [
    "topic_model = BERTopic(\n",
    "    vectorizer_model = vectorizer_model,\n",
    "    umap_model = umap_model,\n",
    "    hdbscan_model = kmeans_model,\n",
    "    language=\"english\", \n",
    "    representation_model = representation_model, #diversify topic words\n",
    "    calculate_probabilities=False, \n",
    "    verbose=True, \n",
    "    #nr_topics = 'auto'\n",
    "    # min_topic_size = 50, \n",
    "    # n_gram_range = (1,2)\n",
    ")\n",
    "topics = topic_model.fit_transform(docs, embeddings)"
   ]
  }
 ],
 "metadata": {
  "kernelspec": {
   "display_name": "Python 3 (ipykernel)",
   "language": "python",
   "name": "python3"
  },
  "language_info": {
   "codemirror_mode": {
    "name": "ipython",
    "version": 3
   },
   "file_extension": ".py",
   "mimetype": "text/x-python",
   "name": "python",
   "nbconvert_exporter": "python",
   "pygments_lexer": "ipython3",
   "version": "3.10.9"
  }
 },
 "nbformat": 4,
 "nbformat_minor": 5
}
