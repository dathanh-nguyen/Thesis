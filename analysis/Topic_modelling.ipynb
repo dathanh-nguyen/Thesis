{
 "cells": [
  {
   "cell_type": "markdown",
   "id": "614c994f-ad2b-4e61-8b35-fc5314986f0c",
   "metadata": {},
   "source": [
    "## Set-up and Data Loading"
   ]
  },
  {
   "cell_type": "code",
   "execution_count": null,
   "id": "de441155-9dd7-45d9-91fc-e5f73188d5c6",
   "metadata": {},
   "outputs": [],
   "source": [
    "from sentence_transformers import SentenceTransformer, util, models\n",
    "from transformers import pipeline, AutoTokenizer, AutoModel, AutoModelForSequenceClassification\n",
    "import numpy as np\n",
    "import pandas as pd\n",
    "import torch\n",
    "import matplotlib.pyplot as plt\n",
    "from umap import UMAP\n",
    "from hdbscan import HDBSCAN\n",
    "import os\n",
    "from bertopic import BERTopic\n",
    "from sklearn.feature_extraction.text import CountVectorizer\n",
    "from nltk.corpus import stopwords\n",
    "from bertopic.representation import MaximalMarginalRelevance\n",
    "from sklearn.manifold import TSNE\n",
    "import plotly.express as px\n",
    "from tqdm.auto import tqdm\n",
    "import seaborn as sns\n",
    "import gensim\n",
    "import gensim.corpora as corpora\n",
    "from gensim.models.coherencemodel import CoherenceModel\n",
    "from octis.evaluation_metrics.diversity_metrics import TopicDiversity"
   ]
  },
  {
   "cell_type": "code",
   "execution_count": null,
   "id": "3c20c7e0-e245-4908-afee-e72805d49bee",
   "metadata": {},
   "outputs": [],
   "source": [
    "path_data = 'C:\\\\Users\\\\tnguyen10\\\\OneDrive - Deloitte (O365D)\\\\Documents\\\\GitHub\\\\Thesis\\\\data_structured'"
   ]
  },
  {
   "cell_type": "code",
   "execution_count": null,
   "id": "692530d8-9d18-4b3a-bf8e-5130b54b7924",
   "metadata": {},
   "outputs": [],
   "source": [
    "df_report = pd.read_csv(os.path.join(path_data,'report_sentences.csv'))\n",
    "df_pdf = pd.read_csv(os.path.join(path_data,'article_sentences_pdf.csv'))\n",
    "df_gnews = pd.read_csv(os.path.join(path_data,'article_sentences_gnews.csv'))\n",
    "df_article = pd.concat([df_pdf,df_gnews])"
   ]
  },
  {
   "cell_type": "code",
   "execution_count": null,
   "id": "fcda0dba-3d58-4022-8a28-96474f6d26b9",
   "metadata": {},
   "outputs": [],
   "source": [
    "df_article.shape"
   ]
  },
  {
   "cell_type": "code",
   "execution_count": null,
   "id": "96319692-6de7-4da7-b8f7-9f0e971f6a67",
   "metadata": {},
   "outputs": [],
   "source": [
    "df_report.shape"
   ]
  },
  {
   "cell_type": "code",
   "execution_count": null,
   "id": "25d091b4-3ac4-4c63-abbc-ec575afb358c",
   "metadata": {},
   "outputs": [],
   "source": [
    "df_article.drop_duplicates(subset = ['sentence'], inplace = True)\n",
    "df_article.reset_index(inplace = True, drop = True)"
   ]
  },
  {
   "cell_type": "code",
   "execution_count": null,
   "id": "6e2c7b79-0f2c-42e0-b143-34edec401a08",
   "metadata": {},
   "outputs": [],
   "source": [
    "sent_embedder = SentenceTransformer('all-MiniLM-L6-v2')"
   ]
  },
  {
   "cell_type": "code",
   "execution_count": null,
   "id": "b6497c87-a151-4b84-8695-4e33ee470344",
   "metadata": {},
   "outputs": [],
   "source": [
    "df_rep = df_report.copy()\n",
    "df_art = df_article.copy()"
   ]
  },
  {
   "cell_type": "code",
   "execution_count": null,
   "id": "56335fda-1d8b-4a04-8850-b3bf5bb46f21",
   "metadata": {},
   "outputs": [],
   "source": [
    "# function for generating embeddings (useful for testing out later):\n",
    "def gen_embeddings(df,model):\n",
    "    sentences = df['sentence'].tolist()\n",
    "    return model.encode(sentences)"
   ]
  },
  {
   "cell_type": "code",
   "execution_count": null,
   "id": "d500fb49-18ad-42cc-9814-d64b08b5f968",
   "metadata": {},
   "outputs": [],
   "source": [
    "# creating embeddings for the report sentences and storing them in a new column\n",
    "rep_sent = df_rep['sentence'].tolist()\n",
    "report_embeddings = sent_embedder.encode(rep_sent)\n",
    "df_rep['embeddings'] = list(report_embeddings)"
   ]
  },
  {
   "cell_type": "code",
   "execution_count": null,
   "id": "93020e41-80e9-43a9-9d41-1b388da293c3",
   "metadata": {},
   "outputs": [],
   "source": [
    "article_sent = df_art['sentence'].tolist()\n",
    "article_embeddings = sent_embedder.encode(article_sent)\n",
    "df_art['embeddings'] = list(article_embeddings)"
   ]
  },
  {
   "cell_type": "markdown",
   "id": "5ace169f-4bbd-444d-ad55-abe973a3c23a",
   "metadata": {},
   "source": [
    "- now we test out BERTopic \n",
    "- gonna try it with the overlapped sentence embeddings, non-overlapped?, and climateBERT + potentially FINbert\n",
    "- then we try to manipulate the different parameters - tuning?"
   ]
  },
  {
   "cell_type": "code",
   "execution_count": null,
   "id": "0032ee3f-81f7-4edf-9b38-e4c20c0e0fed",
   "metadata": {},
   "outputs": [],
   "source": [
    "# df_rep.to_pickle(os.path.join(path_data,'rep.pkl'))\n",
    "# df_art.to_pickle(os.path.join(path_data,'art.pkl'))\n",
    "df_art = pd.read_pickle(os.path.join(path_data,'art.pkl'))\n",
    "df_rep = pd.read_pickle(os.path.join(path_data,'rep.pkl'))"
   ]
  },
  {
   "cell_type": "code",
   "execution_count": null,
   "id": "923dca8d-1d86-4597-adac-f5e8bafaec2e",
   "metadata": {},
   "outputs": [],
   "source": [
    "# combining the two datasets in preparation for the clustering\n",
    "df_comb = pd.concat([df_art, df_rep])"
   ]
  },
  {
   "cell_type": "code",
   "execution_count": null,
   "id": "ea008cdf-1f8f-4e37-8371-269067cf24d7",
   "metadata": {},
   "outputs": [],
   "source": [
    "df_comb['char_length'] = df_comb['sentence'].apply(lambda x: len(x))"
   ]
  },
  {
   "cell_type": "code",
   "execution_count": null,
   "id": "f024f254-462a-4405-bd97-9ed2e41e48df",
   "metadata": {},
   "outputs": [],
   "source": [
    "df_comb.shape"
   ]
  },
  {
   "cell_type": "code",
   "execution_count": null,
   "id": "1d46f357-e79b-471c-9aed-6754136064dd",
   "metadata": {},
   "outputs": [],
   "source": [
    "df_comb = df_comb[(df_comb['char_length'] > 20)]\n",
    "df_comb.shape"
   ]
  },
  {
   "cell_type": "code",
   "execution_count": null,
   "id": "1c83fb27-d222-4103-918d-e65122a51d4f",
   "metadata": {},
   "outputs": [],
   "source": [
    "df_comb.reset_index(inplace = True, drop = True)"
   ]
  },
  {
   "cell_type": "code",
   "execution_count": null,
   "id": "7a687351-7243-4fe1-b9b3-b7317a3e61d8",
   "metadata": {},
   "outputs": [],
   "source": [
    "docs = df_comb['sentence']"
   ]
  },
  {
   "cell_type": "code",
   "execution_count": null,
   "id": "565f7210-63f5-4175-ab43-0cc60cca166a",
   "metadata": {},
   "outputs": [],
   "source": [
    "# article_centroid = np.mean(df_art['embeddings'].values, axis = 0)\n",
    "# report_centroid = np.mean(df_rep['embeddings'].values, axis = 0)\n",
    "\n",
    "# dif = report_centroid - article_centroid \n",
    "# # Convert the article vectors\n",
    "# def difference(org_vec):\n",
    "#     return org_vec + dif"
   ]
  },
  {
   "cell_type": "code",
   "execution_count": null,
   "id": "4c3e566c-33ca-4c64-9a19-25db4d90cd76",
   "metadata": {},
   "outputs": [],
   "source": [
    "# df_art['new_embeddings'] = df_art['embeddings'].apply(difference)\n",
    "# df_rep['new_embeddings'] = df_rep['embeddings']"
   ]
  },
  {
   "cell_type": "code",
   "execution_count": null,
   "id": "aedcac37-e2b2-4a48-90ca-dce38582619a",
   "metadata": {},
   "outputs": [],
   "source": [
    "# Load the sentence embeddings and doc types from the dataframe\n",
    "embeddings = np.array(df_comb[\"embeddings\"].tolist())"
   ]
  },
  {
   "cell_type": "code",
   "execution_count": null,
   "id": "42ac6109-8785-44b1-a148-2416c2d4605b",
   "metadata": {},
   "outputs": [],
   "source": [
    "umap2d = UMAP(n_components = 2, init = 'random', random_state = 0)\n",
    "# umap3d = UMAP(n_components = 3, init = 'random', random_state = 0)\n",
    "\n",
    "proj_2d = umap2d.fit_transform(embeddings)\n",
    "# proj_3d = umap3d.fit_transform(embeddings)"
   ]
  },
  {
   "cell_type": "code",
   "execution_count": null,
   "id": "3bdea811-db05-40b2-8c00-3d2081a7b04a",
   "metadata": {},
   "outputs": [],
   "source": [
    "fig2d = px.scatter(\n",
    "    proj_2d, x = 0, y = 1, \n",
    "    color = df_comb.doc_type, labels = {'color': 'doc_type'},\n",
    "    width = 800, height = 500\n",
    ")\n",
    "# fig3d = px.scatter_3d(\n",
    "#     proj_3d, x = 0, y = 1, z = 2,\n",
    "#     color = df_comb.doc_type, labels = {'color': 'doc_type'}\n",
    "# )\n",
    "\n",
    "fig2d.show()\n",
    "# fig3d.show()"
   ]
  },
  {
   "cell_type": "code",
   "execution_count": null,
   "id": "bad3bdf6-6b13-4121-a42f-e8441e4eb219",
   "metadata": {},
   "outputs": [],
   "source": [
    "tsne2d = TSNE(n_components = 2, random_state = 0)\n",
    "tsne3d = TSNE(n_components = 3, random_state = 0)\n",
    "\n",
    "proj_2d_tsne = tsne2d.fit_transform(embeddings)\n",
    "proj_3d_tsne = tsne3d.fit_transform(embeddings)\n"
   ]
  },
  {
   "cell_type": "code",
   "execution_count": null,
   "id": "847810f8-0374-46da-89fd-f12e58234d0a",
   "metadata": {},
   "outputs": [],
   "source": [
    "fig2d_tsne = px.scatter(\n",
    "    proj_2d_tsne, x = 0, y = 1, \n",
    "    color = df_comb.doc_type, labels = {'color': 'doc_type'}\n",
    ")\n",
    "\n",
    "# fig3d_tsne = px.scatter_3d(\n",
    "#     proj_3d_tsne, x = 0, y = 1, z = 2,\n",
    "#     color = df_comb.doc_type, labels = {'color': 'doc_type'}\n",
    "# )\n",
    "\n",
    "fig2d_tsne.show()\n",
    "# fig3d_tsne.show()"
   ]
  },
  {
   "cell_type": "markdown",
   "id": "355bd75d-d026-4988-820c-5b9660e34db7",
   "metadata": {},
   "source": [
    "Based on the above visualizations, we can see that unlike Boelders, we do not require to overlap the sentence embeddings over each other, as there are not large semantic differences between the news articles and the reports. The jargon and language seems to be mostly the same, as such we can just use the original embeddings."
   ]
  },
  {
   "cell_type": "markdown",
   "id": "63e423ea-1959-488e-9a75-afa3cd5bcc74",
   "metadata": {},
   "source": [
    "## BERTopic Set-up"
   ]
  },
  {
   "cell_type": "markdown",
   "id": "f8813f8c-a8e0-4520-9028-ae3686624a86",
   "metadata": {},
   "source": [
    "### Testing UMAP parameters"
   ]
  },
  {
   "cell_type": "code",
   "execution_count": null,
   "id": "7dcab7cc-d14f-41b3-8b5e-e28c63d46e6b",
   "metadata": {},
   "outputs": [],
   "source": [
    "colors = df_comb['doc_type']\n",
    "c_map = {\n",
    "    'news': '#FAFF00',\n",
    "    'report': '#1C17FF'\n",
    "}\n",
    "colors = [c_map[x] for x in colors]\n",
    "len(colors)"
   ]
  },
  {
   "cell_type": "code",
   "execution_count": null,
   "id": "371c6704-f403-41cb-b27f-64b873b66afa",
   "metadata": {},
   "outputs": [],
   "source": [
    "fig, ax = plt.subplots(2, 3, figsize=(21, 10))\n",
    "nns = [5,10, 15, 30, 50, 100]\n",
    "#2, 3, 4\n",
    "i, j = 0, 0\n",
    "for n_neighbors in tqdm(nns):\n",
    "    fit = UMAP(n_neighbors=n_neighbors, random_state = 0)\n",
    "    u = fit.fit_transform(embeddings)\n",
    "    sns.scatterplot(x=u[:,0], y=u[:,1], ax=ax[j, i])\n",
    "    ax[j, i].set_title(f'n={n_neighbors}')\n",
    "    if i < 2: i += 1\n",
    "    else: i = 0; j += 1"
   ]
  },
  {
   "cell_type": "code",
   "execution_count": null,
   "id": "7a21e0ec-8ce5-4302-ae1e-6cdbb4f228d6",
   "metadata": {},
   "outputs": [],
   "source": [
    "fig.savefig('full_figure.png')"
   ]
  },
  {
   "cell_type": "code",
   "execution_count": null,
   "id": "19d32230-51a1-4f6b-85bb-ad7bfba805df",
   "metadata": {},
   "outputs": [],
   "source": [
    "fig, ax = plt.subplots(1, 2, figsize=(14, 14))\n",
    "nns = [3,4]\n",
    "#2, 3, 4\n",
    "i, j = 0, 0\n",
    "for n_neighbors in tqdm(nns):\n",
    "    fit = UMAP(n_neighbors=n_neighbors, random_state = 0)\n",
    "    u = fit.fit_transform(embeddings)\n",
    "    sns.scatterplot(x=u[:,0], y=u[:,1], c=colors, ax=ax[i])\n",
    "    ax[i].set_title(f'n={n_neighbors}')\n",
    "    i +=1"
   ]
  },
  {
   "cell_type": "code",
   "execution_count": null,
   "id": "60662f12-090c-4ddb-81e5-58293876f054",
   "metadata": {},
   "outputs": [],
   "source": [
    "fit = UMAP(n_neighbors=10, n_components=3, min_dist=0.0, init = 'random', metric = 'cosine', random_state = 0)\n",
    "u = fit.fit_transform(embeddings)\n",
    "\n",
    "# the lowest min distance finally creates some separation - what does increasing it do?"
   ]
  },
  {
   "cell_type": "code",
   "execution_count": null,
   "id": "98b52986-e5ce-4c91-850a-734c48564651",
   "metadata": {},
   "outputs": [],
   "source": [
    "fig = px.scatter_3d(\n",
    "    x=u[:,0], y=u[:,1], z=u[:,2],\n",
    "    color=df_comb.doc_type,\n",
    "    labels = {'color': 'doc_type'}\n",
    ")\n",
    "\n",
    "fig.show()"
   ]
  },
  {
   "cell_type": "code",
   "execution_count": null,
   "id": "accf2f5c-277f-4777-9c2c-e575c68b3d42",
   "metadata": {},
   "outputs": [],
   "source": [
    "# 2D representation\n",
    "fit2d = UMAP(n_neighbors=15, n_components=2, min_dist=0.0, init = 'random', metric = 'cosine', random_state = 0)\n",
    "u2d = fit.fit_transform(embeddings)\n",
    "\n",
    "fig2d = px.scatter(\n",
    "    x=u2d[:,0], y=u2d[:,1],\n",
    "    color=df_comb.doc_type,\n",
    "    labels = {'color': 'doc_type'},\n",
    "    width = 800, height = 500\n",
    ")\n",
    "\n",
    "fig2d.show()"
   ]
  },
  {
   "cell_type": "code",
   "execution_count": null,
   "id": "2351ecae-d341-4116-833a-0a0b8b194ddf",
   "metadata": {},
   "outputs": [],
   "source": [
    "# 2D representation\n",
    "fit2d = UMAP(n_neighbors=10, n_components=2, min_dist=0.0, init = 'random', metric = 'cosine', random_state = 0)\n",
    "u2d = fit.fit_transform(embeddings)\n",
    "\n",
    "fig2d = px.scatter(\n",
    "    x=u2d[:,0], y=u2d[:,1],\n",
    "    color=df_comb.doc_type,\n",
    "    labels = {'color': 'doc_type'},\n",
    "    width = 800, height = 500\n",
    ")\n",
    "\n",
    "fig2d.show()"
   ]
  },
  {
   "cell_type": "markdown",
   "id": "46c7cc98-2b9e-433d-9de1-17ee5af6d3cf",
   "metadata": {},
   "source": [
    "### Clustering with HDBSCAN"
   ]
  },
  {
   "cell_type": "code",
   "execution_count": null,
   "id": "016b8bb1-1339-476a-889f-ba735a606e41",
   "metadata": {},
   "outputs": [],
   "source": [
    "clusterer = HDBSCAN(min_cluster_size = 400)\n",
    "clusterer.fit(u)"
   ]
  },
  {
   "cell_type": "code",
   "execution_count": null,
   "id": "c9624a70-9da2-41c5-8ea5-5e0e14b027b6",
   "metadata": {},
   "outputs": [],
   "source": [
    "clusterer.condensed_tree_.plot(select_clusters=True)"
   ]
  },
  {
   "cell_type": "code",
   "execution_count": null,
   "id": "83f53f79-c800-49f8-b96c-0cbb6f263352",
   "metadata": {},
   "outputs": [],
   "source": [
    "clusterer = HDBSCAN(min_cluster_size = 400, min_samples = 50, metric = 'euclidean')\n",
    "clusterer.fit(u)\n",
    "clusterer.condensed_tree_.plot(select_clusters=True)"
   ]
  },
  {
   "cell_type": "markdown",
   "id": "7cf67447-517a-45ea-8d2f-711b30484235",
   "metadata": {},
   "source": [
    "## BERTopic"
   ]
  },
  {
   "cell_type": "code",
   "execution_count": null,
   "id": "6a02a5b6-5f5c-444e-b983-702ce379d1cb",
   "metadata": {},
   "outputs": [],
   "source": [
    "# getting stopwords\n",
    "stopwords = list(stopwords.words('english'))"
   ]
  },
  {
   "cell_type": "code",
   "execution_count": null,
   "id": "7aa25b91-b7da-424d-b01d-97d97535472b",
   "metadata": {},
   "outputs": [],
   "source": [
    "# customizing parts of the BERTopic pipeline\n",
    "# vectorizer\n",
    "vectorizer_model = CountVectorizer(stop_words = stopwords)\n",
    "\n",
    "# umap\n",
    "umap_model = UMAP(n_neighbors=10, n_components=5, min_dist=0.0, init = 'random', metric = 'cosine', random_state = 0)\n",
    "\n",
    "# hdbscan\n",
    "hdbscan_model = HDBSCAN(min_cluster_size = 200, metric='euclidean', prediction_data=True)\n",
    "# 200 has decent results\n",
    "# min_samples\n",
    "# diversity topic words\n",
    "representation_model = MaximalMarginalRelevance(diversity=0.5)"
   ]
  },
  {
   "cell_type": "code",
   "execution_count": null,
   "id": "e8f66707-5dfb-4224-85ac-f5c9e1815d2b",
   "metadata": {},
   "outputs": [],
   "source": [
    "topic_model = BERTopic(\n",
    "    vectorizer_model = vectorizer_model,\n",
    "    umap_model = umap_model,\n",
    "    hdbscan_model = hdbscan_model,\n",
    "    language=\"english\", \n",
    "    representation_model = representation_model, #diversify topic words\n",
    "    calculate_probabilities=False, \n",
    "    verbose=True, \n",
    "    #nr_topics = 'auto'\n",
    "    # min_topic_size = 50, \n",
    "    # n_gram_range = (1,2)\n",
    ")\n",
    "topics = topic_model.fit_transform(docs, embeddings)"
   ]
  },
  {
   "cell_type": "code",
   "execution_count": null,
   "id": "50da5ca2-d32c-463a-899e-fd0313301b83",
   "metadata": {},
   "outputs": [],
   "source": [
    "topic_model.get_topic_info()"
   ]
  },
  {
   "cell_type": "code",
   "execution_count": null,
   "id": "fb663dfc-e6bf-45bd-9ed9-277b8c938261",
   "metadata": {},
   "outputs": [],
   "source": [
    "topic_model.get_topic_info()\n",
    "#hdbscan_model = HDBSCAN(min_cluster_size = 200, min_samples = 50, metric='euclidean', prediction_data=True)"
   ]
  },
  {
   "cell_type": "code",
   "execution_count": null,
   "id": "89aea070-332e-43b2-adf9-8c73a2793985",
   "metadata": {},
   "outputs": [],
   "source": [
    "topic_model.get_topic_info()\n",
    "# hdbscan_model = HDBSCAN(min_cluster_size = 250, metric='euclidean', prediction_data=True)"
   ]
  },
  {
   "cell_type": "code",
   "execution_count": null,
   "id": "78d7abe9-e4f2-4c3e-8e57-e8c1a2ace298",
   "metadata": {},
   "outputs": [],
   "source": [
    "topic_model.get_topic(25)"
   ]
  },
  {
   "cell_type": "code",
   "execution_count": null,
   "id": "e213ba7a-870c-424e-afbf-2297cc1fd92b",
   "metadata": {},
   "outputs": [],
   "source": [
    "topic_model.visualize_topics()"
   ]
  },
  {
   "cell_type": "code",
   "execution_count": null,
   "id": "b784d494-f061-4dea-92fa-317848954e7d",
   "metadata": {},
   "outputs": [],
   "source": [
    "topic_model.visualize_topics()"
   ]
  },
  {
   "cell_type": "code",
   "execution_count": null,
   "id": "9c6d8786-5201-4944-90ba-a140cca6796a",
   "metadata": {},
   "outputs": [],
   "source": [
    "hierarchical_topics = topic_model.hierarchical_topics(docs)"
   ]
  },
  {
   "cell_type": "code",
   "execution_count": null,
   "id": "eb9f081f-4fd8-4494-849e-16c5e1dab71f",
   "metadata": {},
   "outputs": [],
   "source": [
    ">>> tree = topic_model.get_topic_tree(hierarchical_topics)\n",
    ">>> print(tree)"
   ]
  },
  {
   "cell_type": "code",
   "execution_count": null,
   "id": "1f622186-8fd8-4537-ace5-8013d9bb516e",
   "metadata": {},
   "outputs": [],
   "source": [
    "# Reduce dimensionality of embeddings, this step is optional but much faster to perform iteratively:\n",
    "reduced_embeddings = UMAP(n_neighbors=10, n_components=2, min_dist=0.0,init = 'random', metric = 'cosine', random_state = 0).fit_transform(embeddings)\n",
    "topic_model.visualize_hierarchical_documents(docs, hierarchical_topics, reduced_embeddings=reduced_embeddings)"
   ]
  },
  {
   "cell_type": "code",
   "execution_count": null,
   "id": "b823af3c-f846-499a-8dfe-5530e90082ed",
   "metadata": {},
   "outputs": [],
   "source": [
    "topic_model.visualize_barchart(top_n_topics=10, n_words = 20, height = 400)"
   ]
  },
  {
   "cell_type": "code",
   "execution_count": null,
   "id": "bc016d63-9a02-4d86-bf7d-e3a6e8adbb80",
   "metadata": {},
   "outputs": [],
   "source": [
    "topic_model.visualize_barchart(top_n_topics=10, n_words = 10, height = 400)"
   ]
  },
  {
   "cell_type": "code",
   "execution_count": null,
   "id": "0e5bb99e-6958-4a02-9e09-571f87009734",
   "metadata": {},
   "outputs": [],
   "source": [
    "topic_model.visualize_barchart(top_n_topics=10)"
   ]
  },
  {
   "cell_type": "code",
   "execution_count": null,
   "id": "09f5da04-3fdf-4e44-92a3-e74ece489623",
   "metadata": {},
   "outputs": [],
   "source": [
    "topic_model.visualize_heatmap()"
   ]
  },
  {
   "cell_type": "code",
   "execution_count": null,
   "id": "7bf03aa1-ec5c-4478-8a65-80ffdc98be52",
   "metadata": {},
   "outputs": [],
   "source": [
    "# storing coherence?\n",
    "len(topics[0])"
   ]
  },
  {
   "cell_type": "code",
   "execution_count": null,
   "id": "fa4fa493-0452-4fdd-9d90-75fa9880f48d",
   "metadata": {},
   "outputs": [],
   "source": [
    "filtered_text = docs.to_list()"
   ]
  },
  {
   "cell_type": "markdown",
   "id": "ca25071a-e87c-4e57-98d5-19f9dc14e9d3",
   "metadata": {},
   "source": [
    "## Fitting different embedding models"
   ]
  },
  {
   "cell_type": "code",
   "execution_count": null,
   "id": "54539d6b-b58f-4d83-b09b-ad27db377968",
   "metadata": {},
   "outputs": [],
   "source": [
    "# mpnet - don't have high hopes for this one\n",
    "model_mpnet = SentenceTransformer('all-mpnet-base-v2')\n",
    "mpnet_embeddings = gen_embeddings(len(df_comb), model_mpnet) "
   ]
  },
  {
   "cell_type": "markdown",
   "id": "e2ff67d0-bd6d-45e0-9089-c6e2b862e6fa",
   "metadata": {},
   "source": [
    "np.save('mpnet_embeddings', mpnet_embeddings)"
   ]
  },
  {
   "cell_type": "code",
   "execution_count": null,
   "id": "027c2f07-696c-4174-8bfd-3fac2c2d0809",
   "metadata": {},
   "outputs": [],
   "source": [
    "len(clim_embeddings)"
   ]
  },
  {
   "cell_type": "code",
   "execution_count": null,
   "id": "fc6b182c-1cef-4074-8159-96735d12d8f8",
   "metadata": {},
   "outputs": [],
   "source": [
    "topics_clim = topic_model.fit_transform(docs, clim_embeddings)"
   ]
  },
  {
   "cell_type": "code",
   "execution_count": null,
   "id": "f8bb6e05-5ada-4225-ae28-dcd219476edd",
   "metadata": {},
   "outputs": [],
   "source": [
    "topic_model.get_topic_info()"
   ]
  },
  {
   "cell_type": "code",
   "execution_count": null,
   "id": "91e8303f-0ed7-4e43-a228-dc201a0f0db2",
   "metadata": {},
   "outputs": [],
   "source": [
    "reduced_clim_embeddings = UMAP(n_neighbors=10, n_components=2, min_dist=0.0,init = 'random', metric = 'cosine', random_state = 0).fit_transform(clim_embeddings)\n",
    "topic_model.visualize_documents(docs, reduced_embeddings=reduced_clim_embeddings)"
   ]
  },
  {
   "cell_type": "code",
   "execution_count": null,
   "id": "1e1e98cf-ff19-41eb-8d4e-b03842db85f2",
   "metadata": {},
   "outputs": [],
   "source": []
  },
  {
   "cell_type": "code",
   "execution_count": null,
   "id": "7706ba02-c193-423d-a689-a2ae6af099ac",
   "metadata": {},
   "outputs": [],
   "source": [
    "topic_term_matrix = topic_model.c_tf_idf_\n",
    "words = topic_model.vectorizer_model.get_feature_names_out()"
   ]
  },
  {
   "cell_type": "code",
   "execution_count": null,
   "id": "f27cfbcb-9ece-4702-a963-41e57fa62968",
   "metadata": {},
   "outputs": [],
   "source": [
    "topic_words"
   ]
  },
  {
   "cell_type": "markdown",
   "id": "9013fc42-10e8-4790-b36b-bee92d38bc97",
   "metadata": {},
   "source": [
    "## Calculating Coherence"
   ]
  },
  {
   "cell_type": "code",
   "execution_count": null,
   "id": "2d9496b6-0129-43fc-81f6-54bf1103e718",
   "metadata": {},
   "outputs": [],
   "source": [
    "documents = pd.DataFrame({\"Document\": filtered_text,\n",
    "                          \"ID\": range(len(filtered_text)),\n",
    "                          \"Topic\": topics[0]})\n",
    "documents_per_topic = documents.groupby(['Topic'], as_index=False).agg({'Document': ' '.join})\n",
    "cleaned_docs = topic_model._preprocess_text(documents_per_topic.Document.values)\n",
    "\n",
    "# Extract vectorizer and analyzer from BERTopic\n",
    "vectorizer = topic_model.vectorizer_model\n",
    "analyzer = vectorizer.build_analyzer()\n",
    "\n",
    "# Extract features for Topic Coherence evaluation\n",
    "words = vectorizer.get_feature_names_out()\n",
    "tokens = [analyzer(doc) for doc in cleaned_docs]\n",
    "dictionary = corpora.Dictionary(tokens)\n",
    "corpus = [dictionary.doc2bow(token) for token in tokens]\n",
    "topic_words = [[words for words, _ in topic_model.get_topic(topic)] \n",
    "               for topic in range(len(set(topics[0]))-1)]\n",
    "\n",
    "# Evaluate\n",
    "coherence_model = CoherenceModel(topics=topic_words, \n",
    "                                 texts=tokens, \n",
    "                                 corpus=corpus,\n",
    "                                 dictionary=dictionary, \n",
    "                                 coherence='c_v')\n",
    "coherence = coherence_model.get_coherence()"
   ]
  },
  {
   "cell_type": "code",
   "execution_count": null,
   "id": "2cb20630-b5d6-4930-9d83-d2861dd75ae5",
   "metadata": {},
   "outputs": [],
   "source": [
    "coherence"
   ]
  },
  {
   "cell_type": "code",
   "execution_count": null,
   "id": "891ddbd0-1cc5-48c8-9748-2b651ec4a311",
   "metadata": {},
   "outputs": [],
   "source": [
    "kmeans_model = KMeans(n_clusters = k, init = 'k-means++',random_state = 0, n_init = 10)"
   ]
  },
  {
   "cell_type": "code",
   "execution_count": null,
   "id": "26636350-f489-4640-93f9-104208c8079b",
   "metadata": {},
   "outputs": [],
   "source": [
    "topic_model = BERTopic(\n",
    "    vectorizer_model = vectorizer_model,\n",
    "    umap_model = umap_model,\n",
    "    hdbscan_model = kmeans_model,\n",
    "    language=\"english\", \n",
    "    representation_model = representation_model, #diversify topic words\n",
    "    calculate_probabilities=False, \n",
    "    verbose=True, \n",
    "    #nr_topics = 'auto'\n",
    "    # min_topic_size = 50, \n",
    "    # n_gram_range = (1,2)\n",
    ")\n",
    "topics = topic_model.fit_transform(docs, embeddings)"
   ]
  }
 ],
 "metadata": {
  "kernelspec": {
   "display_name": "Python 3 (ipykernel)",
   "language": "python",
   "name": "python3"
  },
  "language_info": {
   "codemirror_mode": {
    "name": "ipython",
    "version": 3
   },
   "file_extension": ".py",
   "mimetype": "text/x-python",
   "name": "python",
   "nbconvert_exporter": "python",
   "pygments_lexer": "ipython3",
   "version": "3.9.16"
  }
 },
 "nbformat": 4,
 "nbformat_minor": 5
}
